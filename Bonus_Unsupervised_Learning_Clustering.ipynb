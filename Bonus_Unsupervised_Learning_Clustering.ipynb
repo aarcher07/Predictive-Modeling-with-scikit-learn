{
 "cells": [
  {
   "cell_type": "markdown",
   "metadata": {},
   "source": [
    "# 0. Review\n",
    "## 0.A Scikit-Learn\n",
    "\n",
    "Scikit-Learn is a machine learning python package. It allows users to access machine learning algorithms via **object-oriented programming**."
   ]
  },
  {
   "cell_type": "markdown",
   "metadata": {},
   "source": [
    "## 0.B Data Set\n",
    "\n",
    "I will be using a dataset of antibiotic resistance in bacteria strains. \n",
    "\n",
    "- Each bacteria is labeled with its resistance to the antibiotic, azithromycin.\n",
    "- Additionally, each bacteria sample is labelled if its genome contains certain strands of DNA.\n",
    "\n",
    "We would like to learn antibiotic resistance from the bacterial genome. \n",
    "\n",
    "- Our predictors are whether strands of DNA are present.\n",
    "- Our response are resistance classes.\n",
    "\n",
    "First, we have to clean our data up. **This section will focus on data preprocessing.**\n",
    "\n",
    "\n",
    "## 0.C Data Preprocessing\n",
    "\n",
    "We did a bit of data preprocessing: \n",
    "\n",
    "- encoded the resistance feature as 0 - \"resistant,\" 1 - \"susceptible\".\n",
    "- encoded all features of the DNA strands as, 0 - \"if its genome does not contain the strand of DNA\", 1 - \"if its genome contains the strand of DNA.\"\n",
    "- standardized dataset of presence of DNA strands\n",
    "\n",
    "\n",
    "## 0.C Data Reduction\n",
    "\n",
    "We also reduce our dataset to two and three dimensions using PCA\n",
    "\n",
    "\n",
    "\n",
    "## 0.D Load Data\n",
    "\n",
    "Now, we reduced our dataset. Run the code below to load \n",
    "\n",
    "- the dataset, ```antibiotic_resistance_encoded_labels```, containing antibotic resistance phentype for each bacteria\n",
    "- the dataset, ```transformed_DNA_2d```, containing DNA data reduced to 2d using PCA\n",
    "- and the dataset, ```transformed_DNA_3d```, containing DNA data reduced to 3d using PCA\n"
   ]
  },
  {
   "cell_type": "code",
   "execution_count": null,
   "metadata": {
    "pycharm": {
     "is_executing": false
    }
   },
   "outputs": [],
   "source": [
    "import pandas as pd\n",
    "antibiotic_resistance_all_labels = pd.read_csv('datasets/antibiotic_resistance_encoded_labels',\n",
    "                                               index_col=0)\n",
    "transformed_DNA_2d = pd.read_csv('datasets/transformed_2d_df',index_col=0)\n",
    "transformed_DNA_3d = pd.read_csv('datasets/transformed_3d_df',index_col=0)"
   ]
  },
  {
   "cell_type": "markdown",
   "metadata": {},
   "source": [
    "**In this section, we will be covering unsupervised learning.**\n",
    "\n",
    "Recall that **unsupervised learning** is extracting structure from data (self-organized learning - find previously unknown patterns in data set without pre-existing labels)."
   ]
  },
  {
   "cell_type": "markdown",
   "metadata": {},
   "source": [
    "# 8. Clustering: KMeans\n",
    "\n",
    "Clustering is a means of grouping data points together based on their proximity to each other.\n",
    "\n",
    "A popular technique of clustering data is KMeans. KMeans assigns data points to a cluster based on a data points distance to the closest cluster center (centroid).\n",
    "\n",
    "How does KMeans decide cluster centers?\n",
    "\n",
    "## 8.A KMeans Algorithm\n",
    "\n",
    "\n",
    "Consider the point cloud of data,\n",
    "\n",
    "<img src=\"images/08_KMeans_00.png\" alt=\"Drawing\" style=\"width: 200px;\"/>\n",
    "\n",
    "1) *Randomly give each data point a number 1 through 3*. Each number represents a cluster assignment.\n",
    "\n",
    "<img src=\"images/08_KMeans_01.png\" alt=\"Drawing\" style=\"width: 200px;\"/>\n",
    "\n",
    "\n",
    "2a) *For each cluster assignment, compute the centroid (the center of the cluster)*. The centroid is the mean of corresponding data points coordinates.\n",
    "\n",
    "\n",
    "<img src=\"images/08_KMeans_02.png\" alt=\"Drawing\" style=\"width: 200px;\"/>\n",
    "\n",
    "3a) Update cluster assignment by *assigning each data point to the nearest centroid*\n",
    "\n",
    "<img src=\"images/08_KMeans_03.png\" alt=\"Drawing\" style=\"width: 200px;\"/>\n",
    "\n",
    "4) Repeat step (2a)\n",
    "<img src=\"images/08_KMeans_04.png\" alt=\"Drawing\" style=\"width: 200px;\"/>\n",
    "\n",
    " and step (2b) until the cluster assignments do not change.\n",
    "\n",
    "<img src=\"images/08_KMeans_05.png\" alt=\"Drawing\" style=\"width: 200px;\"/>\n",
    "\n"
   ]
  },
  {
   "cell_type": "markdown",
   "metadata": {},
   "source": [
    "# 8.B When do we use clustering?\n",
    "\n",
    "Clustering used to identify geometric groups in the data. \n",
    "\n",
    "For clustering to informative, you need to know some rough estimate of distinct groups in your data.\n",
    "\n",
    "In our case, we expect two groups. \n",
    "\n",
    "Let's say we don't know which data points are resistance or susceptible. We use clustering then to identify groups of points that are close and distinguish between points that are far away.\n",
    "\n",
    "**Note: coordinates must be meaningful to answer for clustering to be meaningful.**\n",
    "\n",
    "**Note: clustering cannot tell which points are resistant or susceptible -- only that distinct groups *may* exist.**"
   ]
  },
  {
   "cell_type": "markdown",
   "metadata": {},
   "source": [
    "## 8.C Clustering 2-D Projected Data\n",
    "\n",
    "In the labelled 2-D projection data, we saw that a natural separation between identifies the resistance and susceptible class. However, there was some overlap.\n",
    "\n",
    "Applying KMeans clustering, we would then expect two distinct groups separation with some inaccuracies where the susceptible and resistance classes overlap."
   ]
  },
  {
   "cell_type": "markdown",
   "metadata": {},
   "source": [
    "### I. Initialize ```KMeans``` object"
   ]
  },
  {
   "cell_type": "code",
   "execution_count": null,
   "metadata": {},
   "outputs": [],
   "source": [
    "from sklearn.cluster import KMeans\n",
    "\n",
    "# initialize KMeans object with n_clusters=2\n",
    "# initialize as kmeans\n",
    "\n"
   ]
  },
  {
   "cell_type": "markdown",
   "metadata": {},
   "source": [
    "### II. Fit KMeans object"
   ]
  },
  {
   "cell_type": "code",
   "execution_count": null,
   "metadata": {},
   "outputs": [],
   "source": [
    "# fit kmeans to transformed_DNA_2d data\n"
   ]
  },
  {
   "cell_type": "markdown",
   "metadata": {},
   "source": [
    "### III. Get cluster labels"
   ]
  },
  {
   "cell_type": "code",
   "execution_count": null,
   "metadata": {},
   "outputs": [],
   "source": [
    "# store kmeans.labels_ as cluster_labels \n",
    "# print cluster_labels \n",
    "\n"
   ]
  },
  {
   "cell_type": "markdown",
   "metadata": {},
   "source": [
    "###  IV. Plot clusters"
   ]
  },
  {
   "cell_type": "markdown",
   "metadata": {},
   "source": [
    "Now, let's plot the plots and color them by cluster labels."
   ]
  },
  {
   "cell_type": "code",
   "execution_count": null,
   "metadata": {},
   "outputs": [],
   "source": [
    "## Code to plot the clusters assignments for 2d data ## \n",
    "\n",
    "import matplotlib.pyplot as plt\n",
    "\n",
    "plt.figure(figsize=(10,6))\n",
    "\n",
    "#plot suspectible strains\n",
    "\n",
    "cluster_label_assignment_0 = [label == 0 for label in cluster_labels]\n",
    "\n",
    "plt.scatter(transformed_DNA_2d.iloc[cluster_label_assignment_0, 0],\n",
    "            transformed_DNA_2d.iloc[cluster_label_assignment_0, 1],\n",
    "            label='cluster label = 0',\n",
    "            c='r')\n",
    "\n",
    "#plot resistant strains\n",
    "\n",
    "cluster_label_assignment_1 = [label == 1 for label in cluster_labels]\n",
    "\n",
    "plt.scatter(transformed_DNA_2d.iloc[cluster_label_assignment_1, 0],\n",
    "            transformed_DNA_2d.iloc[cluster_label_assignment_1, 1],\n",
    "            label='cluster label = 1 ',\n",
    "            c='b')\n",
    "\n",
    "plt.xlabel('First Component')\n",
    "plt.ylabel('Second Component')\n",
    "plt.legend()\n",
    "plt.show()"
   ]
  },
  {
   "cell_type": "code",
   "execution_count": null,
   "metadata": {},
   "outputs": [],
   "source": [
    "## Code to plot the clusters assignments ## \n",
    "\n",
    "plt.figure(figsize=(10,6))\n",
    "\n",
    "presence_0 = [element == 0 for element in antibiotic_resistance_all_labels.values.ravel()]\n",
    "\n",
    "plt.scatter(transformed_DNA_2d.iloc[presence_0, 0],\n",
    "            transformed_DNA_2d.iloc[presence_0, 1],\n",
    "            label='group = 0 ',\n",
    "            c='r')\n",
    "\n",
    "#plot resistant strains\n",
    "\n",
    "presence_1 = [element == 1 for element in antibiotic_resistance_all_labels.values.ravel()]\n",
    "\n",
    "plt.scatter(transformed_DNA_2d.iloc[presence_1, 0],\n",
    "            transformed_DNA_2d.iloc[presence_1, 1],\n",
    "            label='group = 1 ',\n",
    "            c='b')\n",
    "\n",
    "plt.xlabel('First Component')\n",
    "plt.ylabel('Second Component')\n",
    "plt.legend()\n",
    "plt.show()"
   ]
  },
  {
   "cell_type": "markdown",
   "metadata": {},
   "source": [
    "### 8.C.2 Exercise: Retrieving the centroid coordinates\n"
   ]
  },
  {
   "cell_type": "markdown",
   "metadata": {},
   "source": [
    "```KMeans``` calculate the centroid centers and stores them as ```cluster_centers_```.\n",
    "\n",
    "Retrieve these centers, ```kmeans.cluster_centers_```, store them as ```centers``` and run the code below to plot them."
   ]
  },
  {
   "cell_type": "code",
   "execution_count": null,
   "metadata": {},
   "outputs": [],
   "source": [
    "#Enter solution here\n",
    "\n"
   ]
  },
  {
   "cell_type": "code",
   "execution_count": null,
   "metadata": {},
   "outputs": [],
   "source": [
    "## Code to plot the clusters assignments for 2d data with centroids## \n",
    "\n",
    "import matplotlib.pyplot as plt\n",
    "\n",
    "#plot suspectible strains\n",
    "plt.figure(figsize=(10,6))\n",
    "\n",
    "cluster_label_assignment_0 = [label == 0 for label in cluster_labels]\n",
    "\n",
    "plt.scatter(transformed_DNA_2d.iloc[cluster_label_assignment_0, 0],\n",
    "            transformed_DNA_2d.iloc[cluster_label_assignment_0, 1],\n",
    "            label='cluster label = 0',\n",
    "            c='r')\n",
    "\n",
    "#plot resistant strains\n",
    "\n",
    "cluster_label_assignment_1 = [label == 1 for label in cluster_labels]\n",
    "\n",
    "plt.scatter(transformed_DNA_2d.iloc[cluster_label_assignment_1, 0],\n",
    "            transformed_DNA_2d.iloc[cluster_label_assignment_1, 1],\n",
    "            label='cluster label = 1 ',\n",
    "            c='b')\n",
    "\n",
    "#plot centers\n",
    "\n",
    "\n",
    "plt.scatter(*centers[0],s=500,alpha=0.9, marker='+',\n",
    "            label=\"cluster centriod for cluster 0\", color='k')\n",
    "plt.scatter(*centers[1],s=500,alpha=0.9,  marker='*',\n",
    "            label=\"cluster centriod for cluster 1\",color='k')\n",
    "\n",
    "plt.xlabel('First Component')\n",
    "plt.ylabel('Second Component')\n",
    "plt.legend()\n",
    "plt.show()\n",
    "\n"
   ]
  },
  {
   "cell_type": "markdown",
   "metadata": {},
   "source": [
    "### 8.C.3 Exercise: Predicting Cluster Assignment\n",
    "\n"
   ]
  },
  {
   "cell_type": "markdown",
   "metadata": {},
   "source": [
    "```KMeans``` has a method ```predict``` calculate cluster assignment given the clusters learned from data. Predict the clusters of the follow points:\n",
    "\n",
    "- (5,5)\n",
    "-  (-10,5)\n",
    "- (15,-5)\n",
    "- (-1,-5)\n",
    "\n",
    " using ```kmeans.predict```."
   ]
  },
  {
   "cell_type": "code",
   "execution_count": null,
   "metadata": {},
   "outputs": [],
   "source": [
    "# I've done the first one for you.\n",
    "\n",
    "print(kmeans.predict([[5,5]]))\n",
    "\n",
    "#Enter solution here\n",
    "\n",
    "\n"
   ]
  },
  {
   "cell_type": "code",
   "execution_count": null,
   "metadata": {
    "scrolled": true
   },
   "outputs": [],
   "source": [
    "# add points with plots of centroids\n",
    "import numpy as np\n",
    "\n",
    "plt.scatter(*centers[0],s=500,alpha=0.9, marker='+',\n",
    "            label=\"cluster centriod for cluster 0\", color='k')\n",
    "plt.scatter(*centers[1],s=500,alpha=0.9,  marker='*',\n",
    "            label=\"cluster centriod for cluster 1\",color='k')\n",
    "\n",
    "\n",
    "test_points = np.array([[5,5],[-10,5],[15,-5],[-1,-5]])\n",
    "\n",
    "clusters_ = kmeans.predict(test_points)\n",
    "\n",
    "plt.scatter(test_points[clusters_==0, 0],\n",
    "            test_points[clusters_==0, 1],\n",
    "            c='r')\n",
    "\n",
    "plt.scatter(test_points[clusters_==1, 0],\n",
    "            test_points[clusters_==1, 1],\n",
    "            c='b')\n",
    "plt.show()"
   ]
  },
  {
   "cell_type": "markdown",
   "metadata": {},
   "source": [
    "### 8.C.4 Transform Method"
   ]
  },
  {
   "cell_type": "markdown",
   "metadata": {},
   "source": [
    "```KMeans``` has a ```transform``` method that will compute the distances of points from the centroid.\n",
    "\n",
    "Using the points from the previous exercise,\n",
    "- (5,5)\n",
    "-  (-10,5)\n",
    "- (15,-5)\n",
    "- (-1,-5),\n",
    "\n",
    "I compute the distance from the centroid."
   ]
  },
  {
   "cell_type": "code",
   "execution_count": null,
   "metadata": {},
   "outputs": [],
   "source": [
    "test_points = np.array([[5,5],[-10,5],[15,-5],[-1,-5]])\n",
    "\n",
    "\n",
    "# apply transform method to test_points\n",
    "\n"
   ]
  },
  {
   "cell_type": "markdown",
   "metadata": {},
   "source": [
    "## 8.D Exercise: KMeans on 3-D Projected Data \n",
    "\n",
    "Following the process above, compute 2 ```kMeans``` clusters for the 3-D dimensional data, ```transformed_DNA_3d```. Get the cluster labels for each data point and store the labels as ```cluster_labels```. Run the code below to plot the clusters."
   ]
  },
  {
   "cell_type": "code",
   "execution_count": null,
   "metadata": {},
   "outputs": [],
   "source": [
    "from sklearn.cluster import KMeans\n",
    "kmeans = KMeans(n_clusters=2)\n",
    "\n",
    "# enter solution here\n",
    "\n",
    "# fit to data, transformed_DNA_3d\n",
    "\n",
    "\n",
    "# store kmeans.labels_ as  cluster_labels\n",
    "\n"
   ]
  },
  {
   "cell_type": "markdown",
   "metadata": {},
   "source": [
    "Code to plot the clusters."
   ]
  },
  {
   "cell_type": "code",
   "execution_count": null,
   "metadata": {
    "scrolled": false
   },
   "outputs": [],
   "source": [
    "### Code to plot 3d data points and cluster labels ##\n",
    "\n",
    "\n",
    "import matplotlib.pyplot as plt \n",
    "from mpl_toolkits.mplot3d import Axes3D\n",
    "\n",
    "%matplotlib notebook\n",
    "%matplotlib notebook\n",
    "\n",
    "fig =  plt.figure(figsize=(10,6))\n",
    "ax = Axes3D(fig)\n",
    "\n",
    "#plot suspectible strains\n",
    "\n",
    "cluster_label_assignment_0 = [label == 1 for label in cluster_labels]\n",
    "\n",
    "ax.scatter(transformed_DNA_3d.iloc[cluster_label_assignment_0, 0],\n",
    "           transformed_DNA_3d.iloc[cluster_label_assignment_0, 1],\n",
    "           transformed_DNA_3d.iloc[cluster_label_assignment_0, 2],\n",
    "           label='cluster label = 0 ',\n",
    "           c='r')\n",
    "\n",
    "#plot resistant strains\n",
    "\n",
    "cluster_label_assignment_1 = [label == 0 for label in cluster_labels]\n",
    "\n",
    "ax.scatter(transformed_DNA_3d.iloc[cluster_label_assignment_1, 0],\n",
    "           transformed_DNA_3d.iloc[cluster_label_assignment_1, 1],\n",
    "           transformed_DNA_3d.iloc[cluster_label_assignment_1, 2],\n",
    "           label='cluster label = 1',\n",
    "           c='b')\n",
    "\n",
    "ax.set_xlabel('First Component')\n",
    "ax.set_ylabel('Second Component')\n",
    "ax.set_zlabel('Third Component')\n",
    "plt.legend()\n",
    "plt.show()"
   ]
  },
  {
   "cell_type": "markdown",
   "metadata": {},
   "source": [
    "Running the code below shows the 3d plot with the resistance and susceptible classes classes."
   ]
  },
  {
   "cell_type": "code",
   "execution_count": null,
   "metadata": {},
   "outputs": [],
   "source": [
    "\n",
    "### Code to plot 3d data points and actual class labels ##\n",
    "\n",
    "import matplotlib.pyplot as plt \n",
    "from mpl_toolkits.mplot3d import Axes3D\n",
    "\n",
    "%matplotlib notebook\n",
    "%matplotlib notebook\n",
    "\n",
    "fig =  plt.figure(figsize=(10,6))\n",
    "ax = Axes3D(fig)\n",
    "\n",
    "#plot suspectible strains\n",
    "\n",
    "presence_0 = [element == 0 for element in antibiotic_resistance_all_labels.values.ravel()]\n",
    "\n",
    "ax.scatter(transformed_DNA_3d.iloc[presence_0, 0],\n",
    "           transformed_DNA_3d.iloc[presence_0, 1],\n",
    "           transformed_DNA_3d.iloc[presence_0, 2],\n",
    "           label='label = 0 ',\n",
    "           c='r')\n",
    "\n",
    "#plot resistant strains\n",
    "\n",
    "presence_1 = [element == 1 for element in antibiotic_resistance_all_labels.values.ravel()]\n",
    "\n",
    "ax.scatter(transformed_DNA_3d.iloc[presence_1, 0],\n",
    "           transformed_DNA_3d.iloc[presence_1, 1],\n",
    "           transformed_DNA_3d.iloc[presence_1, 2],\n",
    "           label='label = 1',\n",
    "           c='b')\n",
    "\n",
    "ax.set_xlabel('First Component')\n",
    "ax.set_ylabel('Second Component')\n",
    "ax.set_zlabel('Third Component')\n",
    "plt.legend()\n",
    "plt.show()"
   ]
  },
  {
   "cell_type": "markdown",
   "metadata": {},
   "source": [
    "### 8.D.1 Exercise: Retrieving the centroid coordinates\n"
   ]
  },
  {
   "cell_type": "markdown",
   "metadata": {},
   "source": [
    "Retrieve these centers, ```kmeans.cluster_centers_```, store them as ```centers``` and run the code below to plot them."
   ]
  },
  {
   "cell_type": "code",
   "execution_count": null,
   "metadata": {},
   "outputs": [],
   "source": [
    "# enter solution here\n"
   ]
  },
  {
   "cell_type": "code",
   "execution_count": null,
   "metadata": {},
   "outputs": [],
   "source": [
    "import matplotlib.pyplot as plt \n",
    "from mpl_toolkits.mplot3d import Axes3D\n",
    "\n",
    "%matplotlib notebook\n",
    "%matplotlib notebook\n",
    "\n",
    "fig =  plt.figure(figsize=(10,6))\n",
    "ax = Axes3D(fig)\n",
    "\n",
    "\n",
    "#plot suspectible strains\n",
    "\n",
    "cluster_label_assignment_0 = [label == 1 for label in cluster_labels]\n",
    "\n",
    "ax.scatter(transformed_DNA_3d.iloc[cluster_label_assignment_0, 0],\n",
    "           transformed_DNA_3d.iloc[cluster_label_assignment_0, 1],\n",
    "           transformed_DNA_3d.iloc[cluster_label_assignment_0, 2],\n",
    "           label='cluster label = 0 ',\n",
    "           c='r')\n",
    "\n",
    "#plot resistant strains\n",
    "\n",
    "cluster_label_assignment_1 = [label == 0 for label in cluster_labels]\n",
    "\n",
    "ax.scatter(transformed_DNA_3d.iloc[cluster_label_assignment_1, 0],\n",
    "           transformed_DNA_3d.iloc[cluster_label_assignment_1, 1],\n",
    "           transformed_DNA_3d.iloc[cluster_label_assignment_1, 2],\n",
    "           label='cluster label = 1',\n",
    "           c='b')\n",
    "\n",
    "#plot centers\n",
    "\n",
    "\n",
    "ax.scatter(*centers[0],s=500,alpha=0.9, marker='+',\n",
    "            label=\"cluster centriod for cluster 0\", color='k')\n",
    "ax.scatter(*centers[1],s=500,alpha=0.9,  marker='*',\n",
    "            label=\"cluster centriod for cluster 1\",color='k')\n",
    "\n",
    "ax.set_xlabel('First Component')\n",
    "ax.set_ylabel('Second Component')\n",
    "ax.set_zlabel('Third Component')\n",
    "plt.legend()\n",
    "plt.show()"
   ]
  },
  {
   "cell_type": "markdown",
   "metadata": {},
   "source": [
    "### 8.D.2 Exercise: Predicting Cluster Assignment\n"
   ]
  },
  {
   "cell_type": "markdown",
   "metadata": {},
   "source": [
    "```KMeans``` has a method ```predict``` calculate cluster assignment given the clusters learned from data. Predict the clusters of the follow points:\n",
    "\n",
    "- (-2,1,3)\n",
    "-  (0,3,4)\n",
    "- (1,1,-1)\n",
    "- (2,0,-1.5)\n",
    "\n",
    " using ```kmeans.predict```."
   ]
  },
  {
   "cell_type": "code",
   "execution_count": null,
   "metadata": {},
   "outputs": [],
   "source": [
    "#Enter solution here\n",
    "# I have done the first for you\n",
    "print(kmeans.predict([[-2,1,3]]))\n",
    "\n",
    "# do the remaining points\n"
   ]
  },
  {
   "cell_type": "markdown",
   "metadata": {},
   "source": [
    "The code below to show test points with relative to cluster centers."
   ]
  },
  {
   "cell_type": "code",
   "execution_count": null,
   "metadata": {},
   "outputs": [],
   "source": [
    "import matplotlib.pyplot as plt \n",
    "from mpl_toolkits.mplot3d import Axes3D\n",
    "\n",
    "%matplotlib notebook\n",
    "%matplotlib notebook\n",
    "\n",
    "fig =  plt.figure(figsize=(10,6))\n",
    "ax = Axes3D(fig)\n",
    "\n",
    "import numpy as np\n",
    "\n",
    "# plot tests points\n",
    "\n",
    "test_points = np.array([[-2,1,3],[0,3,4],[1,2,-1],[2,1,-1.5]])\n",
    "\n",
    "clusters_ = kmeans.predict(test_points)\n",
    "\n",
    "ax.scatter(test_points[clusters_==1, 0],\n",
    "           test_points[clusters_==1, 1],\n",
    "           test_points[clusters_==1, 2],\n",
    "            c='r')\n",
    "\n",
    "ax.scatter(test_points[clusters_==0, 0],\n",
    "           test_points[clusters_==0, 1],\n",
    "           test_points[clusters_==0, 2],\n",
    "            c='b')\n",
    "\n",
    "# plot centroids\n",
    "\n",
    "ax.scatter(*centers[0],s=500,alpha=0.9, marker='+',\n",
    "            label=\"cluster centriod for cluster 0\", color='k')\n",
    "ax.scatter(*centers[1],s=500,alpha=0.9,  marker='*',\n",
    "            label=\"cluster centriod for cluster 1\",color='k')\n",
    "\n",
    "\n",
    "plt.show()"
   ]
  },
  {
   "cell_type": "code",
   "execution_count": null,
   "metadata": {},
   "outputs": [],
   "source": [
    "# now look at the actual distance of the test points from centroids\n",
    "\n",
    "kmeans.transform(test_points)"
   ]
  }
 ],
 "metadata": {
  "kernelspec": {
   "display_name": "Python 3",
   "language": "python",
   "name": "python3"
  },
  "language_info": {
   "codemirror_mode": {
    "name": "ipython",
    "version": 3
   },
   "file_extension": ".py",
   "mimetype": "text/x-python",
   "name": "python",
   "nbconvert_exporter": "python",
   "pygments_lexer": "ipython3",
   "version": "3.7.3"
  },
  "pycharm": {
   "stem_cell": {
    "cell_type": "raw",
    "metadata": {
     "collapsed": false
    },
    "source": []
   }
  }
 },
 "nbformat": 4,
 "nbformat_minor": 2
}
