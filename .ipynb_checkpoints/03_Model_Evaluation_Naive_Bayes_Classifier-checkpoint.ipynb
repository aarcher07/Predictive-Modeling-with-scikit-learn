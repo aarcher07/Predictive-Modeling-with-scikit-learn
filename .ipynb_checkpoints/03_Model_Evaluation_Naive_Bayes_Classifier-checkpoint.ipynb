{
 "cells": [
  {
   "cell_type": "markdown",
   "metadata": {},
   "source": [
    "# 0. Review \n",
    "\n",
    "## 0.A Scikit-Learn\n",
    "\n",
    "Scikit-Learn is a machine learning python package. It allows users to access machine learning algorithms via **object-oriented programming**.\n",
    "\n",
    "## 0.B Data Set\n",
    "\n",
    "I will be using a dataset of antibiotic resistance in bacteria strains. \n",
    "\n",
    "- Each bacteria is labeled with its resistance to the antibiotic, azithromycin.\n",
    "- Additionally, each bacteria sample is labelled if its genome contains certain strands of DNA.\n",
    "\n",
    "We would like to learn antibiotic resistance from the bacterial genome.\n",
    "\n",
    "- Our predictors are whether strands of DNA are present.\n",
    "- Our response are resistance classes.\n",
    "\n",
    "\n",
    "## 0.C Data Preprocessing\n",
    "\n",
    "We did a bit of data preprocessing: \n",
    "\n",
    "- encoded the resistance feature as 0 - \"resistant,\" 1 - \"susceptible\".\n",
    "- encoded all features of the DNA strands as , 0 - \"if its genome does not contain the strand of DNA\", 1 - \"if its genome contains the strand of DNA.\"\n",
    "- did a 70:30 training-test split\n",
    "\n",
    "\n",
    "## 0.D Trained Model: Gaussian Naive Bayes\n",
    "\n",
    "Before, we use a Gaussian Naive Bayes algorithm to learn a classifier of antibiotic resistance in the bacteria. I run the code to create the model again."
   ]
  },
  {
   "cell_type": "code",
   "execution_count": 21,
   "metadata": {},
   "outputs": [],
   "source": [
    "import pandas as pd\n",
    "\n",
    "#load training data\n",
    "labels_training_set = pd.read_csv('datasets/labels_training_set',index_col=0)\n",
    "DNA_training_set = pd.read_csv('datasets/DNA_training_set',index_col=0)\n",
    "\n",
    "labels_test_set = pd.read_csv('datasets/labels_test_set',index_col=0)\n",
    "DNA_test_set = pd.read_csv('datasets/DNA_test_set',index_col=0)"
   ]
  },
  {
   "cell_type": "code",
   "execution_count": 22,
   "metadata": {},
   "outputs": [
    {
     "data": {
      "text/plain": [
       "GaussianNB(priors=None, var_smoothing=1e-09)"
      ]
     },
     "execution_count": 22,
     "metadata": {},
     "output_type": "execute_result"
    }
   ],
   "source": [
    "#import naive bayes\n",
    "\n",
    "from sklearn.naive_bayes import GaussianNB\n",
    "\n",
    "#instantiate a Naive Bayes classifier \n",
    "gNB = GaussianNB()\n",
    "\n",
    "#learn classifier from data \n",
    "gNB.fit(DNA_training_set,labels_training_set.values.ravel())"
   ]
  },
  {
   "cell_type": "markdown",
   "metadata": {},
   "source": [
    "**In this section, we will be evaluating the accuracy of the trained model on the test data.**"
   ]
  },
  {
   "cell_type": "markdown",
   "metadata": {},
   "source": [
    "# 3. Model Evaluation: Gaussian Naive Bayes\n",
    "\n",
    "*3. Finally, make **predictions** on **new (unseen) data** for which the label is unknown*\n",
    "\n",
    "The **unseen data** is the test data. The model trained with the training set does not know anything about the testing data. This means that the model has learned nothing from the test data.\n",
    "\n",
    "\n",
    "## 3.A Check Testing Set\n",
    "\n",
    "First, let's check if our data has loaded correctly."
   ]
  },
  {
   "cell_type": "code",
   "execution_count": 23,
   "metadata": {},
   "outputs": [
    {
     "data": {
      "text/html": [
       "<div>\n",
       "<style scoped>\n",
       "    .dataframe tbody tr th:only-of-type {\n",
       "        vertical-align: middle;\n",
       "    }\n",
       "\n",
       "    .dataframe tbody tr th {\n",
       "        vertical-align: top;\n",
       "    }\n",
       "\n",
       "    .dataframe thead th {\n",
       "        text-align: right;\n",
       "    }\n",
       "</style>\n",
       "<table border=\"1\" class=\"dataframe\">\n",
       "  <thead>\n",
       "    <tr style=\"text-align: right;\">\n",
       "      <th></th>\n",
       "      <th>resistance class</th>\n",
       "    </tr>\n",
       "  </thead>\n",
       "  <tbody>\n",
       "    <tr>\n",
       "      <th>Bacteria 274</th>\n",
       "      <td>0</td>\n",
       "    </tr>\n",
       "    <tr>\n",
       "      <th>Bacteria 275</th>\n",
       "      <td>1</td>\n",
       "    </tr>\n",
       "    <tr>\n",
       "      <th>Bacteria 276</th>\n",
       "      <td>1</td>\n",
       "    </tr>\n",
       "    <tr>\n",
       "      <th>Bacteria 277</th>\n",
       "      <td>1</td>\n",
       "    </tr>\n",
       "    <tr>\n",
       "      <th>Bacteria 278</th>\n",
       "      <td>1</td>\n",
       "    </tr>\n",
       "  </tbody>\n",
       "</table>\n",
       "</div>"
      ],
      "text/plain": [
       "              resistance class\n",
       "Bacteria 274                 0\n",
       "Bacteria 275                 1\n",
       "Bacteria 276                 1\n",
       "Bacteria 277                 1\n",
       "Bacteria 278                 1"
      ]
     },
     "execution_count": 23,
     "metadata": {},
     "output_type": "execute_result"
    }
   ],
   "source": [
    "# print head of labels_test_set\n",
    "labels_test_set.head()"
   ]
  },
  {
   "cell_type": "code",
   "execution_count": 24,
   "metadata": {},
   "outputs": [
    {
     "data": {
      "text/html": [
       "<div>\n",
       "<style scoped>\n",
       "    .dataframe tbody tr th:only-of-type {\n",
       "        vertical-align: middle;\n",
       "    }\n",
       "\n",
       "    .dataframe tbody tr th {\n",
       "        vertical-align: top;\n",
       "    }\n",
       "\n",
       "    .dataframe thead th {\n",
       "        text-align: right;\n",
       "    }\n",
       "</style>\n",
       "<table border=\"1\" class=\"dataframe\">\n",
       "  <thead>\n",
       "    <tr style=\"text-align: right;\">\n",
       "      <th></th>\n",
       "      <th>tggagcgccgggcggatcggttccgtactat</th>\n",
       "      <th>ggagcgccgggcggatcggttccgtactatc</th>\n",
       "      <th>gagcgccgggcggatcggttccgtactatcc</th>\n",
       "      <th>agcgccgggcggatcggttccgtactatccg</th>\n",
       "      <th>gcgccgggcggatcggttccgtactatccgt</th>\n",
       "      <th>cgccgggcggatcggttccgtactatccgta</th>\n",
       "      <th>gccgggcggatcggttccgtactatccgtac</th>\n",
       "      <th>ccgggcggatcggttccgtactatccgtact</th>\n",
       "      <th>cgggcggatcggttccgtactatccgtactg</th>\n",
       "      <th>gggcggatcggttccgtactatccgtactgc</th>\n",
       "      <th>...</th>\n",
       "      <th>cttttggtctttcctgttaggtggaacgtta</th>\n",
       "      <th>ttttggtctttcctgttaggtggaacgttac</th>\n",
       "      <th>tttggtctttcctgttaggtggaacgttacc</th>\n",
       "      <th>ttggtctttcctgttaggtggaacgttacct</th>\n",
       "      <th>tggtctttcctgttaggtggaacgttaccta</th>\n",
       "      <th>ggtctttcctgttaggtggaacgttacctac</th>\n",
       "      <th>gtctttcctgttaggtggaacgttacctact</th>\n",
       "      <th>tctttcctgttaggtggaacgttacctactt</th>\n",
       "      <th>ctttcctgttaggtggaacgttacctacttc</th>\n",
       "      <th>tttcctgttaggtggaacgttacctacttct</th>\n",
       "    </tr>\n",
       "  </thead>\n",
       "  <tbody>\n",
       "    <tr>\n",
       "      <th>Bacteria 274</th>\n",
       "      <td>0</td>\n",
       "      <td>0</td>\n",
       "      <td>0</td>\n",
       "      <td>0</td>\n",
       "      <td>0</td>\n",
       "      <td>0</td>\n",
       "      <td>0</td>\n",
       "      <td>0</td>\n",
       "      <td>0</td>\n",
       "      <td>0</td>\n",
       "      <td>...</td>\n",
       "      <td>0</td>\n",
       "      <td>0</td>\n",
       "      <td>0</td>\n",
       "      <td>0</td>\n",
       "      <td>0</td>\n",
       "      <td>0</td>\n",
       "      <td>0</td>\n",
       "      <td>0</td>\n",
       "      <td>0</td>\n",
       "      <td>0</td>\n",
       "    </tr>\n",
       "    <tr>\n",
       "      <th>Bacteria 275</th>\n",
       "      <td>0</td>\n",
       "      <td>0</td>\n",
       "      <td>0</td>\n",
       "      <td>0</td>\n",
       "      <td>0</td>\n",
       "      <td>0</td>\n",
       "      <td>0</td>\n",
       "      <td>0</td>\n",
       "      <td>0</td>\n",
       "      <td>0</td>\n",
       "      <td>...</td>\n",
       "      <td>0</td>\n",
       "      <td>0</td>\n",
       "      <td>0</td>\n",
       "      <td>0</td>\n",
       "      <td>0</td>\n",
       "      <td>0</td>\n",
       "      <td>0</td>\n",
       "      <td>0</td>\n",
       "      <td>0</td>\n",
       "      <td>0</td>\n",
       "    </tr>\n",
       "    <tr>\n",
       "      <th>Bacteria 276</th>\n",
       "      <td>0</td>\n",
       "      <td>0</td>\n",
       "      <td>0</td>\n",
       "      <td>0</td>\n",
       "      <td>0</td>\n",
       "      <td>0</td>\n",
       "      <td>0</td>\n",
       "      <td>0</td>\n",
       "      <td>0</td>\n",
       "      <td>0</td>\n",
       "      <td>...</td>\n",
       "      <td>0</td>\n",
       "      <td>0</td>\n",
       "      <td>0</td>\n",
       "      <td>0</td>\n",
       "      <td>0</td>\n",
       "      <td>0</td>\n",
       "      <td>0</td>\n",
       "      <td>0</td>\n",
       "      <td>0</td>\n",
       "      <td>0</td>\n",
       "    </tr>\n",
       "    <tr>\n",
       "      <th>Bacteria 277</th>\n",
       "      <td>0</td>\n",
       "      <td>0</td>\n",
       "      <td>0</td>\n",
       "      <td>0</td>\n",
       "      <td>0</td>\n",
       "      <td>0</td>\n",
       "      <td>0</td>\n",
       "      <td>0</td>\n",
       "      <td>0</td>\n",
       "      <td>0</td>\n",
       "      <td>...</td>\n",
       "      <td>0</td>\n",
       "      <td>0</td>\n",
       "      <td>0</td>\n",
       "      <td>0</td>\n",
       "      <td>0</td>\n",
       "      <td>0</td>\n",
       "      <td>0</td>\n",
       "      <td>0</td>\n",
       "      <td>0</td>\n",
       "      <td>0</td>\n",
       "    </tr>\n",
       "    <tr>\n",
       "      <th>Bacteria 278</th>\n",
       "      <td>0</td>\n",
       "      <td>0</td>\n",
       "      <td>0</td>\n",
       "      <td>0</td>\n",
       "      <td>0</td>\n",
       "      <td>0</td>\n",
       "      <td>0</td>\n",
       "      <td>0</td>\n",
       "      <td>0</td>\n",
       "      <td>0</td>\n",
       "      <td>...</td>\n",
       "      <td>0</td>\n",
       "      <td>0</td>\n",
       "      <td>0</td>\n",
       "      <td>0</td>\n",
       "      <td>0</td>\n",
       "      <td>0</td>\n",
       "      <td>0</td>\n",
       "      <td>0</td>\n",
       "      <td>0</td>\n",
       "      <td>0</td>\n",
       "    </tr>\n",
       "  </tbody>\n",
       "</table>\n",
       "<p>5 rows × 73016 columns</p>\n",
       "</div>"
      ],
      "text/plain": [
       "              tggagcgccgggcggatcggttccgtactat  \\\n",
       "Bacteria 274                                0   \n",
       "Bacteria 275                                0   \n",
       "Bacteria 276                                0   \n",
       "Bacteria 277                                0   \n",
       "Bacteria 278                                0   \n",
       "\n",
       "              ggagcgccgggcggatcggttccgtactatc  \\\n",
       "Bacteria 274                                0   \n",
       "Bacteria 275                                0   \n",
       "Bacteria 276                                0   \n",
       "Bacteria 277                                0   \n",
       "Bacteria 278                                0   \n",
       "\n",
       "              gagcgccgggcggatcggttccgtactatcc  \\\n",
       "Bacteria 274                                0   \n",
       "Bacteria 275                                0   \n",
       "Bacteria 276                                0   \n",
       "Bacteria 277                                0   \n",
       "Bacteria 278                                0   \n",
       "\n",
       "              agcgccgggcggatcggttccgtactatccg  \\\n",
       "Bacteria 274                                0   \n",
       "Bacteria 275                                0   \n",
       "Bacteria 276                                0   \n",
       "Bacteria 277                                0   \n",
       "Bacteria 278                                0   \n",
       "\n",
       "              gcgccgggcggatcggttccgtactatccgt  \\\n",
       "Bacteria 274                                0   \n",
       "Bacteria 275                                0   \n",
       "Bacteria 276                                0   \n",
       "Bacteria 277                                0   \n",
       "Bacteria 278                                0   \n",
       "\n",
       "              cgccgggcggatcggttccgtactatccgta  \\\n",
       "Bacteria 274                                0   \n",
       "Bacteria 275                                0   \n",
       "Bacteria 276                                0   \n",
       "Bacteria 277                                0   \n",
       "Bacteria 278                                0   \n",
       "\n",
       "              gccgggcggatcggttccgtactatccgtac  \\\n",
       "Bacteria 274                                0   \n",
       "Bacteria 275                                0   \n",
       "Bacteria 276                                0   \n",
       "Bacteria 277                                0   \n",
       "Bacteria 278                                0   \n",
       "\n",
       "              ccgggcggatcggttccgtactatccgtact  \\\n",
       "Bacteria 274                                0   \n",
       "Bacteria 275                                0   \n",
       "Bacteria 276                                0   \n",
       "Bacteria 277                                0   \n",
       "Bacteria 278                                0   \n",
       "\n",
       "              cgggcggatcggttccgtactatccgtactg  \\\n",
       "Bacteria 274                                0   \n",
       "Bacteria 275                                0   \n",
       "Bacteria 276                                0   \n",
       "Bacteria 277                                0   \n",
       "Bacteria 278                                0   \n",
       "\n",
       "              gggcggatcggttccgtactatccgtactgc  ...  \\\n",
       "Bacteria 274                                0  ...   \n",
       "Bacteria 275                                0  ...   \n",
       "Bacteria 276                                0  ...   \n",
       "Bacteria 277                                0  ...   \n",
       "Bacteria 278                                0  ...   \n",
       "\n",
       "              cttttggtctttcctgttaggtggaacgtta  \\\n",
       "Bacteria 274                                0   \n",
       "Bacteria 275                                0   \n",
       "Bacteria 276                                0   \n",
       "Bacteria 277                                0   \n",
       "Bacteria 278                                0   \n",
       "\n",
       "              ttttggtctttcctgttaggtggaacgttac  \\\n",
       "Bacteria 274                                0   \n",
       "Bacteria 275                                0   \n",
       "Bacteria 276                                0   \n",
       "Bacteria 277                                0   \n",
       "Bacteria 278                                0   \n",
       "\n",
       "              tttggtctttcctgttaggtggaacgttacc  \\\n",
       "Bacteria 274                                0   \n",
       "Bacteria 275                                0   \n",
       "Bacteria 276                                0   \n",
       "Bacteria 277                                0   \n",
       "Bacteria 278                                0   \n",
       "\n",
       "              ttggtctttcctgttaggtggaacgttacct  \\\n",
       "Bacteria 274                                0   \n",
       "Bacteria 275                                0   \n",
       "Bacteria 276                                0   \n",
       "Bacteria 277                                0   \n",
       "Bacteria 278                                0   \n",
       "\n",
       "              tggtctttcctgttaggtggaacgttaccta  \\\n",
       "Bacteria 274                                0   \n",
       "Bacteria 275                                0   \n",
       "Bacteria 276                                0   \n",
       "Bacteria 277                                0   \n",
       "Bacteria 278                                0   \n",
       "\n",
       "              ggtctttcctgttaggtggaacgttacctac  \\\n",
       "Bacteria 274                                0   \n",
       "Bacteria 275                                0   \n",
       "Bacteria 276                                0   \n",
       "Bacteria 277                                0   \n",
       "Bacteria 278                                0   \n",
       "\n",
       "              gtctttcctgttaggtggaacgttacctact  \\\n",
       "Bacteria 274                                0   \n",
       "Bacteria 275                                0   \n",
       "Bacteria 276                                0   \n",
       "Bacteria 277                                0   \n",
       "Bacteria 278                                0   \n",
       "\n",
       "              tctttcctgttaggtggaacgttacctactt  \\\n",
       "Bacteria 274                                0   \n",
       "Bacteria 275                                0   \n",
       "Bacteria 276                                0   \n",
       "Bacteria 277                                0   \n",
       "Bacteria 278                                0   \n",
       "\n",
       "              ctttcctgttaggtggaacgttacctacttc  tttcctgttaggtggaacgttacctacttct  \n",
       "Bacteria 274                                0                                0  \n",
       "Bacteria 275                                0                                0  \n",
       "Bacteria 276                                0                                0  \n",
       "Bacteria 277                                0                                0  \n",
       "Bacteria 278                                0                                0  \n",
       "\n",
       "[5 rows x 73016 columns]"
      ]
     },
     "execution_count": 24,
     "metadata": {},
     "output_type": "execute_result"
    }
   ],
   "source": [
    "# print head of DNA_test_set\n",
    "DNA_test_set.head()"
   ]
  },
  {
   "cell_type": "markdown",
   "metadata": {},
   "source": [
    "Everything looks good!"
   ]
  },
  {
   "cell_type": "markdown",
   "metadata": {},
   "source": [
    "## 3.B Evaluate the test set\n",
    "\n",
    "The ```GaussianNB()``` class has a method called ```predict```. ```predict``` determines the antimicrobial resistance of any observation with the same features as observations in the training set.\n",
    "\n",
    "### 3.B.1 Predicting a single observation\n",
    "\n",
    "Let's consider the first observation in our test set."
   ]
  },
  {
   "cell_type": "code",
   "execution_count": 25,
   "metadata": {},
   "outputs": [
    {
     "data": {
      "text/html": [
       "<div>\n",
       "<style scoped>\n",
       "    .dataframe tbody tr th:only-of-type {\n",
       "        vertical-align: middle;\n",
       "    }\n",
       "\n",
       "    .dataframe tbody tr th {\n",
       "        vertical-align: top;\n",
       "    }\n",
       "\n",
       "    .dataframe thead th {\n",
       "        text-align: right;\n",
       "    }\n",
       "</style>\n",
       "<table border=\"1\" class=\"dataframe\">\n",
       "  <thead>\n",
       "    <tr style=\"text-align: right;\">\n",
       "      <th></th>\n",
       "      <th>tggagcgccgggcggatcggttccgtactat</th>\n",
       "      <th>ggagcgccgggcggatcggttccgtactatc</th>\n",
       "      <th>gagcgccgggcggatcggttccgtactatcc</th>\n",
       "      <th>agcgccgggcggatcggttccgtactatccg</th>\n",
       "      <th>gcgccgggcggatcggttccgtactatccgt</th>\n",
       "      <th>cgccgggcggatcggttccgtactatccgta</th>\n",
       "      <th>gccgggcggatcggttccgtactatccgtac</th>\n",
       "      <th>ccgggcggatcggttccgtactatccgtact</th>\n",
       "      <th>cgggcggatcggttccgtactatccgtactg</th>\n",
       "      <th>gggcggatcggttccgtactatccgtactgc</th>\n",
       "      <th>...</th>\n",
       "      <th>cttttggtctttcctgttaggtggaacgtta</th>\n",
       "      <th>ttttggtctttcctgttaggtggaacgttac</th>\n",
       "      <th>tttggtctttcctgttaggtggaacgttacc</th>\n",
       "      <th>ttggtctttcctgttaggtggaacgttacct</th>\n",
       "      <th>tggtctttcctgttaggtggaacgttaccta</th>\n",
       "      <th>ggtctttcctgttaggtggaacgttacctac</th>\n",
       "      <th>gtctttcctgttaggtggaacgttacctact</th>\n",
       "      <th>tctttcctgttaggtggaacgttacctactt</th>\n",
       "      <th>ctttcctgttaggtggaacgttacctacttc</th>\n",
       "      <th>tttcctgttaggtggaacgttacctacttct</th>\n",
       "    </tr>\n",
       "  </thead>\n",
       "  <tbody>\n",
       "    <tr>\n",
       "      <th>Bacteria 274</th>\n",
       "      <td>0</td>\n",
       "      <td>0</td>\n",
       "      <td>0</td>\n",
       "      <td>0</td>\n",
       "      <td>0</td>\n",
       "      <td>0</td>\n",
       "      <td>0</td>\n",
       "      <td>0</td>\n",
       "      <td>0</td>\n",
       "      <td>0</td>\n",
       "      <td>...</td>\n",
       "      <td>0</td>\n",
       "      <td>0</td>\n",
       "      <td>0</td>\n",
       "      <td>0</td>\n",
       "      <td>0</td>\n",
       "      <td>0</td>\n",
       "      <td>0</td>\n",
       "      <td>0</td>\n",
       "      <td>0</td>\n",
       "      <td>0</td>\n",
       "    </tr>\n",
       "  </tbody>\n",
       "</table>\n",
       "<p>1 rows × 73016 columns</p>\n",
       "</div>"
      ],
      "text/plain": [
       "              tggagcgccgggcggatcggttccgtactat  \\\n",
       "Bacteria 274                                0   \n",
       "\n",
       "              ggagcgccgggcggatcggttccgtactatc  \\\n",
       "Bacteria 274                                0   \n",
       "\n",
       "              gagcgccgggcggatcggttccgtactatcc  \\\n",
       "Bacteria 274                                0   \n",
       "\n",
       "              agcgccgggcggatcggttccgtactatccg  \\\n",
       "Bacteria 274                                0   \n",
       "\n",
       "              gcgccgggcggatcggttccgtactatccgt  \\\n",
       "Bacteria 274                                0   \n",
       "\n",
       "              cgccgggcggatcggttccgtactatccgta  \\\n",
       "Bacteria 274                                0   \n",
       "\n",
       "              gccgggcggatcggttccgtactatccgtac  \\\n",
       "Bacteria 274                                0   \n",
       "\n",
       "              ccgggcggatcggttccgtactatccgtact  \\\n",
       "Bacteria 274                                0   \n",
       "\n",
       "              cgggcggatcggttccgtactatccgtactg  \\\n",
       "Bacteria 274                                0   \n",
       "\n",
       "              gggcggatcggttccgtactatccgtactgc  ...  \\\n",
       "Bacteria 274                                0  ...   \n",
       "\n",
       "              cttttggtctttcctgttaggtggaacgtta  \\\n",
       "Bacteria 274                                0   \n",
       "\n",
       "              ttttggtctttcctgttaggtggaacgttac  \\\n",
       "Bacteria 274                                0   \n",
       "\n",
       "              tttggtctttcctgttaggtggaacgttacc  \\\n",
       "Bacteria 274                                0   \n",
       "\n",
       "              ttggtctttcctgttaggtggaacgttacct  \\\n",
       "Bacteria 274                                0   \n",
       "\n",
       "              tggtctttcctgttaggtggaacgttaccta  \\\n",
       "Bacteria 274                                0   \n",
       "\n",
       "              ggtctttcctgttaggtggaacgttacctac  \\\n",
       "Bacteria 274                                0   \n",
       "\n",
       "              gtctttcctgttaggtggaacgttacctact  \\\n",
       "Bacteria 274                                0   \n",
       "\n",
       "              tctttcctgttaggtggaacgttacctactt  \\\n",
       "Bacteria 274                                0   \n",
       "\n",
       "              ctttcctgttaggtggaacgttacctacttc  tttcctgttaggtggaacgttacctacttct  \n",
       "Bacteria 274                                0                                0  \n",
       "\n",
       "[1 rows x 73016 columns]"
      ]
     },
     "execution_count": 25,
     "metadata": {},
     "output_type": "execute_result"
    }
   ],
   "source": [
    "# get first_observation as DNA_test_set.iloc[[0]]\n",
    "first_observation = DNA_test_set.iloc[[0]]\n",
    "first_observation\n",
    "#print first_observation"
   ]
  },
  {
   "cell_type": "markdown",
   "metadata": {},
   "source": [
    "Now, let's use our learned model to evaluate the first observation of our test set. "
   ]
  },
  {
   "cell_type": "code",
   "execution_count": 26,
   "metadata": {},
   "outputs": [
    {
     "data": {
      "text/plain": [
       "array([0])"
      ]
     },
     "execution_count": 26,
     "metadata": {},
     "output_type": "execute_result"
    }
   ],
   "source": [
    "# predict class of first_observation using gNB.predict\n",
    "gNB.predict(first_observation)"
   ]
  },
  {
   "cell_type": "markdown",
   "metadata": {},
   "source": [
    "Our model determined that the first observation in our test set is $0$. This means that the model thinks that this observation is resistant."
   ]
  },
  {
   "cell_type": "markdown",
   "metadata": {},
   "source": [
    "How does the predicted resistance compare to the actual antimicrobial resistance of the first observation in the test set?"
   ]
  },
  {
   "cell_type": "code",
   "execution_count": 27,
   "metadata": {},
   "outputs": [
    {
     "data": {
      "text/html": [
       "<div>\n",
       "<style scoped>\n",
       "    .dataframe tbody tr th:only-of-type {\n",
       "        vertical-align: middle;\n",
       "    }\n",
       "\n",
       "    .dataframe tbody tr th {\n",
       "        vertical-align: top;\n",
       "    }\n",
       "\n",
       "    .dataframe thead th {\n",
       "        text-align: right;\n",
       "    }\n",
       "</style>\n",
       "<table border=\"1\" class=\"dataframe\">\n",
       "  <thead>\n",
       "    <tr style=\"text-align: right;\">\n",
       "      <th></th>\n",
       "      <th>resistance class</th>\n",
       "    </tr>\n",
       "  </thead>\n",
       "  <tbody>\n",
       "    <tr>\n",
       "      <th>Bacteria 274</th>\n",
       "      <td>0</td>\n",
       "    </tr>\n",
       "  </tbody>\n",
       "</table>\n",
       "</div>"
      ],
      "text/plain": [
       "              resistance class\n",
       "Bacteria 274                 0"
      ]
     },
     "execution_count": 27,
     "metadata": {},
     "output_type": "execute_result"
    }
   ],
   "source": [
    "labels_test_set.iloc[[0]]"
   ]
  },
  {
   "cell_type": "markdown",
   "metadata": {},
   "source": [
    "The model predicts the correct resistance class!"
   ]
  },
  {
   "cell_type": "markdown",
   "metadata": {},
   "source": [
    "### Exercise 3.B.1: Predicting the resistance of the tenth observation\n",
    "\n",
    "Using the trained Gaussian Naive Bayes model, ```gNB```, predict the antibiotic resistance of the tenth observation in our test set. Like above, you can retrieve the tenth observation using the command ```DNA_test_set.iloc[[9]]```. How does the predicted resistance compare to the actual antimicrobial resistance of the tenth observation?\n"
   ]
  },
  {
   "cell_type": "code",
   "execution_count": 28,
   "metadata": {},
   "outputs": [
    {
     "data": {
      "text/html": [
       "<div>\n",
       "<style scoped>\n",
       "    .dataframe tbody tr th:only-of-type {\n",
       "        vertical-align: middle;\n",
       "    }\n",
       "\n",
       "    .dataframe tbody tr th {\n",
       "        vertical-align: top;\n",
       "    }\n",
       "\n",
       "    .dataframe thead th {\n",
       "        text-align: right;\n",
       "    }\n",
       "</style>\n",
       "<table border=\"1\" class=\"dataframe\">\n",
       "  <thead>\n",
       "    <tr style=\"text-align: right;\">\n",
       "      <th></th>\n",
       "      <th>resistance class</th>\n",
       "    </tr>\n",
       "  </thead>\n",
       "  <tbody>\n",
       "    <tr>\n",
       "      <th>Bacteria 283</th>\n",
       "      <td>1</td>\n",
       "    </tr>\n",
       "  </tbody>\n",
       "</table>\n",
       "</div>"
      ],
      "text/plain": [
       "              resistance class\n",
       "Bacteria 283                 1"
      ]
     },
     "execution_count": 28,
     "metadata": {},
     "output_type": "execute_result"
    }
   ],
   "source": [
    "tenth_observation=DNA_test_set.iloc[[9]]\n",
    "#actual class that the tenth observation falls in\n",
    "labels_test_set.iloc[[9]]"
   ]
  },
  {
   "cell_type": "code",
   "execution_count": 29,
   "metadata": {},
   "outputs": [
    {
     "data": {
      "text/plain": [
       "array([0])"
      ]
     },
     "execution_count": 29,
     "metadata": {},
     "output_type": "execute_result"
    }
   ],
   "source": [
    "# enter solution here\n",
    "gNB.predict(tenth_observation)"
   ]
  },
  {
   "cell_type": "markdown",
   "metadata": {},
   "source": [
    "The model incorrectly predicts that the tenth observation will be resistant. "
   ]
  },
  {
   "cell_type": "markdown",
   "metadata": {},
   "source": [
    "### 3.B.2 Predicting the entire dataset\n",
    "Now using ```predict``` and our learned model, let's evaluate the entire model on the test set."
   ]
  },
  {
   "cell_type": "code",
   "execution_count": 30,
   "metadata": {},
   "outputs": [
    {
     "data": {
      "text/plain": [
       "array([0, 1, 1, 0, 1, 0, 0, 0, 1, 0, 1, 1, 1, 1, 0, 0, 1, 1, 0, 1, 0, 1,\n",
       "       1, 0, 0, 0, 1, 1, 0, 1, 1, 0, 0, 0, 1, 1, 0, 1, 1, 0, 1, 1, 1, 0,\n",
       "       1, 0, 1, 1, 1, 1, 0, 0, 0, 1, 1, 1, 1, 1, 1, 0, 0, 0, 1, 1, 0, 1,\n",
       "       0, 1, 0, 0, 1, 1, 1, 1, 0, 0, 0, 1, 1, 0, 0, 0, 1, 0, 0, 0, 0, 0,\n",
       "       1, 0, 0, 1, 0, 0, 1, 0, 0, 0, 1, 0, 0, 0, 0, 0, 0, 1, 0, 1, 0, 0,\n",
       "       1, 0, 0, 1, 0, 1, 1, 0])"
      ]
     },
     "execution_count": 30,
     "metadata": {},
     "output_type": "execute_result"
    }
   ],
   "source": [
    "# predict classes observations in DNA_test_set \n",
    "gNB.predict(DNA_test_set)"
   ]
  },
  {
   "cell_type": "markdown",
   "metadata": {},
   "source": [
    "How does the predicted data set compare to the actual data set of antimicrobial resistance?"
   ]
  },
  {
   "cell_type": "code",
   "execution_count": 31,
   "metadata": {},
   "outputs": [
    {
     "data": {
      "text/html": [
       "<div>\n",
       "<style scoped>\n",
       "    .dataframe tbody tr th:only-of-type {\n",
       "        vertical-align: middle;\n",
       "    }\n",
       "\n",
       "    .dataframe tbody tr th {\n",
       "        vertical-align: top;\n",
       "    }\n",
       "\n",
       "    .dataframe thead th {\n",
       "        text-align: right;\n",
       "    }\n",
       "</style>\n",
       "<table border=\"1\" class=\"dataframe\">\n",
       "  <thead>\n",
       "    <tr style=\"text-align: right;\">\n",
       "      <th></th>\n",
       "      <th>Bacteria 274</th>\n",
       "      <th>Bacteria 275</th>\n",
       "      <th>Bacteria 276</th>\n",
       "      <th>Bacteria 277</th>\n",
       "      <th>Bacteria 278</th>\n",
       "      <th>Bacteria 279</th>\n",
       "      <th>Bacteria 280</th>\n",
       "      <th>Bacteria 281</th>\n",
       "      <th>Bacteria 282</th>\n",
       "      <th>Bacteria 283</th>\n",
       "      <th>...</th>\n",
       "      <th>Bacteria 382</th>\n",
       "      <th>Bacteria 383</th>\n",
       "      <th>Bacteria 384</th>\n",
       "      <th>Bacteria 385</th>\n",
       "      <th>Bacteria 386</th>\n",
       "      <th>Bacteria 387</th>\n",
       "      <th>Bacteria 388</th>\n",
       "      <th>Bacteria 389</th>\n",
       "      <th>Bacteria 390</th>\n",
       "      <th>Bacteria 391</th>\n",
       "    </tr>\n",
       "  </thead>\n",
       "  <tbody>\n",
       "    <tr>\n",
       "      <th>Predicted</th>\n",
       "      <td>0</td>\n",
       "      <td>1</td>\n",
       "      <td>1</td>\n",
       "      <td>0</td>\n",
       "      <td>1</td>\n",
       "      <td>0</td>\n",
       "      <td>0</td>\n",
       "      <td>0</td>\n",
       "      <td>1</td>\n",
       "      <td>0</td>\n",
       "      <td>...</td>\n",
       "      <td>0</td>\n",
       "      <td>0</td>\n",
       "      <td>1</td>\n",
       "      <td>0</td>\n",
       "      <td>0</td>\n",
       "      <td>1</td>\n",
       "      <td>0</td>\n",
       "      <td>1</td>\n",
       "      <td>1</td>\n",
       "      <td>0</td>\n",
       "    </tr>\n",
       "    <tr>\n",
       "      <th>Actual</th>\n",
       "      <td>0</td>\n",
       "      <td>1</td>\n",
       "      <td>1</td>\n",
       "      <td>1</td>\n",
       "      <td>1</td>\n",
       "      <td>0</td>\n",
       "      <td>0</td>\n",
       "      <td>0</td>\n",
       "      <td>1</td>\n",
       "      <td>1</td>\n",
       "      <td>...</td>\n",
       "      <td>0</td>\n",
       "      <td>0</td>\n",
       "      <td>1</td>\n",
       "      <td>0</td>\n",
       "      <td>0</td>\n",
       "      <td>0</td>\n",
       "      <td>0</td>\n",
       "      <td>1</td>\n",
       "      <td>1</td>\n",
       "      <td>0</td>\n",
       "    </tr>\n",
       "  </tbody>\n",
       "</table>\n",
       "<p>2 rows × 118 columns</p>\n",
       "</div>"
      ],
      "text/plain": [
       "           Bacteria 274  Bacteria 275  Bacteria 276  Bacteria 277  \\\n",
       "Predicted             0             1             1             0   \n",
       "Actual                0             1             1             1   \n",
       "\n",
       "           Bacteria 278  Bacteria 279  Bacteria 280  Bacteria 281  \\\n",
       "Predicted             1             0             0             0   \n",
       "Actual                1             0             0             0   \n",
       "\n",
       "           Bacteria 282  Bacteria 283  ...  Bacteria 382  Bacteria 383  \\\n",
       "Predicted             1             0  ...             0             0   \n",
       "Actual                1             1  ...             0             0   \n",
       "\n",
       "           Bacteria 384  Bacteria 385  Bacteria 386  Bacteria 387  \\\n",
       "Predicted             1             0             0             1   \n",
       "Actual                1             0             0             0   \n",
       "\n",
       "           Bacteria 388  Bacteria 389  Bacteria 390  Bacteria 391  \n",
       "Predicted             0             1             1             0  \n",
       "Actual                0             1             1             0  \n",
       "\n",
       "[2 rows x 118 columns]"
      ]
     },
     "execution_count": 31,
     "metadata": {},
     "output_type": "execute_result"
    }
   ],
   "source": [
    "pd.DataFrame([gNB.predict(DNA_test_set),labels_test_set.values.ravel()], \n",
    "             columns=DNA_test_set.index,index=['Predicted','Actual'])"
   ]
  },
  {
   "cell_type": "markdown",
   "metadata": {},
   "source": [
    "## 3.C Predict Probabilities \n",
    "\n",
    "How does the classifier decide which category an observation belongs to? \n",
    "\n",
    "\n",
    "The classifier considers the possibility that an observation can fall into either the susceptible or resistant class. It then computes the probability of being in either class from the features of the observation. \n",
    "\n",
    "<img src=\"images/03_predict_prob.png\" alt=\"Drawing\" style=\"width: 600px;\"/>\n",
    "\n",
    "\n",
    "If the probability of being in a class is above some threshold, the classifier assigns that class to the observation in question.\n",
    "\n",
    "We can retrieve this probability using the ```predict_proba``` method.\n",
    "\n",
    "### 3.C.1 Probability values of a single observation\n"
   ]
  },
  {
   "cell_type": "code",
   "execution_count": 32,
   "metadata": {},
   "outputs": [
    {
     "data": {
      "text/html": [
       "<div>\n",
       "<style scoped>\n",
       "    .dataframe tbody tr th:only-of-type {\n",
       "        vertical-align: middle;\n",
       "    }\n",
       "\n",
       "    .dataframe tbody tr th {\n",
       "        vertical-align: top;\n",
       "    }\n",
       "\n",
       "    .dataframe thead th {\n",
       "        text-align: right;\n",
       "    }\n",
       "</style>\n",
       "<table border=\"1\" class=\"dataframe\">\n",
       "  <thead>\n",
       "    <tr style=\"text-align: right;\">\n",
       "      <th></th>\n",
       "      <th>tggagcgccgggcggatcggttccgtactat</th>\n",
       "      <th>ggagcgccgggcggatcggttccgtactatc</th>\n",
       "      <th>gagcgccgggcggatcggttccgtactatcc</th>\n",
       "      <th>agcgccgggcggatcggttccgtactatccg</th>\n",
       "      <th>gcgccgggcggatcggttccgtactatccgt</th>\n",
       "      <th>cgccgggcggatcggttccgtactatccgta</th>\n",
       "      <th>gccgggcggatcggttccgtactatccgtac</th>\n",
       "      <th>ccgggcggatcggttccgtactatccgtact</th>\n",
       "      <th>cgggcggatcggttccgtactatccgtactg</th>\n",
       "      <th>gggcggatcggttccgtactatccgtactgc</th>\n",
       "      <th>...</th>\n",
       "      <th>cttttggtctttcctgttaggtggaacgtta</th>\n",
       "      <th>ttttggtctttcctgttaggtggaacgttac</th>\n",
       "      <th>tttggtctttcctgttaggtggaacgttacc</th>\n",
       "      <th>ttggtctttcctgttaggtggaacgttacct</th>\n",
       "      <th>tggtctttcctgttaggtggaacgttaccta</th>\n",
       "      <th>ggtctttcctgttaggtggaacgttacctac</th>\n",
       "      <th>gtctttcctgttaggtggaacgttacctact</th>\n",
       "      <th>tctttcctgttaggtggaacgttacctactt</th>\n",
       "      <th>ctttcctgttaggtggaacgttacctacttc</th>\n",
       "      <th>tttcctgttaggtggaacgttacctacttct</th>\n",
       "    </tr>\n",
       "  </thead>\n",
       "  <tbody>\n",
       "    <tr>\n",
       "      <th>Bacteria 274</th>\n",
       "      <td>0</td>\n",
       "      <td>0</td>\n",
       "      <td>0</td>\n",
       "      <td>0</td>\n",
       "      <td>0</td>\n",
       "      <td>0</td>\n",
       "      <td>0</td>\n",
       "      <td>0</td>\n",
       "      <td>0</td>\n",
       "      <td>0</td>\n",
       "      <td>...</td>\n",
       "      <td>0</td>\n",
       "      <td>0</td>\n",
       "      <td>0</td>\n",
       "      <td>0</td>\n",
       "      <td>0</td>\n",
       "      <td>0</td>\n",
       "      <td>0</td>\n",
       "      <td>0</td>\n",
       "      <td>0</td>\n",
       "      <td>0</td>\n",
       "    </tr>\n",
       "  </tbody>\n",
       "</table>\n",
       "<p>1 rows × 73016 columns</p>\n",
       "</div>"
      ],
      "text/plain": [
       "              tggagcgccgggcggatcggttccgtactat  \\\n",
       "Bacteria 274                                0   \n",
       "\n",
       "              ggagcgccgggcggatcggttccgtactatc  \\\n",
       "Bacteria 274                                0   \n",
       "\n",
       "              gagcgccgggcggatcggttccgtactatcc  \\\n",
       "Bacteria 274                                0   \n",
       "\n",
       "              agcgccgggcggatcggttccgtactatccg  \\\n",
       "Bacteria 274                                0   \n",
       "\n",
       "              gcgccgggcggatcggttccgtactatccgt  \\\n",
       "Bacteria 274                                0   \n",
       "\n",
       "              cgccgggcggatcggttccgtactatccgta  \\\n",
       "Bacteria 274                                0   \n",
       "\n",
       "              gccgggcggatcggttccgtactatccgtac  \\\n",
       "Bacteria 274                                0   \n",
       "\n",
       "              ccgggcggatcggttccgtactatccgtact  \\\n",
       "Bacteria 274                                0   \n",
       "\n",
       "              cgggcggatcggttccgtactatccgtactg  \\\n",
       "Bacteria 274                                0   \n",
       "\n",
       "              gggcggatcggttccgtactatccgtactgc  ...  \\\n",
       "Bacteria 274                                0  ...   \n",
       "\n",
       "              cttttggtctttcctgttaggtggaacgtta  \\\n",
       "Bacteria 274                                0   \n",
       "\n",
       "              ttttggtctttcctgttaggtggaacgttac  \\\n",
       "Bacteria 274                                0   \n",
       "\n",
       "              tttggtctttcctgttaggtggaacgttacc  \\\n",
       "Bacteria 274                                0   \n",
       "\n",
       "              ttggtctttcctgttaggtggaacgttacct  \\\n",
       "Bacteria 274                                0   \n",
       "\n",
       "              tggtctttcctgttaggtggaacgttaccta  \\\n",
       "Bacteria 274                                0   \n",
       "\n",
       "              ggtctttcctgttaggtggaacgttacctac  \\\n",
       "Bacteria 274                                0   \n",
       "\n",
       "              gtctttcctgttaggtggaacgttacctact  \\\n",
       "Bacteria 274                                0   \n",
       "\n",
       "              tctttcctgttaggtggaacgttacctactt  \\\n",
       "Bacteria 274                                0   \n",
       "\n",
       "              ctttcctgttaggtggaacgttacctacttc  tttcctgttaggtggaacgttacctacttct  \n",
       "Bacteria 274                                0                                0  \n",
       "\n",
       "[1 rows x 73016 columns]"
      ]
     },
     "execution_count": 32,
     "metadata": {},
     "output_type": "execute_result"
    }
   ],
   "source": [
    "first_observation"
   ]
  },
  {
   "cell_type": "code",
   "execution_count": 33,
   "metadata": {},
   "outputs": [
    {
     "data": {
      "text/plain": [
       "array([[1., 0.]])"
      ]
     },
     "execution_count": 33,
     "metadata": {},
     "output_type": "execute_result"
    }
   ],
   "source": [
    "# predict class of first_observation\n",
    "gNB.predict_proba(first_observation)"
   ]
  },
  {
   "cell_type": "markdown",
   "metadata": {},
   "source": [
    "The model predicts a $100\\%$ chance that the observation will be resistant and a $0\\%$ chance that the observation will be susceptible."
   ]
  },
  {
   "cell_type": "markdown",
   "metadata": {},
   "source": [
    "### Exercise 3.C.1: Probability of the tenth observation\n",
    "\n",
    "Using the trained Gaussian Naive Bayes model, ```gNB```, and the ```predict_proba``` method, compute and interept the probability values of the tenth observation in our test set. "
   ]
  },
  {
   "cell_type": "code",
   "execution_count": 34,
   "metadata": {},
   "outputs": [
    {
     "data": {
      "text/html": [
       "<div>\n",
       "<style scoped>\n",
       "    .dataframe tbody tr th:only-of-type {\n",
       "        vertical-align: middle;\n",
       "    }\n",
       "\n",
       "    .dataframe tbody tr th {\n",
       "        vertical-align: top;\n",
       "    }\n",
       "\n",
       "    .dataframe thead th {\n",
       "        text-align: right;\n",
       "    }\n",
       "</style>\n",
       "<table border=\"1\" class=\"dataframe\">\n",
       "  <thead>\n",
       "    <tr style=\"text-align: right;\">\n",
       "      <th></th>\n",
       "      <th>tggagcgccgggcggatcggttccgtactat</th>\n",
       "      <th>ggagcgccgggcggatcggttccgtactatc</th>\n",
       "      <th>gagcgccgggcggatcggttccgtactatcc</th>\n",
       "      <th>agcgccgggcggatcggttccgtactatccg</th>\n",
       "      <th>gcgccgggcggatcggttccgtactatccgt</th>\n",
       "      <th>cgccgggcggatcggttccgtactatccgta</th>\n",
       "      <th>gccgggcggatcggttccgtactatccgtac</th>\n",
       "      <th>ccgggcggatcggttccgtactatccgtact</th>\n",
       "      <th>cgggcggatcggttccgtactatccgtactg</th>\n",
       "      <th>gggcggatcggttccgtactatccgtactgc</th>\n",
       "      <th>...</th>\n",
       "      <th>cttttggtctttcctgttaggtggaacgtta</th>\n",
       "      <th>ttttggtctttcctgttaggtggaacgttac</th>\n",
       "      <th>tttggtctttcctgttaggtggaacgttacc</th>\n",
       "      <th>ttggtctttcctgttaggtggaacgttacct</th>\n",
       "      <th>tggtctttcctgttaggtggaacgttaccta</th>\n",
       "      <th>ggtctttcctgttaggtggaacgttacctac</th>\n",
       "      <th>gtctttcctgttaggtggaacgttacctact</th>\n",
       "      <th>tctttcctgttaggtggaacgttacctactt</th>\n",
       "      <th>ctttcctgttaggtggaacgttacctacttc</th>\n",
       "      <th>tttcctgttaggtggaacgttacctacttct</th>\n",
       "    </tr>\n",
       "  </thead>\n",
       "  <tbody>\n",
       "    <tr>\n",
       "      <th>Bacteria 283</th>\n",
       "      <td>0</td>\n",
       "      <td>0</td>\n",
       "      <td>0</td>\n",
       "      <td>0</td>\n",
       "      <td>0</td>\n",
       "      <td>0</td>\n",
       "      <td>0</td>\n",
       "      <td>0</td>\n",
       "      <td>0</td>\n",
       "      <td>0</td>\n",
       "      <td>...</td>\n",
       "      <td>0</td>\n",
       "      <td>0</td>\n",
       "      <td>0</td>\n",
       "      <td>0</td>\n",
       "      <td>0</td>\n",
       "      <td>0</td>\n",
       "      <td>0</td>\n",
       "      <td>0</td>\n",
       "      <td>0</td>\n",
       "      <td>0</td>\n",
       "    </tr>\n",
       "  </tbody>\n",
       "</table>\n",
       "<p>1 rows × 73016 columns</p>\n",
       "</div>"
      ],
      "text/plain": [
       "              tggagcgccgggcggatcggttccgtactat  \\\n",
       "Bacteria 283                                0   \n",
       "\n",
       "              ggagcgccgggcggatcggttccgtactatc  \\\n",
       "Bacteria 283                                0   \n",
       "\n",
       "              gagcgccgggcggatcggttccgtactatcc  \\\n",
       "Bacteria 283                                0   \n",
       "\n",
       "              agcgccgggcggatcggttccgtactatccg  \\\n",
       "Bacteria 283                                0   \n",
       "\n",
       "              gcgccgggcggatcggttccgtactatccgt  \\\n",
       "Bacteria 283                                0   \n",
       "\n",
       "              cgccgggcggatcggttccgtactatccgta  \\\n",
       "Bacteria 283                                0   \n",
       "\n",
       "              gccgggcggatcggttccgtactatccgtac  \\\n",
       "Bacteria 283                                0   \n",
       "\n",
       "              ccgggcggatcggttccgtactatccgtact  \\\n",
       "Bacteria 283                                0   \n",
       "\n",
       "              cgggcggatcggttccgtactatccgtactg  \\\n",
       "Bacteria 283                                0   \n",
       "\n",
       "              gggcggatcggttccgtactatccgtactgc  ...  \\\n",
       "Bacteria 283                                0  ...   \n",
       "\n",
       "              cttttggtctttcctgttaggtggaacgtta  \\\n",
       "Bacteria 283                                0   \n",
       "\n",
       "              ttttggtctttcctgttaggtggaacgttac  \\\n",
       "Bacteria 283                                0   \n",
       "\n",
       "              tttggtctttcctgttaggtggaacgttacc  \\\n",
       "Bacteria 283                                0   \n",
       "\n",
       "              ttggtctttcctgttaggtggaacgttacct  \\\n",
       "Bacteria 283                                0   \n",
       "\n",
       "              tggtctttcctgttaggtggaacgttaccta  \\\n",
       "Bacteria 283                                0   \n",
       "\n",
       "              ggtctttcctgttaggtggaacgttacctac  \\\n",
       "Bacteria 283                                0   \n",
       "\n",
       "              gtctttcctgttaggtggaacgttacctact  \\\n",
       "Bacteria 283                                0   \n",
       "\n",
       "              tctttcctgttaggtggaacgttacctactt  \\\n",
       "Bacteria 283                                0   \n",
       "\n",
       "              ctttcctgttaggtggaacgttacctacttc  tttcctgttaggtggaacgttacctacttct  \n",
       "Bacteria 283                                0                                0  \n",
       "\n",
       "[1 rows x 73016 columns]"
      ]
     },
     "execution_count": 34,
     "metadata": {},
     "output_type": "execute_result"
    }
   ],
   "source": [
    "tenth_observation"
   ]
  },
  {
   "cell_type": "code",
   "execution_count": 35,
   "metadata": {},
   "outputs": [
    {
     "data": {
      "text/plain": [
       "array([[1., 0.]])"
      ]
     },
     "execution_count": 35,
     "metadata": {},
     "output_type": "execute_result"
    }
   ],
   "source": [
    "# enter solution here\n",
    "gNB.predict_proba(tenth_observation)"
   ]
  },
  {
   "cell_type": "markdown",
   "metadata": {},
   "source": [
    "The model predicts a $100\\%$ chance that the observation will be resistant and a $0\\%$ chance that the observation will be susceptible."
   ]
  },
  {
   "cell_type": "markdown",
   "metadata": {},
   "source": [
    "### 3.C.2 Predicting the entire dataset\n",
    "\n",
    "Now using ```predict_proba``` and our learned model, let's compute the probabilities of all observations in the test set."
   ]
  },
  {
   "cell_type": "code",
   "execution_count": 36,
   "metadata": {
    "scrolled": true
   },
   "outputs": [],
   "source": [
    "# predict_proba of DNA_test_set\n",
    "# store in probabilities_test_set\n",
    "probabilities_test_set = gNB.predict_proba(DNA_test_set)"
   ]
  },
  {
   "cell_type": "code",
   "execution_count": 37,
   "metadata": {
    "scrolled": true
   },
   "outputs": [
    {
     "data": {
      "text/html": [
       "<div>\n",
       "<style scoped>\n",
       "    .dataframe tbody tr th:only-of-type {\n",
       "        vertical-align: middle;\n",
       "    }\n",
       "\n",
       "    .dataframe tbody tr th {\n",
       "        vertical-align: top;\n",
       "    }\n",
       "\n",
       "    .dataframe thead th {\n",
       "        text-align: right;\n",
       "    }\n",
       "</style>\n",
       "<table border=\"1\" class=\"dataframe\">\n",
       "  <thead>\n",
       "    <tr style=\"text-align: right;\">\n",
       "      <th></th>\n",
       "      <th>Probability of being resistant</th>\n",
       "      <th>Probability of being susceptible</th>\n",
       "    </tr>\n",
       "  </thead>\n",
       "  <tbody>\n",
       "    <tr>\n",
       "      <th>Bacteria 274</th>\n",
       "      <td>1.0</td>\n",
       "      <td>0.0</td>\n",
       "    </tr>\n",
       "    <tr>\n",
       "      <th>Bacteria 275</th>\n",
       "      <td>0.0</td>\n",
       "      <td>1.0</td>\n",
       "    </tr>\n",
       "    <tr>\n",
       "      <th>Bacteria 276</th>\n",
       "      <td>0.0</td>\n",
       "      <td>1.0</td>\n",
       "    </tr>\n",
       "    <tr>\n",
       "      <th>Bacteria 277</th>\n",
       "      <td>1.0</td>\n",
       "      <td>0.0</td>\n",
       "    </tr>\n",
       "    <tr>\n",
       "      <th>Bacteria 278</th>\n",
       "      <td>0.0</td>\n",
       "      <td>1.0</td>\n",
       "    </tr>\n",
       "    <tr>\n",
       "      <th>...</th>\n",
       "      <td>...</td>\n",
       "      <td>...</td>\n",
       "    </tr>\n",
       "    <tr>\n",
       "      <th>Bacteria 387</th>\n",
       "      <td>0.0</td>\n",
       "      <td>1.0</td>\n",
       "    </tr>\n",
       "    <tr>\n",
       "      <th>Bacteria 388</th>\n",
       "      <td>1.0</td>\n",
       "      <td>0.0</td>\n",
       "    </tr>\n",
       "    <tr>\n",
       "      <th>Bacteria 389</th>\n",
       "      <td>0.0</td>\n",
       "      <td>1.0</td>\n",
       "    </tr>\n",
       "    <tr>\n",
       "      <th>Bacteria 390</th>\n",
       "      <td>0.0</td>\n",
       "      <td>1.0</td>\n",
       "    </tr>\n",
       "    <tr>\n",
       "      <th>Bacteria 391</th>\n",
       "      <td>1.0</td>\n",
       "      <td>0.0</td>\n",
       "    </tr>\n",
       "  </tbody>\n",
       "</table>\n",
       "<p>118 rows × 2 columns</p>\n",
       "</div>"
      ],
      "text/plain": [
       "              Probability of being resistant  Probability of being susceptible\n",
       "Bacteria 274                             1.0                               0.0\n",
       "Bacteria 275                             0.0                               1.0\n",
       "Bacteria 276                             0.0                               1.0\n",
       "Bacteria 277                             1.0                               0.0\n",
       "Bacteria 278                             0.0                               1.0\n",
       "...                                      ...                               ...\n",
       "Bacteria 387                             0.0                               1.0\n",
       "Bacteria 388                             1.0                               0.0\n",
       "Bacteria 389                             0.0                               1.0\n",
       "Bacteria 390                             0.0                               1.0\n",
       "Bacteria 391                             1.0                               0.0\n",
       "\n",
       "[118 rows x 2 columns]"
      ]
     },
     "execution_count": 37,
     "metadata": {},
     "output_type": "execute_result"
    }
   ],
   "source": [
    "pd.DataFrame(probabilities_test_set,\n",
    "             index=DNA_test_set.index,\n",
    "             columns=['Probability of being resistant','Probability of being susceptible'])"
   ]
  },
  {
   "cell_type": "markdown",
   "metadata": {},
   "source": [
    "## 3.D Confusion Matrix\n",
    "\n",
    "Let's go back to the predicted classes of the test observations."
   ]
  },
  {
   "cell_type": "code",
   "execution_count": null,
   "metadata": {},
   "outputs": [],
   "source": [
    "pd.DataFrame([gNB.predict(DNA_test_set),labels_test_set.values.ravel()], \n",
    "             columns=DNA_test_set.index,index=['Predicted','Actual'])"
   ]
  },
  {
   "cell_type": "markdown",
   "metadata": {},
   "source": [
    "It's quite difficult to compare list of predicted and actual resistance categories. \n",
    "\n",
    "Is there a more quantitative way of evaluating the quality of the classifier? Yes, there is a more quantitative way! One popular way of evaluating the quality of a classifier is **Confusion Matrix**.\n",
    "\n",
    "**Confusion Matrix** tabulates the results that are correctly and incorrectly classified.\n",
    "\n",
    "<img src=\"images/03_confusion_matrix.png\" alt=\"Drawing\" style=\"width: 500px;\"/>\n"
   ]
  },
  {
   "cell_type": "markdown",
   "metadata": {},
   "source": [
    "The ```confusion_matrix``` method in sklearn.metrics module generates the confusion matrix."
   ]
  },
  {
   "cell_type": "code",
   "execution_count": null,
   "metadata": {},
   "outputs": [],
   "source": [
    "from sklearn.metrics import confusion_matrix\n",
    "\n",
    "# confusion matrix of gNB.predict(DNA_test_set) and labels_test_set\n",
    "# store in confusionMatrix\n",
    "\n"
   ]
  },
  {
   "cell_type": "code",
   "execution_count": null,
   "metadata": {},
   "outputs": [],
   "source": [
    "confusionMatrix_df = pd.DataFrame(confusionMatrix,\n",
    "                                  columns=['Predicted: 0' , 'Predicted: 1'],\n",
    "                                  index=['Actual: 0' , 'Actual: 1'])\n",
    "confusionMatrix_df"
   ]
  },
  {
   "cell_type": "markdown",
   "metadata": {},
   "source": [
    "## 3.D.1 Exercise\n",
    "\n",
    "The cells of the confusion matrix have special names:\n",
    "    \n",
    "\n",
    "| . | Predicted: 0 | Predicted: 1 |\n",
    "| --- | --- | --- |\n",
    "| **Actual: 0** | True Negative (TN) | False Positive  (FP) |\n",
    "| **Actual: 1** | False Negative (FN) | True Positive  (TP) |\n",
    "    \n",
    "Given these names and the confusion matrix we generated above, what are the values for\n",
    "- True Negative\n",
    "- False Positive\n",
    "- False Negative\n",
    "- True Positive?\n",
    "\n",
    "With your neighbor, discuss the definition of these words."
   ]
  },
  {
   "cell_type": "code",
   "execution_count": null,
   "metadata": {},
   "outputs": [],
   "source": [
    "#enter solution here\n"
   ]
  },
  {
   "cell_type": "markdown",
   "metadata": {},
   "source": [
    "## 3.D.2 Exercise\n",
    "\n",
    "We have two important formulas:\n",
    "$$ \\text{true positive rates} = \\frac{\\text{TP}}{\\text{TP} + \\text{FN}}= \\text{fraction of susceptible bacteria correctly classified} $$\n",
    "\n",
    "$$ \\text{false positive rates} = \\frac{\\text{FP}}{\\text{FP} + \\text{TN}} = \\text{fraction of resistant bacteria incorrectly classified}.$$\n",
    "\n",
    "Calculate these values for the confusion matrix above."
   ]
  },
  {
   "cell_type": "code",
   "execution_count": null,
   "metadata": {},
   "outputs": [],
   "source": [
    "# enter solution here true positive rates\n"
   ]
  },
  {
   "cell_type": "code",
   "execution_count": null,
   "metadata": {},
   "outputs": [],
   "source": [
    "# enter solution here false positive rates\n"
   ]
  },
  {
   "cell_type": "markdown",
   "metadata": {},
   "source": [
    "## 3.E Quality of Model"
   ]
  },
  {
   "cell_type": "markdown",
   "metadata": {},
   "source": [
    "The quality of a classifier is measured by the fraction of all observations correctly classified. The ```score``` method of the ```GaussianNB()``` computes the fraction of observations correctly classified."
   ]
  },
  {
   "cell_type": "code",
   "execution_count": null,
   "metadata": {},
   "outputs": [],
   "source": [
    "# score of DNA_test_set, labels_test_set \n"
   ]
  },
  {
   "cell_type": "code",
   "execution_count": null,
   "metadata": {},
   "outputs": [],
   "source": []
  }
 ],
 "metadata": {
  "kernelspec": {
   "display_name": "Python 3",
   "language": "python",
   "name": "python3"
  },
  "language_info": {
   "codemirror_mode": {
    "name": "ipython",
    "version": 3
   },
   "file_extension": ".py",
   "mimetype": "text/x-python",
   "name": "python",
   "nbconvert_exporter": "python",
   "pygments_lexer": "ipython3",
   "version": "3.7.6"
  }
 },
 "nbformat": 4,
 "nbformat_minor": 2
}
