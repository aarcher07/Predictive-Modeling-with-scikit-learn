{
 "cells": [
  {
   "cell_type": "markdown",
   "metadata": {},
   "source": [
    "# 0. Review\n",
    "## 0.A Scikit-Learn\n",
    "\n",
    "Scikit-Learn is a machine learning python package. It allows users to access machine learning algorithms via **object-oriented programming**."
   ]
  },
  {
   "cell_type": "markdown",
   "metadata": {},
   "source": [
    "## 0.B Data Set\n",
    "\n",
    "I will be using a dataset of antibiotic resistance in bacteria strains. \n",
    "\n",
    "- Each bacteria is labeled with its resistance to the antibiotic, azithromycin.\n",
    "- Additionally, each bacteria sample is labelled if its genome contains certain strands of DNA.\n",
    "\n",
    "We would like to learn antibiotic resistance from the bacterial genome. \n",
    "\n",
    "- Our predictors are whether strands of DNA are present.\n",
    "- Our response are resistance classes.\n",
    "\n",
    "First, we have to clean our data up. **This section will focus on data preprocessing.**\n",
    "\n",
    "\n",
    "## 0.C Data Preprocessing\n",
    "\n",
    "We did a bit of data preprocessing: \n",
    "\n",
    "- encoded the resistance feature as 0 - \"resistant,\" 1 - \"susceptible\".\n",
    "- encoded all features of the DNA strands as, 0 - \"if its genome does not contain the strand of DNA\", 1 - \"if its genome contains the strand of DNA.\"\n",
    "- standardized dataset of presence of DNA strands\n",
    "\n",
    "## 0.D Load Data\n",
    "Now, we load our dataset. Run the code below to load \n",
    "\n",
    "- the dataset, ```antibiotic_resistance_all_labels```, containing antibotic resistance phentype for each bacteria\n",
    "- the dataset, ```standardized_DNA_data_df```, containing standardized antibotic resistance phentype for each bacteria\n",
    "- and dataset, ```DNA_slices_all_df```, containing the genome of each bacteria "
   ]
  },
  {
   "cell_type": "code",
   "execution_count": null,
   "metadata": {
    "pycharm": {
     "is_executing": false
    }
   },
   "outputs": [],
   "source": [
    "import pandas as pd\n",
    "\n",
    "antibiotic_resistance_all_labels = pd.read_csv('datasets/antibiotic_resistance_encoded_labels',index_col=0)\n",
    "DNA_slices_all_df = pd.read_csv('datasets/DNA_slices_encoded_csv',index_col=0)"
   ]
  },
  {
   "cell_type": "code",
   "execution_count": null,
   "metadata": {},
   "outputs": [],
   "source": [
    "#create standardized data\n",
    "from sklearn.preprocessing import StandardScaler\n",
    "scaler = StandardScaler()\n",
    "standardized_DNA_data = scaler.fit_transform(DNA_slices_all_df)\n",
    "standardized_DNA_data_df = pd.DataFrame(standardized_DNA_data,\n",
    "                                        columns=DNA_slices_all_df.columns,\n",
    "                                        index=DNA_slices_all_df.index)"
   ]
  },
  {
   "cell_type": "markdown",
   "metadata": {},
   "source": [
    "**In this section, we will be covering unsupervised learning.**\n",
    "\n",
    "Recall that **unsupervised learning** is extracting structure from data (self-organized learning - find previously unknown patterns in data set without pre-existing labels)."
   ]
  },
  {
   "cell_type": "markdown",
   "metadata": {},
   "source": [
    "# 7. Dimensionality Reduction: PCA\n",
    "\n",
    "It is difficult to visualize data with many features. The human mind is mostly limited to three dimensions. \n",
    "\n",
    "One popular technique of reducing dimensions and grouping features together is PCA.\n",
    "\n",
    "PCA attempts to project high dimensional data onto directions of highest variance of the data.\n",
    "\n",
    "## 7.A PCA for data with two features\n",
    "### 7.B.1 Reduction to one dimension\n",
    "\n",
    "<img src=\"images/07_PCA_01.png\" alt=\"Drawing\" style=\"width: 1000px;\"/>\n",
    "\n",
    "\n",
    "## 7.B PCA for data with three features\n",
    "\n",
    "### 7.B.1 Reduction to one dimension\n",
    "\n",
    "<img src=\"images/07_PCA_03.png\" alt=\"Drawing\" style=\"width: 1000px;\"/>\n",
    "\n",
    "### 7.B.2 Reduction to two dimensions\n",
    "\n",
    "<img src=\"images/07_PCA_04.png\" alt=\"Drawing\" style=\"width: 1000px;\"/>\n"
   ]
  },
  {
   "cell_type": "markdown",
   "metadata": {},
   "source": [
    "## 7.C PCA on the DNA slices dataframe\n",
    "\n",
    "```DNA_slices_all_df``` is very high dimensional. To get some idea of what the data looks like, we will use PCA to project the data into two dimensions."
   ]
  },
  {
   "cell_type": "markdown",
   "metadata": {},
   "source": [
    "### I. Initialize ```PCA``` object"
   ]
  },
  {
   "cell_type": "code",
   "execution_count": null,
   "metadata": {},
   "outputs": [],
   "source": [
    "from sklearn.decomposition import PCA\n",
    "# initialize PCA with n_components = 2\n",
    "# initialize PCA as pca\n"
   ]
  },
  {
   "cell_type": "markdown",
   "metadata": {},
   "source": [
    "### II. Fit PCA object"
   ]
  },
  {
   "cell_type": "code",
   "execution_count": null,
   "metadata": {},
   "outputs": [],
   "source": [
    "# fit pca to standardized_DNA_data_df\n"
   ]
  },
  {
   "cell_type": "markdown",
   "metadata": {},
   "source": [
    "### III. Transform Data"
   ]
  },
  {
   "cell_type": "code",
   "execution_count": null,
   "metadata": {},
   "outputs": [],
   "source": [
    "# transform standardized_DNA_data_df using pca.transform\n",
    "# store as transformed_data \n"
   ]
  },
  {
   "cell_type": "markdown",
   "metadata": {},
   "source": [
    "###  IV. Plot reduced data"
   ]
  },
  {
   "cell_type": "code",
   "execution_count": null,
   "metadata": {},
   "outputs": [],
   "source": [
    "# plot of two dimensional data\n",
    "\n",
    "import matplotlib.pyplot as plt\n",
    "\n",
    "\n",
    "#plot suspectible strains\n",
    "plt.figure(figsize=(10,6))\n",
    "%matplotlib inline\n",
    "presence_0 = [element == 0 for element in antibiotic_resistance_all_labels.values.ravel()]\n",
    "\n",
    "plt.scatter(transformed_data[presence_0, 0],\n",
    "            transformed_data[presence_0, 1],\n",
    "            label='label = 0 (Resistant)',\n",
    "            c='r')\n",
    "\n",
    "#plot resistant strains\n",
    "\n",
    "presence_1 = [element == 1 for element in antibiotic_resistance_all_labels.values.ravel()]\n",
    "\n",
    "plt.scatter(transformed_data[presence_1, 0],\n",
    "            transformed_data[presence_1, 1],\n",
    "            label='label = 1 (Susceptible)',\n",
    "            c='b')\n",
    "\n",
    "\n",
    "plt.xlabel('First Component')\n",
    "plt.ylabel('Second Component')\n",
    "plt.title('PCA plot of k-mer test data')\n",
    "plt.legend()\n",
    "plt.show()"
   ]
  },
  {
   "cell_type": "code",
   "execution_count": null,
   "metadata": {},
   "outputs": [],
   "source": [
    "# zoomed in plot of two dimensional data\n",
    "\n",
    "import matplotlib.pyplot as plt\n",
    "\n",
    "#plot suspectible strains\n",
    "plt.figure(figsize=(10,6))\n",
    "%matplotlib inline\n",
    "presence_0 = [element == 0 for element in antibiotic_resistance_all_labels.values.ravel()]\n",
    "\n",
    "plt.scatter(transformed_data[presence_0, 0],\n",
    "            transformed_data[presence_0, 1],\n",
    "            label='label = 0 (Resistant)',\n",
    "            c='r')\n",
    "\n",
    "#plot resistant strains\n",
    "\n",
    "presence_1 = [element == 1 for element in antibiotic_resistance_all_labels.values.ravel()]\n",
    "\n",
    "plt.scatter(transformed_data[presence_1, 0],\n",
    "            transformed_data[presence_1, 1],\n",
    "            label='label = 1 (Susceptible)',\n",
    "            c='b')\n",
    "\n",
    "plt.xlim([-25,25])\n",
    "plt.ylim([-25,25])\n",
    "plt.xlabel('First Component')\n",
    "plt.ylabel('Second Component')\n",
    "plt.title('PCA plot of k-mer test data')\n",
    "plt.legend()\n",
    "plt.show()"
   ]
  },
  {
   "cell_type": "markdown",
   "metadata": {},
   "source": [
    "## 7.C.2 Exercise: Reduction to 3-D\n",
    "\n",
    "We can also reduce the data to three dimensions using PCA. We need three components to reduce three dimensions. \n",
    "\n",
    "Following the steps above, redo the PCA to reduce the data, ```standardized_DNA_data_df```, to three dimensions. Use ```transformed_3d``` to store your final transformed data."
   ]
  },
  {
   "cell_type": "code",
   "execution_count": null,
   "metadata": {},
   "outputs": [],
   "source": [
    "# enter solution here\n",
    "from sklearn.decomposition import PCA\n",
    "\n"
   ]
  },
  {
   "cell_type": "markdown",
   "metadata": {},
   "source": [
    "The code below plots the three dimensional reduced data."
   ]
  },
  {
   "cell_type": "code",
   "execution_count": null,
   "metadata": {},
   "outputs": [],
   "source": [
    "import matplotlib.pyplot as plt \n",
    "from mpl_toolkits.mplot3d import Axes3D\n",
    "\n",
    "%matplotlib notebook\n",
    "%matplotlib notebook\n",
    "\n",
    "fig =  plt.figure()\n",
    "ax = Axes3D(fig)\n",
    "\n",
    "\n",
    "#plot suspectible strains\n",
    "\n",
    "presence_0 = [element == 0 for element in antibiotic_resistance_all_labels.values.ravel()]\n",
    "\n",
    "ax.scatter(transformed_3d[presence_0, 0],\n",
    "           transformed_3d[presence_0, 1],\n",
    "           transformed_3d[presence_0, 2],\n",
    "           label='label = 0 (Resistant)',\n",
    "           c='r')\n",
    "\n",
    "#plot resistant strains\n",
    "\n",
    "presence_1 = [element == 1 for element in antibiotic_resistance_all_labels.values.ravel()]\n",
    "\n",
    "ax.scatter(transformed_3d[presence_1, 0],\n",
    "           transformed_3d[presence_1, 1],\n",
    "           transformed_3d[presence_1, 2],\n",
    "           label='label = 1 (Susceptible)',\n",
    "           c='b')\n",
    "\n",
    "ax.set_xlabel('First Component')\n",
    "ax.set_ylabel('Second Component')\n",
    "ax.set_zlabel('Third Component')\n",
    "plt.title('PCA plot of k-mer data')\n",
    "plt.legend()\n",
    "plt.show()"
   ]
  },
  {
   "cell_type": "code",
   "execution_count": null,
   "metadata": {},
   "outputs": [],
   "source": [
    "#### zoomed in plot ####\n",
    "\n",
    "import matplotlib.pyplot as plt \n",
    "from mpl_toolkits.mplot3d import Axes3D\n",
    "\n",
    "%matplotlib notebook\n",
    "%matplotlib notebook\n",
    "\n",
    "fig =  plt.figure()\n",
    "ax = Axes3D(fig)\n",
    "\n",
    "\n",
    "#plot suspectible strains\n",
    "\n",
    "presence_0 = [element == 0 for element in antibiotic_resistance_all_labels.values.ravel()]\n",
    "\n",
    "ax.scatter(transformed_3d[presence_0, 0],\n",
    "           transformed_3d[presence_0, 1],\n",
    "           transformed_3d[presence_0, 2],\n",
    "           label='label = 0 (Resistant)',\n",
    "           c='r')\n",
    "\n",
    "#plot resistant strains\n",
    "\n",
    "presence_1 = [element == 1 for element in antibiotic_resistance_all_labels.values.ravel()]\n",
    "\n",
    "ax.scatter(transformed_3d[presence_1, 0],\n",
    "           transformed_3d[presence_1, 1],\n",
    "           transformed_3d[presence_1, 2],\n",
    "           label='label = 1 (Susceptible)',\n",
    "           c='b')\n",
    "\n",
    "ax.set_xlim([-10,10])\n",
    "ax.set_ylim([-5,20])\n",
    "ax.set_zlim([-10,10])\n",
    "ax.set_xlabel('First Component')\n",
    "ax.set_ylabel('Second Component')\n",
    "ax.set_zlabel('Third Component')\n",
    "plt.title('PCA plot of k-mer data')\n",
    "plt.legend()\n",
    "plt.show()"
   ]
  },
  {
   "cell_type": "markdown",
   "metadata": {},
   "source": [
    "## 7.C.3 PCA: Explained Variance\n",
    "\n",
    "```PCA``` also calculates the variance in each direction. This is a measure of the information of a direction.\n",
    "\n",
    "To compare variance in each direction, it's common to analyze the explained variance ratio rather than the explained variance. Explained variance ratio is the explained variance in the each direction divided by the total variance in the data. The explained variance ratio is a measure of the \"information\" captured in each direction. \n",
    "\n",
    "```PCA``` stores explained variance as ```explained_variance_```. It also stores the explained variance ratio as ```explained_variance_ratio_```."
   ]
  },
  {
   "cell_type": "code",
   "execution_count": null,
   "metadata": {},
   "outputs": [],
   "source": [
    "# learn the three dimensional PCA\n",
    "from sklearn.decomposition import PCA\n",
    "\n",
    "# initialize PCA with n_components=3\n",
    "\n",
    "# fit_transform standardized_DNA_data_df and store in transformed_3d\n"
   ]
  },
  {
   "cell_type": "markdown",
   "metadata": {},
   "source": [
    "I calculate the explained variance below."
   ]
  },
  {
   "cell_type": "code",
   "execution_count": null,
   "metadata": {},
   "outputs": [],
   "source": [
    "#get explained variance, explained_variance_, store in explained_variance\n",
    "\n",
    "# print explained_variance\n"
   ]
  },
  {
   "cell_type": "code",
   "execution_count": null,
   "metadata": {
    "scrolled": false
   },
   "outputs": [],
   "source": [
    "# plot of explained variance\n",
    "\n",
    "n = len(explained_variance)\n",
    "\n",
    "x = range(0,n)\n",
    "\n",
    "%matplotlib inline\n",
    "fig, ax = plt.subplots()\n",
    "ax.scatter(x,explained_variance)\n",
    "ax.set_ylim(min(explained_variance)- 5,max(explained_variance)+100)\n",
    "for i in x:\n",
    "    ax.annotate(\"%.3f\" %explained_variance[i],\n",
    "                (i, explained_variance[i]), \n",
    "                (i-0.1, explained_variance[i]+5))\n",
    "ax.set_xlabel('component index')\n",
    "ax.set_ylabel('Explained Variance')\n",
    "ax.set_title('Scatter plot of Explained Variance')\n",
    "ax.set_xticks(range(0, n, 1))\n",
    "\n",
    "plt.show()"
   ]
  },
  {
   "cell_type": "markdown",
   "metadata": {},
   "source": [
    "I calculate and plot the explained variance ratio below."
   ]
  },
  {
   "cell_type": "code",
   "execution_count": null,
   "metadata": {},
   "outputs": [],
   "source": [
    "#get explained variance ratio, explained_variance_ratio_\n",
    "# store as explained_variance_ratio\n",
    "\n",
    "# print explained_variance_ratio\n"
   ]
  },
  {
   "cell_type": "code",
   "execution_count": null,
   "metadata": {},
   "outputs": [],
   "source": [
    "## show plot ##\n",
    "\n",
    "n = len(explained_variance_ratio)\n",
    "\n",
    "x = range(0,n)\n",
    "\n",
    "fig, ax = plt.subplots()\n",
    "ax.scatter(x,explained_variance_ratio)\n",
    "ax.set_ylim([-0.05,1.10])\n",
    "for i in x:\n",
    "    ax.annotate(\"%.3f\" %explained_variance_ratio[i],\n",
    "                (i, explained_variance_ratio[i]), \n",
    "                (i-0.1, explained_variance_ratio[i]+0.05))\n",
    "ax.set_xlabel('component index')\n",
    "ax.set_ylabel('Explained Variance Ratio')\n",
    "ax.set_title('Scatter plot of Explained Variance Ratio')\n",
    "ax.set_xticks(range(0, n, 1))\n",
    "\n",
    "plt.show()"
   ]
  },
  {
   "cell_type": "markdown",
   "metadata": {},
   "source": [
    "## 7.C.2 Exercise: The Drop-off \n",
    "\n",
    "When reducing the data, there is a loss in variance (and thus information). Typically if there significant drop-off in the explained variance, as in the plot below,\n",
    "\n",
    "<img src=\"images/07_PCA_drop_off_.png\" alt=\"Drawing\" style=\"width: 500px;\"/>\n",
    "\n",
    "many researchers have argued that it is possible to cut off lower variance components without much information.\n",
    "\n",
    "Play around with the number of components and determine if it is possible to find a drop-off in the explained variance. Please store your instance of ```PCA``` as ```pca```."
   ]
  },
  {
   "cell_type": "code",
   "execution_count": null,
   "metadata": {},
   "outputs": [],
   "source": [
    "#enter solution here\n"
   ]
  },
  {
   "cell_type": "code",
   "execution_count": null,
   "metadata": {
    "scrolled": true
   },
   "outputs": [],
   "source": [
    "# PCA with all components, pca = PCA()\n",
    "# fit_transform(standardized_DNA_data_df)\n",
    "\n",
    "\n",
    "# get pca.explained_variance_, store as explained_variance\n"
   ]
  },
  {
   "cell_type": "code",
   "execution_count": null,
   "metadata": {
    "scrolled": true
   },
   "outputs": [],
   "source": [
    "# get pca.explained_variance_ratio_, store as explained_variance_ratio\n",
    "\n"
   ]
  },
  {
   "cell_type": "code",
   "execution_count": null,
   "metadata": {},
   "outputs": [],
   "source": [
    "# compute the sum of explained_variance_ratio from 0 to 245th entry\n",
    "\n",
    "\n",
    "# first 245 columns contain 90% of the variance. Alot less than 73016\n",
    "\n"
   ]
  },
  {
   "cell_type": "code",
   "execution_count": null,
   "metadata": {
    "scrolled": false
   },
   "outputs": [],
   "source": [
    "\n",
    "### plot of explained variance,  explained variance ratio, log(explained variance ratio) ###\n",
    "\n",
    "n = len(explained_variance_ratio)\n",
    "\n",
    "x = range(0,n)\n",
    "\n",
    "fig, ax = plt.subplots(1,3)\n",
    "\n",
    "fig.set_size_inches(20, 5)\n",
    "\n",
    "ax[0].scatter(x,explained_variance)\n",
    "\n",
    "ax[0].set_xlabel('component index')\n",
    "ax[0].set_ylabel('Explained Variance')\n",
    "ax[0].set_title('Scatter plot of Explained Variance')\n",
    "ax[0].set_xticks(range(0, n, 100))\n",
    "\n",
    "ax[1].scatter(x,explained_variance_ratio)\n",
    "ax[1].set_xlabel('component index')\n",
    "ax[1].set_ylabel('Explained Variance')\n",
    "ax[1].set_title('Scatter plot of Explained Variance Ratio')\n",
    "ax[1].set_xticks(range(0, n, 100))\n",
    "\n",
    "import numpy as np\n",
    "ax[2].scatter(x,np.log(explained_variance_ratio))\n",
    "ax[2].set_xlabel('component index')\n",
    "ax[2].set_ylabel('log(Explained Variance)')\n",
    "ax[2].set_title('Scatter plot of Explained Variance Ratio')\n",
    "ax[2].set_xticks(range(0, n, 100))\n",
    "\n",
    "plt.show()"
   ]
  },
  {
   "cell_type": "code",
   "execution_count": null,
   "metadata": {},
   "outputs": [],
   "source": []
  }
 ],
 "metadata": {
  "kernelspec": {
   "display_name": "Python 3",
   "language": "python",
   "name": "python3"
  },
  "language_info": {
   "codemirror_mode": {
    "name": "ipython",
    "version": 3
   },
   "file_extension": ".py",
   "mimetype": "text/x-python",
   "name": "python",
   "nbconvert_exporter": "python",
   "pygments_lexer": "ipython3",
   "version": "3.7.6"
  },
  "pycharm": {
   "stem_cell": {
    "cell_type": "raw",
    "metadata": {
     "collapsed": false
    },
    "source": []
   }
  }
 },
 "nbformat": 4,
 "nbformat_minor": 2
}
