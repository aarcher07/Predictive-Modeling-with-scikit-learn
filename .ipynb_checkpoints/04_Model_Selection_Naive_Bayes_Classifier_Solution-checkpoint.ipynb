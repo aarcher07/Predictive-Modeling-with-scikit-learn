{
 "cells": [
  {
   "cell_type": "markdown",
   "metadata": {},
   "source": [
    "# 0. Review \n",
    "\n",
    "## 0.A Scikit-Learn\n",
    "\n",
    "Scikit-Learn is a machine learning python package. It allows users to access machine learning algorithms via **object-oriented programming**.\n",
    "\n",
    "## 0.B Data Set\n",
    "\n",
    "I will be using a dataset of antibiotic resistance in bacteria strains. \n",
    "\n",
    "- Each bacteria is labeled with its resistance to the antibiotic, azithromycin.\n",
    "- Additionally, each bacteria sample is labelled if its genome contains certain strands of DNA.\n",
    "\n",
    "We would like to learn antibiotic resistance from the bacterial genome.\n",
    "\n",
    "- Our predictors are whether strands of DNA are present.\n",
    "- Our response are resistance classes.\n",
    "\n",
    "\n",
    "## 0.C Data Preprocessing\n",
    "\n",
    "We did a bit of data preprocessing: \n",
    "\n",
    "- encoded the resistance feature as 0 - \"resistant,\" 1 - \"susceptible\".\n",
    "- encoded all features of the DNA strands as , 0 - \"if its genome does not contain the strand of DNA\", 1 - \"if its genome contains the strand of DNA.\"\n",
    "- did a 70:30 training-test split\n",
    "\n",
    "\n",
    "## 0.D Trained Model: Gaussian Naive Bayes\n",
    "\n",
    "Before, we use a Gaussian Naive Bayes algorithm to learn a classifier of antibiotic resistance in the bacteria. I run the code to create the model again."
   ]
  },
  {
   "cell_type": "code",
   "execution_count": 1,
   "metadata": {},
   "outputs": [],
   "source": [
    "import pandas as pd\n",
    "\n",
    "#load training data\n",
    "labels_training_set = pd.read_csv('datasets/labels_training_set',index_col=0)\n",
    "DNA_training_set = pd.read_csv('datasets/DNA_training_set',index_col=0)\n",
    "\n",
    "#load test data\n",
    "\n",
    "labels_test_set = pd.read_csv('datasets/labels_test_set',index_col=0)\n",
    "DNA_test_set = pd.read_csv('datasets/DNA_test_set',index_col=0)"
   ]
  },
  {
   "cell_type": "code",
   "execution_count": 2,
   "metadata": {},
   "outputs": [
    {
     "data": {
      "text/plain": [
       "GaussianNB(priors=None)"
      ]
     },
     "execution_count": 2,
     "metadata": {},
     "output_type": "execute_result"
    }
   ],
   "source": [
    "#import naive bayes\n",
    "\n",
    "from sklearn.naive_bayes import GaussianNB\n",
    "\n",
    "#instantiate a Naive Bayes classifier \n",
    "gNB = GaussianNB()\n",
    "\n",
    "#learn classifier from data \n",
    "gNB.fit(DNA_training_set,labels_training_set.values.ravel())"
   ]
  },
  {
   "cell_type": "markdown",
   "metadata": {},
   "source": [
    "## 0.D Model Evaluation: Guassian Naive Bayes\n",
    "\n",
    "Then, we evaluated the Gaussian Naive Bayes classifier on the test data and found that the model has an accuracy of $88\\%$. \n",
    "\n",
    "**In this section, we will be exploring ways of improving model accuracy and comparing classifiers.**"
   ]
  },
  {
   "cell_type": "markdown",
   "metadata": {},
   "source": [
    "# 4. Model Improvement: Bernoulli Naive Bayes\n",
    "\n",
    "## 4.A Gaussian Naive Bayes is not correct\n",
    "\n",
    "Recall that Gaussian Naive Bayes assumes the probability that a feature is 1 or 0 is Gaussian. \n",
    "\n",
    "<img src=\"images/02_gNB_05.png\" alt=\"Drawing\" style=\"width: 600px;\"/>\n"
   ]
  },
  {
   "cell_type": "markdown",
   "metadata": {},
   "source": [
    "Since the value of a feature follows a Gaussian distribution, the feature is allowed to take on any numerical value! \n",
    "\n",
    "This is not right. Recall what our data looks like."
   ]
  },
  {
   "cell_type": "code",
   "execution_count": 3,
   "metadata": {
    "pycharm": {
     "is_executing": false
    }
   },
   "outputs": [
    {
     "data": {
      "text/html": [
       "<div>\n",
       "<style scoped>\n",
       "    .dataframe tbody tr th:only-of-type {\n",
       "        vertical-align: middle;\n",
       "    }\n",
       "\n",
       "    .dataframe tbody tr th {\n",
       "        vertical-align: top;\n",
       "    }\n",
       "\n",
       "    .dataframe thead th {\n",
       "        text-align: right;\n",
       "    }\n",
       "</style>\n",
       "<table border=\"1\" class=\"dataframe\">\n",
       "  <thead>\n",
       "    <tr style=\"text-align: right;\">\n",
       "      <th></th>\n",
       "      <th>tggagcgccgggcggatcggttccgtactat</th>\n",
       "      <th>ggagcgccgggcggatcggttccgtactatc</th>\n",
       "      <th>gagcgccgggcggatcggttccgtactatcc</th>\n",
       "      <th>agcgccgggcggatcggttccgtactatccg</th>\n",
       "      <th>gcgccgggcggatcggttccgtactatccgt</th>\n",
       "      <th>cgccgggcggatcggttccgtactatccgta</th>\n",
       "      <th>gccgggcggatcggttccgtactatccgtac</th>\n",
       "      <th>ccgggcggatcggttccgtactatccgtact</th>\n",
       "      <th>cgggcggatcggttccgtactatccgtactg</th>\n",
       "      <th>gggcggatcggttccgtactatccgtactgc</th>\n",
       "      <th>...</th>\n",
       "      <th>cttttggtctttcctgttaggtggaacgtta</th>\n",
       "      <th>ttttggtctttcctgttaggtggaacgttac</th>\n",
       "      <th>tttggtctttcctgttaggtggaacgttacc</th>\n",
       "      <th>ttggtctttcctgttaggtggaacgttacct</th>\n",
       "      <th>tggtctttcctgttaggtggaacgttaccta</th>\n",
       "      <th>ggtctttcctgttaggtggaacgttacctac</th>\n",
       "      <th>gtctttcctgttaggtggaacgttacctact</th>\n",
       "      <th>tctttcctgttaggtggaacgttacctactt</th>\n",
       "      <th>ctttcctgttaggtggaacgttacctacttc</th>\n",
       "      <th>tttcctgttaggtggaacgttacctacttct</th>\n",
       "    </tr>\n",
       "  </thead>\n",
       "  <tbody>\n",
       "    <tr>\n",
       "      <th>Bacteria 0</th>\n",
       "      <td>1</td>\n",
       "      <td>1</td>\n",
       "      <td>1</td>\n",
       "      <td>1</td>\n",
       "      <td>1</td>\n",
       "      <td>1</td>\n",
       "      <td>1</td>\n",
       "      <td>1</td>\n",
       "      <td>1</td>\n",
       "      <td>1</td>\n",
       "      <td>...</td>\n",
       "      <td>0</td>\n",
       "      <td>0</td>\n",
       "      <td>0</td>\n",
       "      <td>0</td>\n",
       "      <td>0</td>\n",
       "      <td>0</td>\n",
       "      <td>0</td>\n",
       "      <td>0</td>\n",
       "      <td>0</td>\n",
       "      <td>0</td>\n",
       "    </tr>\n",
       "    <tr>\n",
       "      <th>Bacteria 1</th>\n",
       "      <td>0</td>\n",
       "      <td>0</td>\n",
       "      <td>0</td>\n",
       "      <td>0</td>\n",
       "      <td>0</td>\n",
       "      <td>0</td>\n",
       "      <td>0</td>\n",
       "      <td>0</td>\n",
       "      <td>0</td>\n",
       "      <td>0</td>\n",
       "      <td>...</td>\n",
       "      <td>0</td>\n",
       "      <td>0</td>\n",
       "      <td>0</td>\n",
       "      <td>0</td>\n",
       "      <td>0</td>\n",
       "      <td>0</td>\n",
       "      <td>0</td>\n",
       "      <td>0</td>\n",
       "      <td>0</td>\n",
       "      <td>0</td>\n",
       "    </tr>\n",
       "    <tr>\n",
       "      <th>Bacteria 2</th>\n",
       "      <td>0</td>\n",
       "      <td>0</td>\n",
       "      <td>0</td>\n",
       "      <td>0</td>\n",
       "      <td>0</td>\n",
       "      <td>0</td>\n",
       "      <td>0</td>\n",
       "      <td>0</td>\n",
       "      <td>0</td>\n",
       "      <td>0</td>\n",
       "      <td>...</td>\n",
       "      <td>0</td>\n",
       "      <td>0</td>\n",
       "      <td>0</td>\n",
       "      <td>0</td>\n",
       "      <td>0</td>\n",
       "      <td>0</td>\n",
       "      <td>0</td>\n",
       "      <td>0</td>\n",
       "      <td>0</td>\n",
       "      <td>0</td>\n",
       "    </tr>\n",
       "    <tr>\n",
       "      <th>Bacteria 3</th>\n",
       "      <td>0</td>\n",
       "      <td>0</td>\n",
       "      <td>0</td>\n",
       "      <td>0</td>\n",
       "      <td>0</td>\n",
       "      <td>0</td>\n",
       "      <td>0</td>\n",
       "      <td>0</td>\n",
       "      <td>0</td>\n",
       "      <td>0</td>\n",
       "      <td>...</td>\n",
       "      <td>0</td>\n",
       "      <td>0</td>\n",
       "      <td>0</td>\n",
       "      <td>0</td>\n",
       "      <td>0</td>\n",
       "      <td>0</td>\n",
       "      <td>0</td>\n",
       "      <td>0</td>\n",
       "      <td>0</td>\n",
       "      <td>0</td>\n",
       "    </tr>\n",
       "    <tr>\n",
       "      <th>Bacteria 4</th>\n",
       "      <td>0</td>\n",
       "      <td>0</td>\n",
       "      <td>0</td>\n",
       "      <td>0</td>\n",
       "      <td>0</td>\n",
       "      <td>0</td>\n",
       "      <td>0</td>\n",
       "      <td>0</td>\n",
       "      <td>0</td>\n",
       "      <td>0</td>\n",
       "      <td>...</td>\n",
       "      <td>0</td>\n",
       "      <td>0</td>\n",
       "      <td>0</td>\n",
       "      <td>0</td>\n",
       "      <td>0</td>\n",
       "      <td>0</td>\n",
       "      <td>0</td>\n",
       "      <td>0</td>\n",
       "      <td>0</td>\n",
       "      <td>0</td>\n",
       "    </tr>\n",
       "  </tbody>\n",
       "</table>\n",
       "<p>5 rows × 73016 columns</p>\n",
       "</div>"
      ],
      "text/plain": [
       "            tggagcgccgggcggatcggttccgtactat  ggagcgccgggcggatcggttccgtactatc  \\\n",
       "Bacteria 0                                1                                1   \n",
       "Bacteria 1                                0                                0   \n",
       "Bacteria 2                                0                                0   \n",
       "Bacteria 3                                0                                0   \n",
       "Bacteria 4                                0                                0   \n",
       "\n",
       "            gagcgccgggcggatcggttccgtactatcc  agcgccgggcggatcggttccgtactatccg  \\\n",
       "Bacteria 0                                1                                1   \n",
       "Bacteria 1                                0                                0   \n",
       "Bacteria 2                                0                                0   \n",
       "Bacteria 3                                0                                0   \n",
       "Bacteria 4                                0                                0   \n",
       "\n",
       "            gcgccgggcggatcggttccgtactatccgt  cgccgggcggatcggttccgtactatccgta  \\\n",
       "Bacteria 0                                1                                1   \n",
       "Bacteria 1                                0                                0   \n",
       "Bacteria 2                                0                                0   \n",
       "Bacteria 3                                0                                0   \n",
       "Bacteria 4                                0                                0   \n",
       "\n",
       "            gccgggcggatcggttccgtactatccgtac  ccgggcggatcggttccgtactatccgtact  \\\n",
       "Bacteria 0                                1                                1   \n",
       "Bacteria 1                                0                                0   \n",
       "Bacteria 2                                0                                0   \n",
       "Bacteria 3                                0                                0   \n",
       "Bacteria 4                                0                                0   \n",
       "\n",
       "            cgggcggatcggttccgtactatccgtactg  gggcggatcggttccgtactatccgtactgc  \\\n",
       "Bacteria 0                                1                                1   \n",
       "Bacteria 1                                0                                0   \n",
       "Bacteria 2                                0                                0   \n",
       "Bacteria 3                                0                                0   \n",
       "Bacteria 4                                0                                0   \n",
       "\n",
       "            ...  cttttggtctttcctgttaggtggaacgtta  \\\n",
       "Bacteria 0  ...                                0   \n",
       "Bacteria 1  ...                                0   \n",
       "Bacteria 2  ...                                0   \n",
       "Bacteria 3  ...                                0   \n",
       "Bacteria 4  ...                                0   \n",
       "\n",
       "            ttttggtctttcctgttaggtggaacgttac  tttggtctttcctgttaggtggaacgttacc  \\\n",
       "Bacteria 0                                0                                0   \n",
       "Bacteria 1                                0                                0   \n",
       "Bacteria 2                                0                                0   \n",
       "Bacteria 3                                0                                0   \n",
       "Bacteria 4                                0                                0   \n",
       "\n",
       "            ttggtctttcctgttaggtggaacgttacct  tggtctttcctgttaggtggaacgttaccta  \\\n",
       "Bacteria 0                                0                                0   \n",
       "Bacteria 1                                0                                0   \n",
       "Bacteria 2                                0                                0   \n",
       "Bacteria 3                                0                                0   \n",
       "Bacteria 4                                0                                0   \n",
       "\n",
       "            ggtctttcctgttaggtggaacgttacctac  gtctttcctgttaggtggaacgttacctact  \\\n",
       "Bacteria 0                                0                                0   \n",
       "Bacteria 1                                0                                0   \n",
       "Bacteria 2                                0                                0   \n",
       "Bacteria 3                                0                                0   \n",
       "Bacteria 4                                0                                0   \n",
       "\n",
       "            tctttcctgttaggtggaacgttacctactt  ctttcctgttaggtggaacgttacctacttc  \\\n",
       "Bacteria 0                                0                                0   \n",
       "Bacteria 1                                0                                0   \n",
       "Bacteria 2                                0                                0   \n",
       "Bacteria 3                                0                                0   \n",
       "Bacteria 4                                0                                0   \n",
       "\n",
       "            tttcctgttaggtggaacgttacctacttct  \n",
       "Bacteria 0                                0  \n",
       "Bacteria 1                                0  \n",
       "Bacteria 2                                0  \n",
       "Bacteria 3                                0  \n",
       "Bacteria 4                                0  \n",
       "\n",
       "[5 rows x 73016 columns]"
      ]
     },
     "execution_count": 3,
     "metadata": {},
     "output_type": "execute_result"
    }
   ],
   "source": [
    "DNA_training_set.head()"
   ]
  },
  {
   "cell_type": "markdown",
   "metadata": {},
   "source": [
    "An explanatory variable is only allowed to take on values: 0's or 1's. Gaussian assumption of feature is wrong. "
   ]
  },
  {
   "cell_type": "markdown",
   "metadata": {},
   "source": [
    "## 4.B Bernoulli Naive Bayes\n",
    "\n",
    "We need an assumption on our explanatory variables that will restrict them to 0 or 1. This can be done if we assume that features follow a Bernoulli distribution. A Bernoulli distribution restricts variables to assume a value of 0 or 1. \n",
    "\n",
    "<img src=\"images/04_Bernoulli_Naive_Bayes.png\" alt=\"Drawing\" style=\"width: 600px;\"/>\n",
    "\n",
    "\n",
    "Luckily, there is an implementation of Bernoulli Naive Bayes in ```sklearn```.\n",
    "\n",
    "*Note: that $p$ values seen here are different from $p$ values in hypothesis testing.*  $p$ value of Bernoulli distribution is the probability of taking the value $1$. A Bernoulli distribution can be thought of as getting heads or tails on a weighted coin. Whereas, $p$ values in hypothesis testing is the probability of making a type 1 error."
   ]
  },
  {
   "cell_type": "code",
   "execution_count": 4,
   "metadata": {},
   "outputs": [
    {
     "data": {
      "text/plain": [
       "BernoulliNB(alpha=1.0, binarize=0.0, class_prior=None, fit_prior=True)"
      ]
     },
     "execution_count": 4,
     "metadata": {},
     "output_type": "execute_result"
    }
   ],
   "source": [
    "from sklearn.naive_bayes import BernoulliNB\n",
    "\n",
    "#instantiate a Naive Bayes classifier \n",
    "bNB = BernoulliNB()\n",
    "#train classifier\n",
    "bNB.fit(DNA_training_set,labels_training_set.values.ravel())"
   ]
  },
  {
   "cell_type": "markdown",
   "metadata": {},
   "source": [
    "### 4.B.1 $p$ values"
   ]
  },
  {
   "cell_type": "markdown",
   "metadata": {},
   "source": [
    "We can grab the $p$ values for each feature per class. However, BernoulliNB stores the log of $p$ values."
   ]
  },
  {
   "cell_type": "code",
   "execution_count": 7,
   "metadata": {},
   "outputs": [
    {
     "data": {
      "text/plain": [
       "array([[-5.02388052, -5.02388052, -5.02388052, ..., -4.33073334,\n",
       "        -4.33073334, -4.33073334],\n",
       "       [-3.44998755, -3.44998755, -3.44998755, ..., -4.83628191,\n",
       "        -4.83628191, -4.83628191]])"
      ]
     },
     "execution_count": 7,
     "metadata": {},
     "output_type": "execute_result"
    }
   ],
   "source": [
    "bNB.feature_log_prob_"
   ]
  },
  {
   "cell_type": "markdown",
   "metadata": {},
   "source": [
    "To get the $p$ values, we take the exponential of ```bNB.feature_log_prob_```."
   ]
  },
  {
   "cell_type": "code",
   "execution_count": 8,
   "metadata": {},
   "outputs": [
    {
     "data": {
      "text/plain": [
       "array([[0.00657895, 0.00657895, 0.00657895, ..., 0.01315789, 0.01315789,\n",
       "        0.01315789],\n",
       "       [0.03174603, 0.03174603, 0.03174603, ..., 0.00793651, 0.00793651,\n",
       "        0.00793651]])"
      ]
     },
     "execution_count": 8,
     "metadata": {},
     "output_type": "execute_result"
    }
   ],
   "source": [
    "import numpy as np\n",
    "np.exp(bNB.feature_log_prob_)"
   ]
  },
  {
   "cell_type": "markdown",
   "metadata": {},
   "source": [
    "We can visualize the information better as a Pandas dataframe."
   ]
  },
  {
   "cell_type": "code",
   "execution_count": 9,
   "metadata": {},
   "outputs": [
    {
     "data": {
      "text/html": [
       "<div>\n",
       "<style scoped>\n",
       "    .dataframe tbody tr th:only-of-type {\n",
       "        vertical-align: middle;\n",
       "    }\n",
       "\n",
       "    .dataframe tbody tr th {\n",
       "        vertical-align: top;\n",
       "    }\n",
       "\n",
       "    .dataframe thead th {\n",
       "        text-align: right;\n",
       "    }\n",
       "</style>\n",
       "<table border=\"1\" class=\"dataframe\">\n",
       "  <thead>\n",
       "    <tr style=\"text-align: right;\">\n",
       "      <th></th>\n",
       "      <th>tggagcgccgggcggatcggttccgtactat</th>\n",
       "      <th>ggagcgccgggcggatcggttccgtactatc</th>\n",
       "      <th>gagcgccgggcggatcggttccgtactatcc</th>\n",
       "      <th>agcgccgggcggatcggttccgtactatccg</th>\n",
       "      <th>gcgccgggcggatcggttccgtactatccgt</th>\n",
       "      <th>cgccgggcggatcggttccgtactatccgta</th>\n",
       "      <th>gccgggcggatcggttccgtactatccgtac</th>\n",
       "      <th>ccgggcggatcggttccgtactatccgtact</th>\n",
       "      <th>cgggcggatcggttccgtactatccgtactg</th>\n",
       "      <th>gggcggatcggttccgtactatccgtactgc</th>\n",
       "      <th>...</th>\n",
       "      <th>cttttggtctttcctgttaggtggaacgtta</th>\n",
       "      <th>ttttggtctttcctgttaggtggaacgttac</th>\n",
       "      <th>tttggtctttcctgttaggtggaacgttacc</th>\n",
       "      <th>ttggtctttcctgttaggtggaacgttacct</th>\n",
       "      <th>tggtctttcctgttaggtggaacgttaccta</th>\n",
       "      <th>ggtctttcctgttaggtggaacgttacctac</th>\n",
       "      <th>gtctttcctgttaggtggaacgttacctact</th>\n",
       "      <th>tctttcctgttaggtggaacgttacctactt</th>\n",
       "      <th>ctttcctgttaggtggaacgttacctacttc</th>\n",
       "      <th>tttcctgttaggtggaacgttacctacttct</th>\n",
       "    </tr>\n",
       "  </thead>\n",
       "  <tbody>\n",
       "    <tr>\n",
       "      <th>Resistant</th>\n",
       "      <td>0.006579</td>\n",
       "      <td>0.006579</td>\n",
       "      <td>0.006579</td>\n",
       "      <td>0.006579</td>\n",
       "      <td>0.006579</td>\n",
       "      <td>0.006579</td>\n",
       "      <td>0.006579</td>\n",
       "      <td>0.006579</td>\n",
       "      <td>0.006579</td>\n",
       "      <td>0.006579</td>\n",
       "      <td>...</td>\n",
       "      <td>0.013158</td>\n",
       "      <td>0.013158</td>\n",
       "      <td>0.013158</td>\n",
       "      <td>0.013158</td>\n",
       "      <td>0.013158</td>\n",
       "      <td>0.013158</td>\n",
       "      <td>0.013158</td>\n",
       "      <td>0.013158</td>\n",
       "      <td>0.013158</td>\n",
       "      <td>0.013158</td>\n",
       "    </tr>\n",
       "    <tr>\n",
       "      <th>Susceptible</th>\n",
       "      <td>0.031746</td>\n",
       "      <td>0.031746</td>\n",
       "      <td>0.031746</td>\n",
       "      <td>0.031746</td>\n",
       "      <td>0.031746</td>\n",
       "      <td>0.031746</td>\n",
       "      <td>0.031746</td>\n",
       "      <td>0.031746</td>\n",
       "      <td>0.031746</td>\n",
       "      <td>0.031746</td>\n",
       "      <td>...</td>\n",
       "      <td>0.007937</td>\n",
       "      <td>0.007937</td>\n",
       "      <td>0.007937</td>\n",
       "      <td>0.007937</td>\n",
       "      <td>0.007937</td>\n",
       "      <td>0.007937</td>\n",
       "      <td>0.007937</td>\n",
       "      <td>0.007937</td>\n",
       "      <td>0.007937</td>\n",
       "      <td>0.007937</td>\n",
       "    </tr>\n",
       "  </tbody>\n",
       "</table>\n",
       "<p>2 rows × 73016 columns</p>\n",
       "</div>"
      ],
      "text/plain": [
       "             tggagcgccgggcggatcggttccgtactat  ggagcgccgggcggatcggttccgtactatc  \\\n",
       "Resistant                           0.006579                         0.006579   \n",
       "Susceptible                         0.031746                         0.031746   \n",
       "\n",
       "             gagcgccgggcggatcggttccgtactatcc  agcgccgggcggatcggttccgtactatccg  \\\n",
       "Resistant                           0.006579                         0.006579   \n",
       "Susceptible                         0.031746                         0.031746   \n",
       "\n",
       "             gcgccgggcggatcggttccgtactatccgt  cgccgggcggatcggttccgtactatccgta  \\\n",
       "Resistant                           0.006579                         0.006579   \n",
       "Susceptible                         0.031746                         0.031746   \n",
       "\n",
       "             gccgggcggatcggttccgtactatccgtac  ccgggcggatcggttccgtactatccgtact  \\\n",
       "Resistant                           0.006579                         0.006579   \n",
       "Susceptible                         0.031746                         0.031746   \n",
       "\n",
       "             cgggcggatcggttccgtactatccgtactg  gggcggatcggttccgtactatccgtactgc  \\\n",
       "Resistant                           0.006579                         0.006579   \n",
       "Susceptible                         0.031746                         0.031746   \n",
       "\n",
       "             ...  cttttggtctttcctgttaggtggaacgtta  \\\n",
       "Resistant    ...                         0.013158   \n",
       "Susceptible  ...                         0.007937   \n",
       "\n",
       "             ttttggtctttcctgttaggtggaacgttac  tttggtctttcctgttaggtggaacgttacc  \\\n",
       "Resistant                           0.013158                         0.013158   \n",
       "Susceptible                         0.007937                         0.007937   \n",
       "\n",
       "             ttggtctttcctgttaggtggaacgttacct  tggtctttcctgttaggtggaacgttaccta  \\\n",
       "Resistant                           0.013158                         0.013158   \n",
       "Susceptible                         0.007937                         0.007937   \n",
       "\n",
       "             ggtctttcctgttaggtggaacgttacctac  gtctttcctgttaggtggaacgttacctact  \\\n",
       "Resistant                           0.013158                         0.013158   \n",
       "Susceptible                         0.007937                         0.007937   \n",
       "\n",
       "             tctttcctgttaggtggaacgttacctactt  ctttcctgttaggtggaacgttacctacttc  \\\n",
       "Resistant                           0.013158                         0.013158   \n",
       "Susceptible                         0.007937                         0.007937   \n",
       "\n",
       "             tttcctgttaggtggaacgttacctacttct  \n",
       "Resistant                           0.013158  \n",
       "Susceptible                         0.007937  \n",
       "\n",
       "[2 rows x 73016 columns]"
      ]
     },
     "execution_count": 9,
     "metadata": {},
     "output_type": "execute_result"
    }
   ],
   "source": [
    "pd.DataFrame(np.exp(bNB.feature_log_prob_),\n",
    "             columns=DNA_training_set.columns,\n",
    "             index=['Resistant','Susceptible'])"
   ]
  },
  {
   "cell_type": "markdown",
   "metadata": {},
   "source": [
    "## 4.C Evaluating Bernoulli Naive Bayes Classifier\n",
    "\n",
    "### Exercise 4.C.1: Confusion Matrix and Score Bernoulli Naive Bayes Classifier\n",
    "\n",
    "Recall that we used a confusion matrix and the score function to evaluate the accuracy of the Gaussian Naive Bayes classifier.  *Now, we will do the same for a Bernoulli Naive Bayes classifier.*\n",
    "\n",
    "- We generated the confusion matrix using code:\n",
    "\n",
    "```\n",
    "from sklearn.metrics import confusion_matrix\n",
    "\n",
    "confusionMatrix = confusion_matrix(gNB.predict(DNA_test_set),labels_test_set)\n",
    "\n",
    "confusionMatrix_df = pd.DataFrame(confusionMatrix,\n",
    "                                  columns=['Predicted: 0' , 'Predicted: 1'],\n",
    "                                  index=['Actual: 0' , 'Actual: 1'])\n",
    "confusionMatrix_df\n",
    "```\n",
    "\n",
    "- We also computed the total fraction of observations correctly classified using the code:\n",
    "\n",
    "```\n",
    "gNB.score(DNA_test_set,labels_test_set)\n",
    "```\n",
    "\n",
    "Edit the code above to test the accuracy of the Bernoulli Naive Bayes classifier."
   ]
  },
  {
   "cell_type": "code",
   "execution_count": 8,
   "metadata": {},
   "outputs": [
    {
     "data": {
      "text/html": [
       "<div>\n",
       "<style scoped>\n",
       "    .dataframe tbody tr th:only-of-type {\n",
       "        vertical-align: middle;\n",
       "    }\n",
       "\n",
       "    .dataframe tbody tr th {\n",
       "        vertical-align: top;\n",
       "    }\n",
       "\n",
       "    .dataframe thead th {\n",
       "        text-align: right;\n",
       "    }\n",
       "</style>\n",
       "<table border=\"1\" class=\"dataframe\">\n",
       "  <thead>\n",
       "    <tr style=\"text-align: right;\">\n",
       "      <th></th>\n",
       "      <th>Predicted: 0</th>\n",
       "      <th>Predicted: 1</th>\n",
       "    </tr>\n",
       "  </thead>\n",
       "  <tbody>\n",
       "    <tr>\n",
       "      <th>Actual: 0</th>\n",
       "      <td>57</td>\n",
       "      <td>3</td>\n",
       "    </tr>\n",
       "    <tr>\n",
       "      <th>Actual: 1</th>\n",
       "      <td>7</td>\n",
       "      <td>51</td>\n",
       "    </tr>\n",
       "  </tbody>\n",
       "</table>\n",
       "</div>"
      ],
      "text/plain": [
       "           Predicted: 0  Predicted: 1\n",
       "Actual: 0            57             3\n",
       "Actual: 1             7            51"
      ]
     },
     "execution_count": 8,
     "metadata": {},
     "output_type": "execute_result"
    }
   ],
   "source": [
    "# enter solutions here \n",
    "\n",
    "from sklearn.metrics import confusion_matrix\n",
    "\n",
    "confusionMatrix = confusion_matrix(bNB.predict(DNA_test_set),labels_test_set)\n",
    "\n",
    "confusionMatrix_df = pd.DataFrame(confusionMatrix,\n",
    "                                  columns=['Predicted: 0' , 'Predicted: 1'],\n",
    "                                  index=['Actual: 0' , 'Actual: 1'])\n",
    "confusionMatrix_df"
   ]
  },
  {
   "cell_type": "code",
   "execution_count": 9,
   "metadata": {},
   "outputs": [
    {
     "data": {
      "text/plain": [
       "0.9152542372881356"
      ]
     },
     "execution_count": 9,
     "metadata": {},
     "output_type": "execute_result"
    }
   ],
   "source": [
    "bNB.score(DNA_test_set,labels_test_set)"
   ]
  },
  {
   "cell_type": "markdown",
   "metadata": {},
   "source": [
    "Compared to the Gaussian Naive Bayes classifier, the Bernoulli Naive Bayes classifier appears to be more accurate. The Gaussian Naive Bayes classifier has an accuracy of $88\\%$ while the Bernoulli Naive Bayes classifier has an accuracy of $91\\%.$"
   ]
  },
  {
   "cell_type": "markdown",
   "metadata": {},
   "source": [
    "### 4.C.2 Class probability of a single observation\n",
    "\n",
    "Using the ```predict_proba``` method, we can grab the probability that an observation in the test set belongs in a class."
   ]
  },
  {
   "cell_type": "code",
   "execution_count": 10,
   "metadata": {},
   "outputs": [
    {
     "data": {
      "text/plain": [
       "array([[1.00000000e+000, 7.94706094e-202]])"
      ]
     },
     "execution_count": 10,
     "metadata": {},
     "output_type": "execute_result"
    }
   ],
   "source": [
    "# compute probability that the first observation belongs in resistant or susceptible  class\n",
    "first_observation =DNA_test_set.iloc[[0]]\n",
    "bNB.predict_proba(first_observation)"
   ]
  },
  {
   "cell_type": "markdown",
   "metadata": {},
   "source": [
    "The classifier predicts that there is a $100\\%$ chance that the observation is in the resistant class. The classifier also predicts that there is a $0\\%$ chance that the observation is in the susceptible class."
   ]
  },
  {
   "cell_type": "markdown",
   "metadata": {},
   "source": [
    "### Exercise 4.C.2: Probability of the tenth observation\n",
    "\n",
    "Using the trained Bernuolli Naive Bayes model, ```bNB```, compute and interpret the probability values of the second observation in our test set. "
   ]
  },
  {
   "cell_type": "code",
   "execution_count": 11,
   "metadata": {},
   "outputs": [
    {
     "data": {
      "text/plain": [
       "array([[0., 1.]])"
      ]
     },
     "execution_count": 11,
     "metadata": {},
     "output_type": "execute_result"
    }
   ],
   "source": [
    "# enter solution here\n",
    "tenth_observation = DNA_test_set.iloc[[9]]\n",
    "bNB.predict_proba(tenth_observation)"
   ]
  },
  {
   "cell_type": "markdown",
   "metadata": {},
   "source": [
    "The model predicts a $100\\%$ chance that the observation will be resistant and a $0\\%$ chance that the observation will be susceptible."
   ]
  },
  {
   "cell_type": "markdown",
   "metadata": {},
   "source": [
    "### 4.C.3 Class probability of the entire dataset\n"
   ]
  },
  {
   "cell_type": "markdown",
   "metadata": {},
   "source": [
    "We can compute the class probability of the entire data set."
   ]
  },
  {
   "cell_type": "code",
   "execution_count": 12,
   "metadata": {
    "scrolled": true
   },
   "outputs": [
    {
     "data": {
      "text/plain": [
       "array([[1.00000000e+000, 7.94706094e-202],\n",
       "       [0.00000000e+000, 1.00000000e+000],\n",
       "       [0.00000000e+000, 1.00000000e+000],\n",
       "       [1.00000000e+000, 0.00000000e+000],\n",
       "       [0.00000000e+000, 1.00000000e+000],\n",
       "       [1.00000000e+000, 0.00000000e+000],\n",
       "       [1.00000000e+000, 0.00000000e+000],\n",
       "       [1.00000000e+000, 0.00000000e+000],\n",
       "       [0.00000000e+000, 1.00000000e+000],\n",
       "       [0.00000000e+000, 1.00000000e+000],\n",
       "       [1.47837385e-171, 1.00000000e+000],\n",
       "       [0.00000000e+000, 1.00000000e+000],\n",
       "       [0.00000000e+000, 1.00000000e+000],\n",
       "       [2.34425807e-026, 1.00000000e+000],\n",
       "       [1.00000000e+000, 0.00000000e+000],\n",
       "       [1.00000000e+000, 0.00000000e+000],\n",
       "       [2.15722575e-108, 1.00000000e+000],\n",
       "       [0.00000000e+000, 1.00000000e+000],\n",
       "       [2.16694507e-053, 1.00000000e+000],\n",
       "       [1.48561048e-101, 1.00000000e+000],\n",
       "       [1.00000000e+000, 0.00000000e+000],\n",
       "       [0.00000000e+000, 1.00000000e+000],\n",
       "       [1.44953404e-265, 1.00000000e+000],\n",
       "       [1.00000000e+000, 4.15487487e-050],\n",
       "       [1.00000000e+000, 0.00000000e+000],\n",
       "       [1.00000000e+000, 0.00000000e+000],\n",
       "       [1.00000000e+000, 1.19289032e-037],\n",
       "       [3.20102085e-304, 1.00000000e+000],\n",
       "       [1.00000000e+000, 0.00000000e+000],\n",
       "       [0.00000000e+000, 1.00000000e+000],\n",
       "       [1.36764536e-182, 1.00000000e+000],\n",
       "       [1.00000000e+000, 0.00000000e+000],\n",
       "       [1.00000000e+000, 0.00000000e+000],\n",
       "       [1.00000000e+000, 6.10268408e-121],\n",
       "       [1.06062186e-154, 1.00000000e+000],\n",
       "       [2.14939751e-217, 1.00000000e+000],\n",
       "       [1.00000000e+000, 0.00000000e+000],\n",
       "       [3.72242132e-124, 1.00000000e+000],\n",
       "       [0.00000000e+000, 1.00000000e+000],\n",
       "       [1.00000000e+000, 2.34216791e-063],\n",
       "       [0.00000000e+000, 1.00000000e+000],\n",
       "       [0.00000000e+000, 1.00000000e+000],\n",
       "       [3.91011298e-075, 1.00000000e+000],\n",
       "       [1.00000000e+000, 1.41214589e-252],\n",
       "       [9.65362624e-201, 1.00000000e+000],\n",
       "       [1.00000000e+000, 0.00000000e+000],\n",
       "       [9.60533280e-276, 1.00000000e+000],\n",
       "       [3.72178253e-118, 1.00000000e+000],\n",
       "       [1.00000000e+000, 2.16040021e-095],\n",
       "       [0.00000000e+000, 1.00000000e+000],\n",
       "       [1.00000000e+000, 0.00000000e+000],\n",
       "       [1.00000000e+000, 7.59386648e-263],\n",
       "       [1.00000000e+000, 0.00000000e+000],\n",
       "       [1.00000000e+000, 2.97830623e-137],\n",
       "       [0.00000000e+000, 1.00000000e+000],\n",
       "       [8.06860596e-008, 9.99999919e-001],\n",
       "       [2.33847981e-043, 1.00000000e+000],\n",
       "       [1.48149255e-222, 1.00000000e+000],\n",
       "       [1.00000000e+000, 3.61192015e-176],\n",
       "       [1.00000000e+000, 0.00000000e+000],\n",
       "       [1.00000000e+000, 0.00000000e+000],\n",
       "       [1.00000000e+000, 7.29400151e-246],\n",
       "       [2.55512010e-099, 1.00000000e+000],\n",
       "       [8.85015049e-066, 1.00000000e+000],\n",
       "       [1.00000000e+000, 0.00000000e+000],\n",
       "       [0.00000000e+000, 1.00000000e+000],\n",
       "       [6.80332343e-248, 1.00000000e+000],\n",
       "       [3.44573270e-125, 1.00000000e+000],\n",
       "       [1.00000000e+000, 0.00000000e+000],\n",
       "       [1.00000000e+000, 1.54741191e-287],\n",
       "       [2.04594843e-271, 1.00000000e+000],\n",
       "       [1.37053810e-320, 1.00000000e+000],\n",
       "       [0.00000000e+000, 1.00000000e+000],\n",
       "       [0.00000000e+000, 1.00000000e+000],\n",
       "       [1.00000000e+000, 0.00000000e+000],\n",
       "       [1.00000000e+000, 0.00000000e+000],\n",
       "       [1.00000000e+000, 0.00000000e+000],\n",
       "       [4.54352238e-165, 1.00000000e+000],\n",
       "       [3.32369824e-189, 1.00000000e+000],\n",
       "       [0.00000000e+000, 1.00000000e+000],\n",
       "       [1.00000000e+000, 1.23353096e-098],\n",
       "       [1.00000000e+000, 0.00000000e+000],\n",
       "       [1.00000000e+000, 1.61196527e-087],\n",
       "       [1.00000000e+000, 0.00000000e+000],\n",
       "       [6.03171860e-093, 1.00000000e+000],\n",
       "       [1.00000000e+000, 0.00000000e+000],\n",
       "       [1.00000000e+000, 0.00000000e+000],\n",
       "       [9.99992476e-001, 7.52392254e-006],\n",
       "       [0.00000000e+000, 1.00000000e+000],\n",
       "       [1.00000000e+000, 0.00000000e+000],\n",
       "       [1.00000000e+000, 0.00000000e+000],\n",
       "       [0.00000000e+000, 1.00000000e+000],\n",
       "       [1.66687379e-058, 1.00000000e+000],\n",
       "       [1.00000000e+000, 1.97058789e-278],\n",
       "       [0.00000000e+000, 1.00000000e+000],\n",
       "       [1.00000000e+000, 9.19734018e-186],\n",
       "       [2.26677226e-219, 1.00000000e+000],\n",
       "       [1.00000000e+000, 0.00000000e+000],\n",
       "       [0.00000000e+000, 1.00000000e+000],\n",
       "       [1.00000000e+000, 0.00000000e+000],\n",
       "       [1.00000000e+000, 0.00000000e+000],\n",
       "       [1.00000000e+000, 1.68838347e-271],\n",
       "       [1.00000000e+000, 0.00000000e+000],\n",
       "       [1.00000000e+000, 0.00000000e+000],\n",
       "       [1.00000000e+000, 0.00000000e+000],\n",
       "       [1.00000000e+000, 1.53371595e-036],\n",
       "       [1.00000000e+000, 0.00000000e+000],\n",
       "       [1.21519835e-188, 1.00000000e+000],\n",
       "       [3.30462396e-041, 1.00000000e+000],\n",
       "       [1.00000000e+000, 0.00000000e+000],\n",
       "       [1.00031750e-211, 1.00000000e+000],\n",
       "       [1.00000000e+000, 0.00000000e+000],\n",
       "       [1.00000000e+000, 0.00000000e+000],\n",
       "       [4.18690226e-249, 1.00000000e+000],\n",
       "       [1.00000000e+000, 1.23648239e-015],\n",
       "       [0.00000000e+000, 1.00000000e+000],\n",
       "       [7.34204717e-230, 1.00000000e+000],\n",
       "       [1.00000000e+000, 0.00000000e+000]])"
      ]
     },
     "execution_count": 12,
     "metadata": {},
     "output_type": "execute_result"
    }
   ],
   "source": [
    "bNB.predict_proba(DNA_test_set)"
   ]
  },
  {
   "cell_type": "markdown",
   "metadata": {},
   "source": [
    "This is better visualized using a pandas dataframe."
   ]
  },
  {
   "cell_type": "code",
   "execution_count": 13,
   "metadata": {},
   "outputs": [
    {
     "data": {
      "text/html": [
       "<div>\n",
       "<style scoped>\n",
       "    .dataframe tbody tr th:only-of-type {\n",
       "        vertical-align: middle;\n",
       "    }\n",
       "\n",
       "    .dataframe tbody tr th {\n",
       "        vertical-align: top;\n",
       "    }\n",
       "\n",
       "    .dataframe thead th {\n",
       "        text-align: right;\n",
       "    }\n",
       "</style>\n",
       "<table border=\"1\" class=\"dataframe\">\n",
       "  <thead>\n",
       "    <tr style=\"text-align: right;\">\n",
       "      <th></th>\n",
       "      <th>Probability of being resistant</th>\n",
       "      <th>Probability of being susceptible</th>\n",
       "    </tr>\n",
       "  </thead>\n",
       "  <tbody>\n",
       "    <tr>\n",
       "      <th>Bacteria 274</th>\n",
       "      <td>1.000000e+00</td>\n",
       "      <td>7.947061e-202</td>\n",
       "    </tr>\n",
       "    <tr>\n",
       "      <th>Bacteria 275</th>\n",
       "      <td>0.000000e+00</td>\n",
       "      <td>1.000000e+00</td>\n",
       "    </tr>\n",
       "    <tr>\n",
       "      <th>Bacteria 276</th>\n",
       "      <td>0.000000e+00</td>\n",
       "      <td>1.000000e+00</td>\n",
       "    </tr>\n",
       "    <tr>\n",
       "      <th>Bacteria 277</th>\n",
       "      <td>1.000000e+00</td>\n",
       "      <td>0.000000e+00</td>\n",
       "    </tr>\n",
       "    <tr>\n",
       "      <th>Bacteria 278</th>\n",
       "      <td>0.000000e+00</td>\n",
       "      <td>1.000000e+00</td>\n",
       "    </tr>\n",
       "    <tr>\n",
       "      <th>Bacteria 279</th>\n",
       "      <td>1.000000e+00</td>\n",
       "      <td>0.000000e+00</td>\n",
       "    </tr>\n",
       "    <tr>\n",
       "      <th>Bacteria 280</th>\n",
       "      <td>1.000000e+00</td>\n",
       "      <td>0.000000e+00</td>\n",
       "    </tr>\n",
       "    <tr>\n",
       "      <th>Bacteria 281</th>\n",
       "      <td>1.000000e+00</td>\n",
       "      <td>0.000000e+00</td>\n",
       "    </tr>\n",
       "    <tr>\n",
       "      <th>Bacteria 282</th>\n",
       "      <td>0.000000e+00</td>\n",
       "      <td>1.000000e+00</td>\n",
       "    </tr>\n",
       "    <tr>\n",
       "      <th>Bacteria 283</th>\n",
       "      <td>0.000000e+00</td>\n",
       "      <td>1.000000e+00</td>\n",
       "    </tr>\n",
       "    <tr>\n",
       "      <th>Bacteria 284</th>\n",
       "      <td>1.478374e-171</td>\n",
       "      <td>1.000000e+00</td>\n",
       "    </tr>\n",
       "    <tr>\n",
       "      <th>Bacteria 285</th>\n",
       "      <td>0.000000e+00</td>\n",
       "      <td>1.000000e+00</td>\n",
       "    </tr>\n",
       "    <tr>\n",
       "      <th>Bacteria 286</th>\n",
       "      <td>0.000000e+00</td>\n",
       "      <td>1.000000e+00</td>\n",
       "    </tr>\n",
       "    <tr>\n",
       "      <th>Bacteria 287</th>\n",
       "      <td>2.344258e-26</td>\n",
       "      <td>1.000000e+00</td>\n",
       "    </tr>\n",
       "    <tr>\n",
       "      <th>Bacteria 288</th>\n",
       "      <td>1.000000e+00</td>\n",
       "      <td>0.000000e+00</td>\n",
       "    </tr>\n",
       "    <tr>\n",
       "      <th>Bacteria 289</th>\n",
       "      <td>1.000000e+00</td>\n",
       "      <td>0.000000e+00</td>\n",
       "    </tr>\n",
       "    <tr>\n",
       "      <th>Bacteria 290</th>\n",
       "      <td>2.157226e-108</td>\n",
       "      <td>1.000000e+00</td>\n",
       "    </tr>\n",
       "    <tr>\n",
       "      <th>Bacteria 291</th>\n",
       "      <td>0.000000e+00</td>\n",
       "      <td>1.000000e+00</td>\n",
       "    </tr>\n",
       "    <tr>\n",
       "      <th>Bacteria 292</th>\n",
       "      <td>2.166945e-53</td>\n",
       "      <td>1.000000e+00</td>\n",
       "    </tr>\n",
       "    <tr>\n",
       "      <th>Bacteria 293</th>\n",
       "      <td>1.485610e-101</td>\n",
       "      <td>1.000000e+00</td>\n",
       "    </tr>\n",
       "    <tr>\n",
       "      <th>Bacteria 294</th>\n",
       "      <td>1.000000e+00</td>\n",
       "      <td>0.000000e+00</td>\n",
       "    </tr>\n",
       "    <tr>\n",
       "      <th>Bacteria 295</th>\n",
       "      <td>0.000000e+00</td>\n",
       "      <td>1.000000e+00</td>\n",
       "    </tr>\n",
       "    <tr>\n",
       "      <th>Bacteria 296</th>\n",
       "      <td>1.449534e-265</td>\n",
       "      <td>1.000000e+00</td>\n",
       "    </tr>\n",
       "    <tr>\n",
       "      <th>Bacteria 297</th>\n",
       "      <td>1.000000e+00</td>\n",
       "      <td>4.154875e-50</td>\n",
       "    </tr>\n",
       "    <tr>\n",
       "      <th>Bacteria 298</th>\n",
       "      <td>1.000000e+00</td>\n",
       "      <td>0.000000e+00</td>\n",
       "    </tr>\n",
       "    <tr>\n",
       "      <th>Bacteria 299</th>\n",
       "      <td>1.000000e+00</td>\n",
       "      <td>0.000000e+00</td>\n",
       "    </tr>\n",
       "    <tr>\n",
       "      <th>Bacteria 300</th>\n",
       "      <td>1.000000e+00</td>\n",
       "      <td>1.192890e-37</td>\n",
       "    </tr>\n",
       "    <tr>\n",
       "      <th>Bacteria 301</th>\n",
       "      <td>3.201021e-304</td>\n",
       "      <td>1.000000e+00</td>\n",
       "    </tr>\n",
       "    <tr>\n",
       "      <th>Bacteria 302</th>\n",
       "      <td>1.000000e+00</td>\n",
       "      <td>0.000000e+00</td>\n",
       "    </tr>\n",
       "    <tr>\n",
       "      <th>Bacteria 303</th>\n",
       "      <td>0.000000e+00</td>\n",
       "      <td>1.000000e+00</td>\n",
       "    </tr>\n",
       "    <tr>\n",
       "      <th>...</th>\n",
       "      <td>...</td>\n",
       "      <td>...</td>\n",
       "    </tr>\n",
       "    <tr>\n",
       "      <th>Bacteria 362</th>\n",
       "      <td>0.000000e+00</td>\n",
       "      <td>1.000000e+00</td>\n",
       "    </tr>\n",
       "    <tr>\n",
       "      <th>Bacteria 363</th>\n",
       "      <td>1.000000e+00</td>\n",
       "      <td>0.000000e+00</td>\n",
       "    </tr>\n",
       "    <tr>\n",
       "      <th>Bacteria 364</th>\n",
       "      <td>1.000000e+00</td>\n",
       "      <td>0.000000e+00</td>\n",
       "    </tr>\n",
       "    <tr>\n",
       "      <th>Bacteria 365</th>\n",
       "      <td>0.000000e+00</td>\n",
       "      <td>1.000000e+00</td>\n",
       "    </tr>\n",
       "    <tr>\n",
       "      <th>Bacteria 366</th>\n",
       "      <td>1.666874e-58</td>\n",
       "      <td>1.000000e+00</td>\n",
       "    </tr>\n",
       "    <tr>\n",
       "      <th>Bacteria 367</th>\n",
       "      <td>1.000000e+00</td>\n",
       "      <td>1.970588e-278</td>\n",
       "    </tr>\n",
       "    <tr>\n",
       "      <th>Bacteria 368</th>\n",
       "      <td>0.000000e+00</td>\n",
       "      <td>1.000000e+00</td>\n",
       "    </tr>\n",
       "    <tr>\n",
       "      <th>Bacteria 369</th>\n",
       "      <td>1.000000e+00</td>\n",
       "      <td>9.197340e-186</td>\n",
       "    </tr>\n",
       "    <tr>\n",
       "      <th>Bacteria 370</th>\n",
       "      <td>2.266772e-219</td>\n",
       "      <td>1.000000e+00</td>\n",
       "    </tr>\n",
       "    <tr>\n",
       "      <th>Bacteria 371</th>\n",
       "      <td>1.000000e+00</td>\n",
       "      <td>0.000000e+00</td>\n",
       "    </tr>\n",
       "    <tr>\n",
       "      <th>Bacteria 372</th>\n",
       "      <td>0.000000e+00</td>\n",
       "      <td>1.000000e+00</td>\n",
       "    </tr>\n",
       "    <tr>\n",
       "      <th>Bacteria 373</th>\n",
       "      <td>1.000000e+00</td>\n",
       "      <td>0.000000e+00</td>\n",
       "    </tr>\n",
       "    <tr>\n",
       "      <th>Bacteria 374</th>\n",
       "      <td>1.000000e+00</td>\n",
       "      <td>0.000000e+00</td>\n",
       "    </tr>\n",
       "    <tr>\n",
       "      <th>Bacteria 375</th>\n",
       "      <td>1.000000e+00</td>\n",
       "      <td>1.688383e-271</td>\n",
       "    </tr>\n",
       "    <tr>\n",
       "      <th>Bacteria 376</th>\n",
       "      <td>1.000000e+00</td>\n",
       "      <td>0.000000e+00</td>\n",
       "    </tr>\n",
       "    <tr>\n",
       "      <th>Bacteria 377</th>\n",
       "      <td>1.000000e+00</td>\n",
       "      <td>0.000000e+00</td>\n",
       "    </tr>\n",
       "    <tr>\n",
       "      <th>Bacteria 378</th>\n",
       "      <td>1.000000e+00</td>\n",
       "      <td>0.000000e+00</td>\n",
       "    </tr>\n",
       "    <tr>\n",
       "      <th>Bacteria 379</th>\n",
       "      <td>1.000000e+00</td>\n",
       "      <td>1.533716e-36</td>\n",
       "    </tr>\n",
       "    <tr>\n",
       "      <th>Bacteria 380</th>\n",
       "      <td>1.000000e+00</td>\n",
       "      <td>0.000000e+00</td>\n",
       "    </tr>\n",
       "    <tr>\n",
       "      <th>Bacteria 381</th>\n",
       "      <td>1.215198e-188</td>\n",
       "      <td>1.000000e+00</td>\n",
       "    </tr>\n",
       "    <tr>\n",
       "      <th>Bacteria 382</th>\n",
       "      <td>3.304624e-41</td>\n",
       "      <td>1.000000e+00</td>\n",
       "    </tr>\n",
       "    <tr>\n",
       "      <th>Bacteria 383</th>\n",
       "      <td>1.000000e+00</td>\n",
       "      <td>0.000000e+00</td>\n",
       "    </tr>\n",
       "    <tr>\n",
       "      <th>Bacteria 384</th>\n",
       "      <td>1.000318e-211</td>\n",
       "      <td>1.000000e+00</td>\n",
       "    </tr>\n",
       "    <tr>\n",
       "      <th>Bacteria 385</th>\n",
       "      <td>1.000000e+00</td>\n",
       "      <td>0.000000e+00</td>\n",
       "    </tr>\n",
       "    <tr>\n",
       "      <th>Bacteria 386</th>\n",
       "      <td>1.000000e+00</td>\n",
       "      <td>0.000000e+00</td>\n",
       "    </tr>\n",
       "    <tr>\n",
       "      <th>Bacteria 387</th>\n",
       "      <td>4.186902e-249</td>\n",
       "      <td>1.000000e+00</td>\n",
       "    </tr>\n",
       "    <tr>\n",
       "      <th>Bacteria 388</th>\n",
       "      <td>1.000000e+00</td>\n",
       "      <td>1.236482e-15</td>\n",
       "    </tr>\n",
       "    <tr>\n",
       "      <th>Bacteria 389</th>\n",
       "      <td>0.000000e+00</td>\n",
       "      <td>1.000000e+00</td>\n",
       "    </tr>\n",
       "    <tr>\n",
       "      <th>Bacteria 390</th>\n",
       "      <td>7.342047e-230</td>\n",
       "      <td>1.000000e+00</td>\n",
       "    </tr>\n",
       "    <tr>\n",
       "      <th>Bacteria 391</th>\n",
       "      <td>1.000000e+00</td>\n",
       "      <td>0.000000e+00</td>\n",
       "    </tr>\n",
       "  </tbody>\n",
       "</table>\n",
       "<p>118 rows × 2 columns</p>\n",
       "</div>"
      ],
      "text/plain": [
       "              Probability of being resistant  Probability of being susceptible\n",
       "Bacteria 274                    1.000000e+00                     7.947061e-202\n",
       "Bacteria 275                    0.000000e+00                      1.000000e+00\n",
       "Bacteria 276                    0.000000e+00                      1.000000e+00\n",
       "Bacteria 277                    1.000000e+00                      0.000000e+00\n",
       "Bacteria 278                    0.000000e+00                      1.000000e+00\n",
       "Bacteria 279                    1.000000e+00                      0.000000e+00\n",
       "Bacteria 280                    1.000000e+00                      0.000000e+00\n",
       "Bacteria 281                    1.000000e+00                      0.000000e+00\n",
       "Bacteria 282                    0.000000e+00                      1.000000e+00\n",
       "Bacteria 283                    0.000000e+00                      1.000000e+00\n",
       "Bacteria 284                   1.478374e-171                      1.000000e+00\n",
       "Bacteria 285                    0.000000e+00                      1.000000e+00\n",
       "Bacteria 286                    0.000000e+00                      1.000000e+00\n",
       "Bacteria 287                    2.344258e-26                      1.000000e+00\n",
       "Bacteria 288                    1.000000e+00                      0.000000e+00\n",
       "Bacteria 289                    1.000000e+00                      0.000000e+00\n",
       "Bacteria 290                   2.157226e-108                      1.000000e+00\n",
       "Bacteria 291                    0.000000e+00                      1.000000e+00\n",
       "Bacteria 292                    2.166945e-53                      1.000000e+00\n",
       "Bacteria 293                   1.485610e-101                      1.000000e+00\n",
       "Bacteria 294                    1.000000e+00                      0.000000e+00\n",
       "Bacteria 295                    0.000000e+00                      1.000000e+00\n",
       "Bacteria 296                   1.449534e-265                      1.000000e+00\n",
       "Bacteria 297                    1.000000e+00                      4.154875e-50\n",
       "Bacteria 298                    1.000000e+00                      0.000000e+00\n",
       "Bacteria 299                    1.000000e+00                      0.000000e+00\n",
       "Bacteria 300                    1.000000e+00                      1.192890e-37\n",
       "Bacteria 301                   3.201021e-304                      1.000000e+00\n",
       "Bacteria 302                    1.000000e+00                      0.000000e+00\n",
       "Bacteria 303                    0.000000e+00                      1.000000e+00\n",
       "...                                      ...                               ...\n",
       "Bacteria 362                    0.000000e+00                      1.000000e+00\n",
       "Bacteria 363                    1.000000e+00                      0.000000e+00\n",
       "Bacteria 364                    1.000000e+00                      0.000000e+00\n",
       "Bacteria 365                    0.000000e+00                      1.000000e+00\n",
       "Bacteria 366                    1.666874e-58                      1.000000e+00\n",
       "Bacteria 367                    1.000000e+00                     1.970588e-278\n",
       "Bacteria 368                    0.000000e+00                      1.000000e+00\n",
       "Bacteria 369                    1.000000e+00                     9.197340e-186\n",
       "Bacteria 370                   2.266772e-219                      1.000000e+00\n",
       "Bacteria 371                    1.000000e+00                      0.000000e+00\n",
       "Bacteria 372                    0.000000e+00                      1.000000e+00\n",
       "Bacteria 373                    1.000000e+00                      0.000000e+00\n",
       "Bacteria 374                    1.000000e+00                      0.000000e+00\n",
       "Bacteria 375                    1.000000e+00                     1.688383e-271\n",
       "Bacteria 376                    1.000000e+00                      0.000000e+00\n",
       "Bacteria 377                    1.000000e+00                      0.000000e+00\n",
       "Bacteria 378                    1.000000e+00                      0.000000e+00\n",
       "Bacteria 379                    1.000000e+00                      1.533716e-36\n",
       "Bacteria 380                    1.000000e+00                      0.000000e+00\n",
       "Bacteria 381                   1.215198e-188                      1.000000e+00\n",
       "Bacteria 382                    3.304624e-41                      1.000000e+00\n",
       "Bacteria 383                    1.000000e+00                      0.000000e+00\n",
       "Bacteria 384                   1.000318e-211                      1.000000e+00\n",
       "Bacteria 385                    1.000000e+00                      0.000000e+00\n",
       "Bacteria 386                    1.000000e+00                      0.000000e+00\n",
       "Bacteria 387                   4.186902e-249                      1.000000e+00\n",
       "Bacteria 388                    1.000000e+00                      1.236482e-15\n",
       "Bacteria 389                    0.000000e+00                      1.000000e+00\n",
       "Bacteria 390                   7.342047e-230                      1.000000e+00\n",
       "Bacteria 391                    1.000000e+00                      0.000000e+00\n",
       "\n",
       "[118 rows x 2 columns]"
      ]
     },
     "execution_count": 13,
     "metadata": {},
     "output_type": "execute_result"
    }
   ],
   "source": [
    "pd.DataFrame(bNB.predict_proba(DNA_test_set),\n",
    "             index=DNA_test_set.index,\n",
    "             columns=['Probability of being resistant','Probability of being susceptible'])"
   ]
  },
  {
   "cell_type": "markdown",
   "metadata": {},
   "source": [
    "## 4.D Comparing Classifiers\n",
    "\n",
    "### 4.D.1 Threshold Values\n",
    "\n",
    "To compare classifiers, we need to take more care. We cannot simply compare total fraction of observations correctly classified.\n",
    "\n",
    "Consider the histogram of probabilities of being in the susceptible class, \n",
    "\n",
    "<img src=\"images/04_histogram_01.png\" alt=\"Drawing\" style=\"width: 700px;\"/>\n",
    "\n",
    "\n",
    "Classifiers have a threshold probability above which all observations assigned 1 and below which all observations assigned 0. \n",
    "\n",
    "<img src=\"images/04_histogram_02.png\" alt=\"Drawing\" style=\"width: 500px;\"/>\n",
    "\n",
    "Setting a threshold value causes observations to be correctly and incorrectly classified. The threshold value then determines the output of the ```score``` and ```confusion_matrix``` function.\n",
    "\n",
    "To compare classifiers, we determine how the efficacy of the classifiers varies across threshold values.\n",
    "\n",
    "Note: \n",
    "\n",
    "**In the ideal case, there is no overlap of the histograms of probabilities.**\n",
    "\n",
    "**In the worst case, there is complete overlap of histograms of probabilities.**"
   ]
  },
  {
   "cell_type": "markdown",
   "metadata": {},
   "source": [
    "### 4.D.2 ROC curves"
   ]
  },
  {
   "cell_type": "markdown",
   "metadata": {},
   "source": [
    "#### What are ROC curves?\n",
    "\n",
    "*ROC curves plot how well the probabilities of the susceptible category are separated from the probabilities of resistant category.*\n",
    "\n",
    "\n",
    "#### How do ROC curve work?\n",
    "\n",
    "Recall that cells of the confusion matrix have special names:\n",
    "    \n",
    "\n",
    "| . | Predicted: 0 | Predicted: 1 |\n",
    "| --- | --- | --- |\n",
    "| **Actual: 0** | True Negative (TN) | False Positive  (FP) |\n",
    "| **Actual: 1** | False Negative (FN) | True Positive  (TP) |\n",
    "\n",
    "\n",
    "While varying the threshold value of a classifier, *an ROC curve plots the true positive rates versus false positive rates*. \n",
    "\n",
    "\n",
    "<img src=\"images/04_ROC_curve_example.png\" alt=\"Drawing\" style=\"width: 500px;\"/>\n",
    "\n",
    "\n",
    "The true and false positive rates are related to the entries of the confusion matrix.\n",
    "\n",
    "\n",
    "$$ \\text{true positive rates} = \\frac{\\text{TP}}{\\text{TP} + \\text{FN}}= \\text{fraction of susceptible bacteria correctly classified} $$\n",
    "\n",
    "$$ \\text{false positive rates} = \\frac{\\text{FP}}{\\text{FP} + \\text{TN}} = \\text{fraction of resistant bacteria incorrectly classified}$$\n",
    "\n",
    "\n",
    "#### How do ROC curves detect if the probabilities of a classifier are well separated?\n",
    "\n",
    "##### Best Case: No overlap in histogram of probabilities\n",
    "\n",
    "<img src=\"images/04_best_case_histogram_ROC_I.png\" alt=\"Drawing\" style=\"width: 700px;\"/>\n",
    "<img src=\"images/04_best_case_histogram_ROC_II.png\" alt=\"Drawing\" style=\"width: 700px;\"/>\n",
    "<img src=\"images/04_best_case_ROC.png\" alt=\"Drawing\" style=\"width: 300px;\"/>\n",
    "\n",
    "With no overlap in the histograms, the ROC curve\n",
    "\n",
    "- is close to the true positive axis initially and rises to true positive rate of 1\n",
    "- saturates slowly to a false positive rate of 1\n",
    "\n",
    "##### Worst Case: Complete overlap in histogram of probabilities\n",
    "\n",
    "<img src=\"images/04_worst_case_histogram_ROC_I.png\" alt=\"Drawing\" style=\"width: 700px;\"/>\n",
    "<img src=\"images/04_worst_case_histogram_ROC_II.png\" alt=\"Drawing\" style=\"width: 700px;\"/>\n",
    "<img src=\"images/04_worst_case_ROC.png\" alt=\"Drawing\" style=\"width: 300px;\"/>\n",
    "\n",
    "With complete overlap in the histograms, true positive rate equals the false positive rate."
   ]
  },
  {
   "cell_type": "markdown",
   "metadata": {},
   "source": [
    "#### Generating ROC curves using Sklearn\n",
    "\n",
    "To generate the ROC curve, we use the ```roc_curve``` function in ```sklearn.metrics``` module. \n",
    "\n",
    "```roc_curve``` returns the false positive rates and true positive rates of the classifier. It also returns the thresholds used to compute the rates.\n",
    "\n",
    "```roc_curve```  takes as arguments:\n",
    "- the classes of each observation in the test set \n",
    "- and the probability of each observation being in class 1. In this case, class 1 is the susceptible class."
   ]
  },
  {
   "cell_type": "code",
   "execution_count": 14,
   "metadata": {},
   "outputs": [],
   "source": [
    "from sklearn.metrics import roc_curve\n",
    "\n",
    "#generate false and true positive rates for bNB\n",
    "probability_values_bNB= bNB.predict_proba(DNA_test_set)\n",
    "# compute false and true positive rate\n",
    "false_positive_rate_bNB, true_positive_rate_bNB, thresholds_bNB = roc_curve(labels_test_set, \n",
    "                                                                probability_values_bNB[:,1])"
   ]
  },
  {
   "cell_type": "code",
   "execution_count": 15,
   "metadata": {},
   "outputs": [],
   "source": [
    "#generate false and true positive rates for gNB\n",
    "probability_values_gNB= gNB.predict_proba(DNA_test_set)\n",
    "# compute false and true positive rate for gNB\n",
    "false_positive_rate_gNB, true_positive_rate_gNB, thresholds_gNB = roc_curve(labels_test_set, \n",
    "                                                               probability_values_gNB[:,1])"
   ]
  },
  {
   "cell_type": "code",
   "execution_count": 16,
   "metadata": {},
   "outputs": [
    {
     "data": {
      "image/png": "[encoded data removed]",
      "text/plain": [
       "<Figure size 432x288 with 1 Axes>"
      ]
     },
     "metadata": {
      "needs_background": "light"
     },
     "output_type": "display_data"
    }
   ],
   "source": [
    "%matplotlib inline\n",
    "import matplotlib.pyplot as plt\n",
    "lw = 2\n",
    "plt.plot(false_positive_rate_bNB, true_positive_rate_bNB, color='blue' )\n",
    "plt.plot([0, 1], [0, 1], color='navy', lw=lw, linestyle='--')\n",
    "plt.xlabel('False Positive Rate')\n",
    "plt.ylabel('True Positive Rate')\n",
    "plt.show()"
   ]
  },
  {
   "cell_type": "markdown",
   "metadata": {},
   "source": [
    "*Note:* If a classifier has an ROC that falls on the navy line, then that classifier is no better than random. In this case, the classifier cannot determine susceptible category from the resistant category and the probability of the histograms would overlap.\n",
    "\n",
    "If a classifier has an ROC that is above the navy line, then that classifier is better than random. "
   ]
  },
  {
   "cell_type": "markdown",
   "metadata": {},
   "source": [
    "### Exercise 4.D.2: Plotting ROC curve of Gaussian Naive Bayes classifier\n",
    "\n",
    "I generated the data to plot the ROC of the Gaussian Naive Bayes classifier.\n",
    "\n",
    "```\n",
    "#generate false and true positive rates for gNB\n",
    "probability_values_gNB= gNB.predict_proba(DNA_test_set)\n",
    "false_positive_rate_gNB, true_positive_rate_gNB, threshold_gNB = roc_curve(DNA_test_set, \n",
    "                                                               probability_values_gNB[:,1])\n",
    "```\n",
    "\n",
    "Modify the code below to plot the ROC of the Gaussian Naive Bayes classifier. Is this classifier better than random?\n",
    "\n",
    "```\n",
    "lw = 2\n",
    "plt.plot(false_positive_rate_bNB, true_positive_rate_bNB, color='green' )\n",
    "plt.plot([0, 1], [0, 1], color='navy', lw=lw, linestyle='--')\n",
    "plt.xlabel('False Positive Rate')\n",
    "plt.ylabel('True Positive Rate')\n",
    "plt.show()\n",
    "```"
   ]
  },
  {
   "cell_type": "code",
   "execution_count": 17,
   "metadata": {},
   "outputs": [
    {
     "data": {
      "image/png": "[encoded data removed]",
      "text/plain": [
       "<Figure size 432x288 with 1 Axes>"
      ]
     },
     "metadata": {
      "needs_background": "light"
     },
     "output_type": "display_data"
    }
   ],
   "source": [
    "# enter solution here\n",
    "\n",
    "lw = 2\n",
    "plt.plot(false_positive_rate_gNB, true_positive_rate_gNB, color='green' )\n",
    "plt.plot([0, 1], [0, 1], color='navy', lw=lw, linestyle='--')\n",
    "plt.xlabel('False Positive Rate')\n",
    "plt.ylabel('True Positive Rate')\n",
    "plt.show()"
   ]
  },
  {
   "cell_type": "markdown",
   "metadata": {},
   "source": [
    "This classifier is better than random since the ROC curve is above the navy line."
   ]
  },
  {
   "cell_type": "markdown",
   "metadata": {},
   "source": [
    "### 4.D.3 Comparing ROC Curves"
   ]
  },
  {
   "cell_type": "markdown",
   "metadata": {},
   "source": [
    "ROC curves qualitatively compare classifiers.\n",
    "\n",
    "To compare classifiers quantitatively, we use the area under the curve (AUC) of the ROC curve.\n",
    "\n",
    "#### Best Case\n",
    "\n",
    "In the best case, no overlap in histograms, the plot forms a square and the area is 1.\n",
    "\n",
    "<img src=\"images/04_best_case_ROC.png\" alt=\"Drawing\" style=\"width: 300px;\"/>\n",
    "\n",
    "\n",
    "#### Worst Case\n",
    "\n",
    "In the worst case, complete overlap in histograms, the plot forms a triangle and the area is 1/2.\n",
    "\n",
    "<img src=\"images/04_worst_case_ROC.png\" alt=\"Drawing\" style=\"width: 300px;\"/>\n",
    "\n",
    "\n",
    "\n",
    "ROC curves with area closer to 1 are better classifiers. \n",
    "\n",
    "To compute area under the curve, we use the ```auc``` function in the ```sklearn.metrics``` module.\n",
    "\n",
    "```auc``` returns the area under the curve. ```auc``` takes two arguments.\n",
    "- The first argument of ```auc``` is the false positive rate values from ```roc_curve.```  \n",
    "- The second argument of ```auc``` is the true positive rate values from ```roc_curve.```"
   ]
  },
  {
   "cell_type": "code",
   "execution_count": 18,
   "metadata": {},
   "outputs": [
    {
     "data": {
      "text/plain": [
       "0.9266493055555556"
      ]
     },
     "execution_count": 18,
     "metadata": {},
     "output_type": "execute_result"
    }
   ],
   "source": [
    "from sklearn.metrics import auc\n",
    "\n",
    "roc_auc_bNB = auc(false_positive_rate_bNB, true_positive_rate_bNB)\n",
    "roc_auc_bNB"
   ]
  },
  {
   "cell_type": "code",
   "execution_count": 19,
   "metadata": {},
   "outputs": [
    {
     "data": {
      "image/png": "[encoded data removed]",
      "text/plain": [
       "<Figure size 432x288 with 1 Axes>"
      ]
     },
     "metadata": {
      "needs_background": "light"
     },
     "output_type": "display_data"
    }
   ],
   "source": [
    "width= 0.1\n",
    "ind = [0.0,1.0]\n",
    "probabilities_test = bNB.predict_proba(DNA_test_set)\n",
    "probabilities_test0 =  probabilities_test[(labels_test_set==0).values.ravel(),1]\n",
    "probabilities_test1 =  probabilities_test[(labels_test_set==1).values.ravel(),1]\n",
    "\n",
    "\n",
    "sums_0 = [(probabilities_test0 == 0.0).sum(),\n",
    "         (probabilities_test0 == 1.0).sum()]\n",
    "\n",
    "sums_1 = [(probabilities_test1 == 0.0).sum(),\n",
    "         (probabilities_test1 == 1.0).sum()]\n",
    "p1 = plt.bar(ind, sums_1,\n",
    "             width)\n",
    "p2 = plt.bar(ind, sums_0, width,\n",
    "             bottom=sums_1)\n",
    "plt.legend(['actual susceptible','actual resistant'])\n",
    "plt.xlabel('probability')\n",
    "plt.ylabel('count')\n",
    "plt.show()"
   ]
  },
  {
   "cell_type": "markdown",
   "metadata": {},
   "source": [
    "### Exercise 4.D.3: Area under the curve for Gaussian Naive Bayes\n",
    "\n",
    "Using the ```auc``` function, compute the area under the curve for the Gaussian Naive Bayes classifier. Which classifier is better, Gaussian Naive Bayes or Bernoulli Naive Bayes?   \n",
    "\n",
    "Note: I already calculated ```true_positive_rate_gNB``` and ```false_positive_rate_gNB``` above."
   ]
  },
  {
   "cell_type": "code",
   "execution_count": 20,
   "metadata": {
    "pycharm": {
     "is_executing": false
    }
   },
   "outputs": [
    {
     "data": {
      "text/plain": [
       "0.8819444444444444"
      ]
     },
     "execution_count": 20,
     "metadata": {},
     "output_type": "execute_result"
    }
   ],
   "source": [
    "# enter solution here\n",
    "roc_auc_gNB = auc(false_positive_rate_gNB, true_positive_rate_gNB)\n",
    "roc_auc_gNB"
   ]
  },
  {
   "cell_type": "code",
   "execution_count": 21,
   "metadata": {},
   "outputs": [
    {
     "data": {
      "image/png": "[encoded data removed]",
      "text/plain": [
       "<Figure size 432x288 with 1 Axes>"
      ]
     },
     "metadata": {
      "needs_background": "light"
     },
     "output_type": "display_data"
    }
   ],
   "source": [
    "width= 0.1\n",
    "ind = [0.0,1.0]\n",
    "probabilities_test = gNB.predict_proba(DNA_test_set)\n",
    "probabilities_test0 =  probabilities_test[(labels_test_set==0).values.ravel(),1]\n",
    "probabilities_test1 =  probabilities_test[(labels_test_set==1).values.ravel(),1]\n",
    "\n",
    "\n",
    "sums_0 = [(probabilities_test0 == 0.0).sum(),\n",
    "         (probabilities_test0 == 1.0).sum()]\n",
    "\n",
    "sums_1 = [(probabilities_test1 == 0.0).sum(),\n",
    "         (probabilities_test1 == 1.0).sum()]\n",
    "p1 = plt.bar(ind, sums_1,\n",
    "             width)\n",
    "p2 = plt.bar(ind, sums_0, width,\n",
    "             bottom=sums_1)\n",
    "plt.legend(['actual susceptible','actual resistant'])\n",
    "plt.xlabel('probability')\n",
    "plt.ylabel('count')\n",
    "plt.show()"
   ]
  },
  {
   "cell_type": "markdown",
   "metadata": {},
   "source": [
    "The Bernoulli Naive Bayes classifier is better."
   ]
  },
  {
   "cell_type": "markdown",
   "metadata": {},
   "source": [
    "### 4.D.4 Visualizing the results\n",
    "\n",
    "We can combine the results of sections 4.C.2, ROC plots, and 4.C.3, AUC calculations, into one plot.\n"
   ]
  },
  {
   "cell_type": "code",
   "execution_count": 22,
   "metadata": {},
   "outputs": [
    {
     "data": {
      "image/png": "[encoded data removed]",
      "text/plain": [
       "<Figure size 432x288 with 1 Axes>"
      ]
     },
     "metadata": {
      "needs_background": "light"
     },
     "output_type": "display_data"
    }
   ],
   "source": [
    "lw = 2\n",
    "plt.plot(false_positive_rate_gNB, true_positive_rate_gNB, color='green',\n",
    "         lw=lw, label='Bernoulli NB ROC curve (area = %0.2f)' % roc_auc_gNB)\n",
    "plt.plot(false_positive_rate_bNB, true_positive_rate_bNB, color='blue',\n",
    "         lw=lw, label='Gaussian NB ROC curve (area = %0.2f)' % roc_auc_bNB)\n",
    "plt.plot([0, 1], [0, 1], color='navy', lw=lw, linestyle='--')\n",
    "plt.xlabel('False Positive Rate')\n",
    "plt.ylabel('True Positive Rate')\n",
    "plt.legend(loc=\"lower right\")\n",
    "plt.show()"
   ]
  },
  {
   "cell_type": "markdown",
   "metadata": {},
   "source": [
    "# 5. Possible Improvements\n",
    "\n",
    "## 5.1 Interactions terms\n",
    "\n",
    "Recall that all Naive Bayes algorithms assume that the value of any feature is independent of any other feature. In our case, the presence of a segment of the genome does not affect the presence of another segment.\n",
    "\n",
    "This assumption is not true. A gene at a given location of the genome can determine a gene at another location. Thus, features are not truly independent. While Naive Bayes classifiers do not allow interaction between features, there are classifiers that do.\n",
    "\n",
    "\n",
    "Logistic regression, linear discriminant analysis (LDA) and quadratic discriminant analysis (QDA) allow for interaction. \n",
    "\n",
    "- However, LDA and QDA assume that the probability that a feature takes on a given value is Gaussian. \n",
    "\n",
    "- Logistic regression does not make assumptions about the probability distribution of a feature. However, you would have to tell logistic regression what interactions to consider. Doing logistic regression with all interaction terms and some penalty, like LASSO, might be suitable.\n",
    "\n",
    "## 5.2 Non-parametric models\n",
    "\n",
    "The methods we discussed so far are all parametric classifiers. Parametric techniques learn parameters, such as mean and variance in the Gaussian Naive Bayes and $p$ values in Bernoulli Naive Bayes. The parameters are used in a formula to compute the probability. \n",
    "\n",
    "There exist non-parametric classifiers. Non-parametric classifiers do not have formulas to calculate the probability that an observation falls into a given class. Non-parametric methods instead use an algorithm to learn the data structure. Non-parametric methods are more flexible than parametric techniques. However, nonparametric methods are sometimes less interpretable than parametric methods.   Given the complexity of this problem, non-parametric classifiers such as classification trees or K-Nearest Neighbour classifiers may be suitable alternatives."
   ]
  }
 ],
 "metadata": {
  "kernelspec": {
   "display_name": "Python 3",
   "language": "python",
   "name": "python3"
  },
  "language_info": {
   "codemirror_mode": {
    "name": "ipython",
    "version": 3
   },
   "file_extension": ".py",
   "mimetype": "text/x-python",
   "name": "python",
   "nbconvert_exporter": "python",
   "pygments_lexer": "ipython3",
   "version": "3.7.6"
  },
  "pycharm": {
   "stem_cell": {
    "cell_type": "raw",
    "metadata": {
     "collapsed": false
    },
    "source": []
   }
  }
 },
 "nbformat": 4,
 "nbformat_minor": 2
}
