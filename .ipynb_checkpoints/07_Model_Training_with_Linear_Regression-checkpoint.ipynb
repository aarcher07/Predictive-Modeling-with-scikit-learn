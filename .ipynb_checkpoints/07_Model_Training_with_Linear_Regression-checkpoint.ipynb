{
 "cells": [
  {
   "cell_type": "markdown",
   "metadata": {},
   "source": [
    "# 0. Review\n",
    "## 0.A Scikit-Learn\n",
    "\n",
    "Scikit-Learn is a machine learning python package. It allows users to access machine learning algorithms via **object-oriented programming**.\n",
    "\n",
    "## 0.B Data Set\n",
    "\n",
    "I will be using a dataset of avocado prices.\n",
    "\n",
    "We would like to learn prices of avocado given brand, location sold, total volume, etc.\n",
    "\n",
    "## 0.C Load Data\n",
    "\n",
    "Now, we load our training and test set. Run the code below to load "
   ]
  },
  {
   "cell_type": "code",
   "execution_count": null,
   "metadata": {
    "pycharm": {
     "is_executing": false
    },
    "scrolled": false
   },
   "outputs": [],
   "source": [
    "import pandas as pd\n",
    "\n",
    "# load explanatory variables\n",
    "avocado_training_set  = pd.read_csv(\"datasets/avocado_training_set\",index_col=0)\n",
    "avocado_training_set['year'] = avocado_training_set['year'].astype(str)\n",
    "avocado_training_set['Month'] = avocado_training_set['Month'].astype(str)\n",
    "\n",
    "avocado_test_set = pd.read_csv(\"datasets/avocado_test_set\",index_col=0)\n",
    "avocado_test_set['year'] = avocado_test_set['year'].astype(str)\n",
    "avocado_test_set['Month'] = avocado_test_set['Month'].astype(str)\n",
    "\n",
    "# load predictors\n",
    "prices_training_set = pd.read_csv(\"datasets/avocado_prices_training_set\",index_col=0)\n",
    "prices_test_set = pd.read_csv(\"datasets/avocado_prices_test_set\",index_col=0)"
   ]
  },
  {
   "cell_type": "markdown",
   "metadata": {},
   "source": [
    "**In this section, we will be learning a linear regression model from our training data. Using the attributes of the avocado sold, this regression estimate the average price of the avocado.**"
   ]
  },
  {
   "cell_type": "markdown",
   "metadata": {},
   "source": [
    "# 9. Train model: Linear Regression\n",
    "\n",
    "2. Then, train a **machine learning model** using **labeled data**\n",
    "\n",
    "    - \"Labeled data\" has been labeled with the outcome\n",
    "    - \"Machine learning model\" learns the relationship between the attributes of the data and its outcome\n",
    "\n",
    "Linear regression assumes that there is a *linear* relationship between the explanatory variables and the outcome. \n",
    "\n",
    "That our case linear regression means that price does up or down, but not both, at a constant rate if an explanatory variable increases.\n",
    "\n",
    "Thus, linear regression assumes a linear model of price\n",
    "\n",
    "$$\\text{Price} = \\beta_0 + \\beta_1 \\text{Total Volume} + \\beta_2 \\text{Year} + \\beta_3 \\text{Month} + \\beta_4 \\text{Type}.$$\n",
    "\n",
    "In a linear regression model, we aim learn the coefficients, $\\beta_0 ,\\beta_1 ,\\beta_2 ,\\beta_3,\\beta_4$ that minimizes the mean squared error between the model and true response variables (prices). \n",
    "\n",
    "That is,\n",
    "$$\\min_{\\beta_0 ,\\beta_1 ,\\beta_2 ,\\beta_3,\\beta_4} \\sum_{i=1}^{N}\\left(y_i - \\left(\\beta_0 + \\beta_1 \\text{Total Volume}_i + \\beta_2 \\text{Year}_i + \\beta_3 \\text{Month}_i + \\beta_4 \\text{Type}_i\\right)\\right)^2$$\n",
    "\n",
    "In learning a model, we will be to predict future prices and study how the explanatory variables affect price.\n",
    "    \n",
    "## 9.A Check Training Set"
   ]
  },
  {
   "cell_type": "markdown",
   "metadata": {},
   "source": [
    "Let's check if we loaded the correct dataset."
   ]
  },
  {
   "cell_type": "code",
   "execution_count": null,
   "metadata": {},
   "outputs": [],
   "source": [
    "#print head of prices_training_set\n",
    "prices_training_set.head()"
   ]
  },
  {
   "cell_type": "code",
   "execution_count": null,
   "metadata": {},
   "outputs": [],
   "source": [
    "#print head of  avocado_training_set\n",
    "avocado_training_set.head()"
   ]
  },
  {
   "cell_type": "markdown",
   "metadata": {},
   "source": [
    "## 9.B Linear Regression: Price vs. Total Volume"
   ]
  },
  {
   "cell_type": "markdown",
   "metadata": {},
   "source": [
    "### 9.B.1 Plot of Price vs. Total Volume"
   ]
  },
  {
   "cell_type": "code",
   "execution_count": null,
   "metadata": {
    "pycharm": {
     "is_executing": false
    }
   },
   "outputs": [],
   "source": [
    "import matplotlib.pyplot as plt\n",
    "import numpy as np\n",
    "\n",
    "#scatter plot price vs. total volume\n",
    "plt.figure(figsize=(15,5))\n",
    "plt.scatter(avocado_training_set['Total Volume'],prices_training_set,s=5)\n",
    "plt.xlabel('log(Total Volume)')\n",
    "plt.ylabel('Total Price')\n",
    "plt.show()"
   ]
  },
  {
   "cell_type": "markdown",
   "metadata": {},
   "source": [
    "### 9.B.2 Constructing Linear Model"
   ]
  },
  {
   "cell_type": "markdown",
   "metadata": {},
   "source": [
    "#### I. Initialize Linear Model Object"
   ]
  },
  {
   "cell_type": "code",
   "execution_count": null,
   "metadata": {},
   "outputs": [],
   "source": [
    "from sklearn.linear_model import LinearRegression\n",
    "\n",
    "# initialize LinearRegression(fit_intercept=True, normalize=False) with linearmodel\n"
   ]
  },
  {
   "cell_type": "markdown",
   "metadata": {},
   "source": [
    "#### II. Train Linear Model Object"
   ]
  },
  {
   "cell_type": "code",
   "execution_count": null,
   "metadata": {},
   "outputs": [],
   "source": [
    "# store avocado_training_set['Total Volume'] as total_volume_\n",
    "\n"
   ]
  },
  {
   "cell_type": "code",
   "execution_count": null,
   "metadata": {},
   "outputs": [],
   "source": [
    "#  convert total_volume_ to numpy array using total_volume_.values\n",
    "# store as total_volume_values\n",
    "\n"
   ]
  },
  {
   "cell_type": "code",
   "execution_count": null,
   "metadata": {},
   "outputs": [],
   "source": [
    "# reshape total_volume_values with reshape(-1, 1)\n",
    "# reprint reshaped array\n",
    "# store as total_volume_arr\n",
    "\n"
   ]
  },
  {
   "cell_type": "code",
   "execution_count": null,
   "metadata": {},
   "outputs": [],
   "source": [
    "#now fit linearmodel with total_volume_arr, prices_training_set\n"
   ]
  },
  {
   "cell_type": "markdown",
   "metadata": {},
   "source": [
    "#### III.  Plotting Predicted Values"
   ]
  },
  {
   "cell_type": "code",
   "execution_count": null,
   "metadata": {},
   "outputs": [],
   "source": [
    "# predict total_volume of the training set with predict method\n",
    "# store as prices_predict_\n",
    "\n"
   ]
  },
  {
   "cell_type": "code",
   "execution_count": null,
   "metadata": {},
   "outputs": [],
   "source": [
    "#scatter plot price vs. total volume\n",
    "plt.figure(figsize=(15,5))\n",
    "plt.scatter(avocado_training_set['Total Volume'],prices_training_set,s=5)\n",
    "plt.plot(total_volume_,prices_predicted_,c='r')\n",
    "\n",
    "plt.xlabel('log(Total Volume)')\n",
    "plt.ylabel('Total Price')\n",
    "plt.show()"
   ]
  },
  {
   "cell_type": "markdown",
   "metadata": {},
   "source": [
    "### 9.B.3 Getting attributes of the linear model"
   ]
  },
  {
   "cell_type": "markdown",
   "metadata": {},
   "source": [
    "After being fit, LinearRegression object stores the coefficients as ```coef_``` and the intercept as ```intercept_```."
   ]
  },
  {
   "cell_type": "code",
   "execution_count": null,
   "metadata": {},
   "outputs": [],
   "source": [
    "# print linearmodel.coef_\n",
    "\n",
    "# print linearmodel.intercept_\n"
   ]
  },
  {
   "cell_type": "markdown",
   "metadata": {},
   "source": [
    "Our model is then\n",
    "$$\\text{Price} = 2.5597 -0.1021 \\times \\text{Log(Total Volume)}$$"
   ]
  },
  {
   "cell_type": "markdown",
   "metadata": {},
   "source": [
    "The ```LinearRegression``` object can also compute the $R^2$ value of the model. This is computed using the ```score``` function. The score function takes the explanatory variables and response variables as arguments."
   ]
  },
  {
   "cell_type": "code",
   "execution_count": null,
   "metadata": {},
   "outputs": [],
   "source": [
    "# compute linearmodel.score(total_volume_arr,prices_training_set)\n"
   ]
  },
  {
   "cell_type": "markdown",
   "metadata": {},
   "source": [
    "### 9.B.4 Training Error and Test error"
   ]
  },
  {
   "cell_type": "markdown",
   "metadata": {},
   "source": [
    "Root Mean Squared Error (RMSE) is the square root of the mean of the squared errors:\n",
    "$$\\text{RMSE}=\\frac{1}{N}\\sqrt{\\sum_{i=1}^{N}(\\text{true}_i - \\text{pred}_i)^2}$$.\n",
    "\n",
    "\n",
    "The RMSE is use to measure the fidelity of the model to training set and testing set."
   ]
  },
  {
   "cell_type": "markdown",
   "metadata": {},
   "source": [
    "#### I. Training Error"
   ]
  },
  {
   "cell_type": "code",
   "execution_count": null,
   "metadata": {},
   "outputs": [],
   "source": [
    "# training error\n",
    "from sklearn.metrics import mean_squared_error\n",
    "\n",
    "# compute mean_squared_error(prices_training_set, prices_predicted_) and take sqrt\n",
    "\n"
   ]
  },
  {
   "cell_type": "markdown",
   "metadata": {},
   "source": [
    "#### II. Testing Error"
   ]
  },
  {
   "cell_type": "code",
   "execution_count": null,
   "metadata": {},
   "outputs": [],
   "source": [
    "# format test set error\n",
    "# store  avocado_test_set['Total Volume'].values.reshape(-1, 1) as total_volume_test_\n"
   ]
  },
  {
   "cell_type": "code",
   "execution_count": null,
   "metadata": {},
   "outputs": [],
   "source": [
    "# get predicted prices for total_volume_test_ using  linearmodel.predict\n",
    "# store as prices_predicted_test_\n"
   ]
  },
  {
   "cell_type": "code",
   "execution_count": null,
   "metadata": {},
   "outputs": [],
   "source": [
    "#scatter plot of price vs. total volume in the test set\n",
    "plt.figure(figsize=(15,5))\n",
    "plt.scatter(total_volume_test_,prices_test_set,s=5)\n",
    "plt.plot(total_volume_test_,prices_predicted_test_,c='r')\n",
    "plt.xlabel('log(Total Volume)')\n",
    "plt.ylabel('Price')\n",
    "plt.show()"
   ]
  },
  {
   "cell_type": "code",
   "execution_count": null,
   "metadata": {},
   "outputs": [],
   "source": [
    "# test error\n",
    "# compute mean_squared_error(prices_test_set, prices_predicted_test_)) and take sqrt\n"
   ]
  },
  {
   "cell_type": "markdown",
   "metadata": {},
   "source": [
    "### 9.C Constructing Linear Model with the categorical variable, ```type```.\n",
    "\n",
    "```Scikit-Learn``` does not handle categorical variables well.\n",
    "\n",
    "\n",
    "This is a pain because we have four categorical variables:\n",
    "- Month\n",
    "- year\n",
    "- region\n",
    "- type.\n",
    "\n",
    "In this section, we are building a linear model with the variables ```Total Volume``` and ```type```.\n",
    "\n",
    "#### 9.C.1 Hot one encoding\n",
    "\n",
    "For ```Scikit-Learn``` to interpret categorical variables, we have encode them into binary. \n",
    "\n",
    "For the explanatory variable, ```type```,  we have two categories."
   ]
  },
  {
   "cell_type": "code",
   "execution_count": null,
   "metadata": {},
   "outputs": [],
   "source": [
    "# print unique entries\n",
    "# avocado_training_set['type'].unique()\n"
   ]
  },
  {
   "cell_type": "markdown",
   "metadata": {},
   "source": [
    "Using the pandas method, ```get_dummies```, we encoded this as one column in which\n",
    "- conventional = 0\n",
    "- organic = 1.\n",
    "\n",
    "\n",
    "We call this column, ```type_organic```."
   ]
  },
  {
   "cell_type": "code",
   "execution_count": null,
   "metadata": {
    "scrolled": true
   },
   "outputs": [],
   "source": [
    "# run pd.get_dummies(data=avocado_training_set['type'], drop_first=True)\n",
    "# store as column 'type_organic'\n"
   ]
  },
  {
   "cell_type": "code",
   "execution_count": null,
   "metadata": {},
   "outputs": [],
   "source": [
    "# print head of avocado_training_set_cleaned\n"
   ]
  },
  {
   "cell_type": "markdown",
   "metadata": {},
   "source": [
    "Repeating on the test set,"
   ]
  },
  {
   "cell_type": "code",
   "execution_count": null,
   "metadata": {},
   "outputs": [],
   "source": [
    "#  run pd.get_dummies(data=avocado_test_set['type'], drop_first=True)\n",
    "# store as column 'type_organic'\n"
   ]
  },
  {
   "cell_type": "code",
   "execution_count": null,
   "metadata": {},
   "outputs": [],
   "source": [
    "# print head of avocado_test_set_cleaned\n"
   ]
  },
  {
   "cell_type": "markdown",
   "metadata": {},
   "source": [
    "#### 9.C.2 Model Interpretation"
   ]
  },
  {
   "cell_type": "markdown",
   "metadata": {},
   "source": [
    "If run a linear model with the ```type_organic``` and log(Total Volume) columns, the linear model becomes:\n",
    "\n",
    "$$\\text{Price} = \\beta_0 + \\beta_1 \\times \\text{Log(Total Volume)} + \\beta_2 \\times \\text{type_organic}.$$\n",
    "\n",
    "Let's interpret this model. \n",
    "\n",
    "Given that the observation is an conventional avocado, $\\text{type_organic} = 0$ and the linear model becomes:\n",
    "\n",
    "$$\\text{Price} = \\beta_0 + \\beta_1 \\times \\text{Log(Total Volume)} .$$\n",
    "\n",
    "\n",
    "Given that the observation is an organic avocado, $\\text{type_organic} = 1$ and the linear model becomes:\n",
    "$$\\text{Price} = \\beta_0+ \\beta_2 + \\beta_1 \\times \\text{Log(Total Volume)} .$$"
   ]
  },
  {
   "cell_type": "markdown",
   "metadata": {},
   "source": [
    "#### 9.C.3 Exercise: Model of Price vs organic type and log(Total Volume)\n",
    "\n",
    "Following the steps above, create a linear model as ```linearmodel``` with explanatory variables, ```\"Total Volume\",\"type_organic\"```. \n",
    "- Get the coefficients of the model \n",
    "- Compute $R^2$ value for the training set and the test set\n",
    "- Compute the training error\n",
    "- Compute the test error."
   ]
  },
  {
   "cell_type": "code",
   "execution_count": null,
   "metadata": {},
   "outputs": [],
   "source": [
    "explanatory_variables  = avocado_training_set_cleaned[['Total Volume',\"type_organic\"]]\n",
    "test_explanatory_variables_= avocado_test_set_cleaned[['Total Volume',\"type_organic\"]]\n",
    "\n",
    "from sklearn.linear_model import LinearRegression\n",
    "\n",
    "# enter solution here\n",
    "\n"
   ]
  },
  {
   "cell_type": "markdown",
   "metadata": {},
   "source": [
    "The model is then\n",
    "\n",
    "$$\\text{Price} = 1.7324 -0.04391 \\times \\text{Log(Total Volume)} + 0.3356 \\times \\text{type_organic}.$$\n",
    "\n",
    "The code below plot the linear model of the groups of avocados on the training set."
   ]
  },
  {
   "cell_type": "code",
   "execution_count": null,
   "metadata": {},
   "outputs": [],
   "source": [
    "predict_training_prices_ = linearmodel.predict(explanatory_variables)\n",
    "predict_test_prices_ = linearmodel.predict(test_explanatory_variables_)\n",
    "\n",
    "type_conventional = [typeo == 0 for typeo in avocado_training_set_cleaned['type_organic']]\n",
    "type_organic = avocado_training_set_cleaned['type_organic'].astype(bool)\n",
    "\n",
    "# get data for conventional avocado\n",
    "training_total_volume_conventional_ = avocado_training_set_cleaned.loc[type_conventional,\"Total Volume\"]\n",
    "training_price_conventional_ = prices_training_set[type_conventional]\n",
    "predict_training_prices_conventional_ = predict_training_prices_[type_conventional]\n",
    "\n",
    "# initialize for plot\n",
    "plt.figure(figsize=(15,5))\n",
    "\n",
    "# scatter plot of the volume for conventional avocado\n",
    "plt.scatter(training_total_volume_conventional_, training_price_conventional_ ,\n",
    "            s=5,alpha=0.3,color='r')\n",
    "# plot of linear model for conventional avocado\n",
    "plt.plot(training_total_volume_conventional_, predict_training_prices_conventional_,c='r')\n",
    "\n",
    "# get data for organic avocado\n",
    "training_total_volume_organic_ = avocado_training_set_cleaned.loc[type_organic,\"Total Volume\"]\n",
    "training_price_organic_ = prices_training_set[type_organic]\n",
    "predict_training_prices_organic_ = predict_training_prices_[type_organic]\n",
    "\n",
    "#scatter plot of price vs. total volume in the training set for organic avocado\n",
    "plt.scatter(training_total_volume_organic_, training_price_organic_,\n",
    "            s=5,alpha=0.3,color='b')\n",
    "# plot of linear model for organic avocado\n",
    "plt.plot(training_total_volume_organic_, predict_training_prices_organic_,c='b')\n",
    "plt.legend(['2.0557−0.0697×Log(Total Volume)','2.2896 - 0.0697×Log(Total Volume)',\n",
    "            'conventional avocado', 'organic avocado'])\n",
    "plt.xlabel('log(Total Volume)')\n",
    "plt.ylabel('Price')\n",
    "plt.show()"
   ]
  },
  {
   "cell_type": "markdown",
   "metadata": {},
   "source": [
    "The code below plot the linear model of the groups of avocados on the test set."
   ]
  },
  {
   "cell_type": "code",
   "execution_count": null,
   "metadata": {
    "scrolled": true
   },
   "outputs": [],
   "source": [
    "predict_test_prices_ = linearmodel.predict(test_explanatory_variables_)\n",
    "\n",
    "type_conventional = [typeo == 0 for typeo in avocado_test_set_cleaned['type_organic']]\n",
    "type_organic = avocado_test_set_cleaned['type_organic'].astype(bool)\n",
    "\n",
    "# get data for conventional avocado\n",
    "test_total_volume_conventional_ = avocado_test_set_cleaned.loc[type_conventional,\"Total Volume\"]\n",
    "test_price_conventional_ = prices_test_set[type_conventional]\n",
    "predict_test_prices_conventional_ = predict_test_prices_[type_conventional]\n",
    "\n",
    "# initialize for plot\n",
    "plt.figure(figsize=(15,5))\n",
    "\n",
    "# scatter plot of the volume for conventional avocado\n",
    "plt.scatter(test_total_volume_conventional_, test_price_conventional_ ,\n",
    "            s=5,alpha=0.3,color='r')\n",
    "# plot of linear model for conventional avocado\n",
    "plt.plot(test_total_volume_conventional_, predict_test_prices_conventional_,c='r')\n",
    "\n",
    "# get data for organic avocado\n",
    "test_total_volume_organic_ = avocado_test_set_cleaned.loc[type_organic,\"Total Volume\"]\n",
    "test_price_organic_ = prices_test_set[type_organic]\n",
    "predict_test_prices_organic_ = predict_test_prices_[type_organic]\n",
    "\n",
    "#scatter plot of price vs. total volume in the test set for organic avocado\n",
    "plt.scatter(test_total_volume_organic_, test_price_organic_,\n",
    "            s=5,alpha=0.3,color='b')\n",
    "# plot of linear model for organic avocado\n",
    "plt.plot(test_total_volume_organic_, predict_test_prices_organic_,c='b')\n",
    "plt.legend(['2.0557−0.0697×Log(Total Volume)','2.2896 - 0.0697×Log(Total Volume)',\n",
    "            'conventional avocado', 'organic avocado'])\n",
    "plt.xlabel('log(Total Volume)')\n",
    "plt.ylabel('Price')\n",
    "plt.show()"
   ]
  },
  {
   "cell_type": "markdown",
   "metadata": {},
   "source": [
    "### 9.D Constructing Linear Model with the categorical variable, ```Year```.\n",
    "\n",
    "In this section, we are building a linear model with the variables ```Total Volume``` and ```year```.\n",
    "\n",
    "#### 9.C.1 Hot one encoding\n",
    "\n",
    "For ```Scikit-Learn``` to interpret categorical varaibles again, we have encode them into binary. \n",
    "\n",
    "For the explanatory variable, ```year```,  we have four categories."
   ]
  },
  {
   "cell_type": "code",
   "execution_count": null,
   "metadata": {},
   "outputs": [],
   "source": [
    "# print avocado_training_set['year'].unique()\n",
    "\n"
   ]
  },
  {
   "cell_type": "markdown",
   "metadata": {},
   "source": [
    "How to we hot one-encode if we have four categories? Answer: similar to above!\n",
    "\n",
    "We build a model with additional variables, ```year_2016```, ```year_2017``` and ```year_2018```. The model is then,\n",
    "\n",
    "$$\\text{Price} = \\beta_0 + \\beta_1 \\times \\text{Log(Total Volume)} + \\beta_2\\times \\text{year_2016} + \\beta_3\\times\\text{year_2017} + \\beta_4\\times\\text{year_2018},$$\n",
    "where \n",
    "  $$\\text{year_2016} = \\begin{cases} 0 & \\text{if not 2016}\\\\1 & \\text{if 2016}  \\end{cases}$$\n",
    "  $$\\text{year_2017} = \\begin{cases} 0 & \\text{if not 2017}\\\\1 & \\text{if 2017}  \\end{cases}$$\n",
    "  $$\\text{year_2018} = \\begin{cases} 0 & \\text{if not 2018}\\\\1 & \\text{if 2018}  \\end{cases}.$$\n",
    "\n",
    "You must be wondering. What about 2015?! \n",
    "\n",
    "2015 is already accounted for. This is our \"base\" model. \n",
    "\n",
    "If $\\text{year}$ = 2015, then the model is \n",
    "$$\\text{Price} = \\beta_0 + \\beta_1 \\times \\text{Log(Total Volume)}.$$\n",
    "\n",
    "If $\\text{year}$ = 2016, then the model is \n",
    "$$\\text{Price} = \\beta_0 + \\beta_2 + \\beta_1 \\times \\text{Log(Total Volume)}.$$\n",
    "\n",
    "If $\\text{year}$ = 2017, then the model is \n",
    "$$\\text{Price} = \\beta_0 + \\beta_3 + \\beta_1 \\times \\text{Log(Total Volume)}.$$\n",
    "\n",
    "If $\\text{year}$ = 2018, then the model is \n",
    "$$\\text{Price} = \\beta_0 + \\beta_4 + \\beta_1 \\times \\text{Log(Total Volume)}.$$\n",
    "\n",
    "If we were to add a column for 2015, Scikit-learn may have issues learn a linear model from data. An additional column for 2015 can create a singular data matrix for our model."
   ]
  },
  {
   "cell_type": "code",
   "execution_count": null,
   "metadata": {},
   "outputs": [],
   "source": [
    "# split categories using  pd.get_dummies(data=avocado_training_set['year'], drop_first=True)\n",
    "# store in avocado_year_split_\n",
    "\n",
    "\n",
    "\n",
    "# print head\n",
    "\n"
   ]
  },
  {
   "cell_type": "code",
   "execution_count": null,
   "metadata": {},
   "outputs": [],
   "source": [
    "# merge data frames pd.concat([avocado_training_set,avocado_year_split_],axis=1, sort=False)\n",
    "# store in avocado_training_set_cleaned\n",
    "\n",
    "\n",
    "\n",
    "# print head of avocado_training_set_cleaned\n",
    "\n"
   ]
  },
  {
   "cell_type": "code",
   "execution_count": null,
   "metadata": {},
   "outputs": [],
   "source": [
    "#current columns, avocado_training_set_cleaned.columns\n"
   ]
  },
  {
   "cell_type": "code",
   "execution_count": null,
   "metadata": {},
   "outputs": [],
   "source": [
    "# rename columns\n",
    "avocado_training_set_cleaned.rename(columns={'2016':'year_2016','2017':'year_2017','2018':'year_2018'},inplace=True)"
   ]
  },
  {
   "cell_type": "code",
   "execution_count": null,
   "metadata": {},
   "outputs": [],
   "source": [
    "#new columns, avocado_training_set_cleaned.columns\n",
    "\n"
   ]
  },
  {
   "cell_type": "markdown",
   "metadata": {},
   "source": [
    "Doing the same with the test data,"
   ]
  },
  {
   "cell_type": "code",
   "execution_count": null,
   "metadata": {},
   "outputs": [],
   "source": [
    "# split categories\n",
    "avocado_year_split_ = pd.get_dummies(data=avocado_test_set['year'], drop_first=True)\n",
    "\n",
    "# merge data frames\n",
    "avocado_test_set_cleaned = pd.concat([avocado_test_set,avocado_year_split_],\n",
    "                                        axis=1, sort=False)\n",
    "\n",
    "# rename columns \n",
    "avocado_test_set_cleaned.rename(columns={'2016':'year_2016','2017':'year_2017','2018':'year_2018'},inplace=True)"
   ]
  },
  {
   "cell_type": "code",
   "execution_count": null,
   "metadata": {},
   "outputs": [],
   "source": [
    "avocado_test_set_cleaned.columns"
   ]
  },
  {
   "cell_type": "markdown",
   "metadata": {},
   "source": [
    "#### 9.C.3 Exercise: Model of Price vs year and log(Total Volume)\n",
    "\n",
    "Following the steps above, create a linear model as ```linearmodel``` and with explanatory variables, ```\"Total Volume\",\"year_2016\",\"year_2017\",\"year_2018\"```. \n",
    "\n",
    "- Get the coefficients of the model \n",
    "- Compute $R^2$ value for the training set\n",
    "\n",
    "Run the code below to plot the data and curves."
   ]
  },
  {
   "cell_type": "code",
   "execution_count": null,
   "metadata": {},
   "outputs": [],
   "source": [
    "explanatory_variables  = avocado_training_set_cleaned[[\"Total Volume\",\"year_2016\",\"year_2017\",\"year_2018\"]]\n",
    "\n",
    "# enter solution here\n",
    "\n"
   ]
  },
  {
   "cell_type": "markdown",
   "metadata": {},
   "source": [
    "The model is then, \n",
    "\n",
    "$$\\text{Price} = 2.5260 -0.1040 \\times \\text{Log(Total Volume)}-0.0106 \\times \\text{year_2016} + 0.1767\\times\\text{year_2017}+ 0.04261\\times\\text{year_2018}.$$\n"
   ]
  },
  {
   "cell_type": "markdown",
   "metadata": {},
   "source": [
    "This code below creates a scatter plot of the training set and plot of the linear model applied to the training set."
   ]
  },
  {
   "cell_type": "code",
   "execution_count": null,
   "metadata": {},
   "outputs": [],
   "source": [
    "# predicted variables\n",
    "predict_training_prices_ = linearmodel.predict(explanatory_variables)\n",
    "\n",
    "# create index of variables that are 2016, 2016, 2017, 2018\n",
    "year_2016 = avocado_training_set_cleaned['year_2016'].astype(bool)\n",
    "year_2017 = avocado_training_set_cleaned['year_2017'].astype(bool)\n",
    "year_2018 = avocado_training_set_cleaned['year_2018'].astype(bool)\n",
    "year_2015 = (year_2016 == False)&(year_2017 == False)&(year_2018 == False)"
   ]
  },
  {
   "cell_type": "code",
   "execution_count": null,
   "metadata": {},
   "outputs": [],
   "source": [
    "# initialize for plot\n",
    "plt.figure(figsize=(15,5))\n",
    "#initialize plot parameters\n",
    "list_years = [year_2015,year_2016,year_2017,year_2018]\n",
    "years = [\"2015\",\"2016\",\"2017\",\"2018\"]\n",
    "colors = ['r','b','g','k']\n",
    "legend_name_scatter = []\n",
    "legend_name_line = []\n",
    "for i in range(4):\n",
    "    indices = list_years[i]\n",
    "    # get data\n",
    "    training_total_volume_year_ = avocado_training_set_cleaned.loc[indices,\"Total Volume\"]\n",
    "    training_price_year_ = prices_training_set[indices]\n",
    "    predicted_training_prices_year = predict_training_prices_[indices]\n",
    "\n",
    "\n",
    "    # scatter plot of the volume \n",
    "    plt.scatter(training_total_volume_year_, training_price_year_ , s=5,\n",
    "                alpha=0.3,color=colors[i])\n",
    "    # plot of linear model \n",
    "    plt.plot(training_total_volume_year_, predicted_training_prices_year,c=colors[i])\n",
    "    legend_name_scatter.extend(['data for ' + years[i]])\n",
    "    legend_name_line.extend(['predicted model for ' + years[i]])\n",
    "legend_name_line.extend(legend_name_scatter)\n",
    "plt.xlabel('log(Total Volume)')\n",
    "plt.ylabel('Price')\n",
    "plt.legend(legend_name_line)\n",
    "plt.show()"
   ]
  },
  {
   "cell_type": "markdown",
   "metadata": {},
   "source": [
    "This code below creates a scatter plot of the test set and plot of the linear model applied to the test set."
   ]
  },
  {
   "cell_type": "code",
   "execution_count": null,
   "metadata": {},
   "outputs": [],
   "source": [
    "# predicted variables\n",
    "test_explanatory_variables  = avocado_test_set_cleaned[['Total Volume',\"year_2016\",\"year_2017\",\"year_2018\"]]\n",
    "predict_test_prices_ = linearmodel.predict(test_explanatory_variables)\n",
    "\n",
    "# create index of variables that are 2016, 2016, 2017, 2018\n",
    "year_2016 = avocado_test_set_cleaned['year_2016'].astype(bool)\n",
    "year_2017 = avocado_test_set_cleaned['year_2017'].astype(bool)\n",
    "year_2018 = avocado_test_set_cleaned['year_2018'].astype(bool)\n",
    "year_2015 = (year_2016 == False)&(year_2017 == False)&(year_2018 == False)"
   ]
  },
  {
   "cell_type": "code",
   "execution_count": null,
   "metadata": {},
   "outputs": [],
   "source": [
    "# initialize for plot\n",
    "plt.figure(figsize=(15,5))\n",
    "#initialize plot parameters\n",
    "list_years = [year_2015,year_2016,year_2017,year_2018]\n",
    "years = [\"2015\",\"2016\",\"2017\",\"2018\"]\n",
    "colors = ['r','b','g','k']\n",
    "legend_name_scatter = []\n",
    "legend_name_line = []\n",
    "for i in range(4):\n",
    "    indices = list_years[i]\n",
    "    # get data\n",
    "    test_total_volume_year_ = avocado_test_set_cleaned.loc[indices,\"Total Volume\"]\n",
    "    test_price_year_ = prices_test_set[indices]\n",
    "    predicted_test_prices_year = predict_test_prices_[indices]\n",
    "\n",
    "\n",
    "    # scatter plot of the volume \n",
    "    plt.scatter(test_total_volume_year_, test_price_year_ , s=5,\n",
    "                alpha=0.3,color=colors[i])\n",
    "    # plot of linear model \n",
    "    plt.plot(test_total_volume_year_, predicted_test_prices_year,c=colors[i])\n",
    "    legend_name_scatter.extend(['data for ' + years[i]])\n",
    "    legend_name_line.extend(['predicted model for ' + years[i]])\n",
    "legend_name_line.extend(legend_name_scatter)\n",
    "plt.xlabel('log(Total Volume)')\n",
    "plt.ylabel('Price')\n",
    "plt.legend(legend_name_line)\n",
    "plt.show()"
   ]
  }
 ],
 "metadata": {
  "kernelspec": {
   "display_name": "Python 3",
   "language": "python",
   "name": "python3"
  },
  "language_info": {
   "codemirror_mode": {
    "name": "ipython",
    "version": 3
   },
   "file_extension": ".py",
   "mimetype": "text/x-python",
   "name": "python",
   "nbconvert_exporter": "python",
   "pygments_lexer": "ipython3",
   "version": "3.7.6"
  }
 },
 "nbformat": 4,
 "nbformat_minor": 2
}
