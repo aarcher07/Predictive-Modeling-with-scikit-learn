{
 "cells": [
  {
   "cell_type": "markdown",
   "metadata": {},
   "source": [
    "# 0. Review\n",
    "## 0.A Scikit-Learn\n",
    "\n",
    "Scikit-Learn is a machine learning python package. It allows users to access machine learning algorithms via **object-oriented programming**.\n",
    "\n",
    "## 0.B Data Set\n",
    "\n",
    "I will be using a dataset of antibiotic resistance in bacteria strains. \n",
    "\n",
    "- Each bacteria is labeled with its resistance to the antibiotic, azithromycin.\n",
    "- Additionally, each bacteria sample is labelled if its genome contains certain strands of DNA.\n",
    "\n",
    "We would like to learn antibotic resistance from the bacterial genome.\n",
    "\n",
    "- Our predictors are whether strands of DNA are present.\n",
    "- Our response are resistance classes.\n",
    "\n",
    "## 0.C Data Preprocessing\n",
    "\n",
    "We did a bit of data preprocessing: \n",
    "\n",
    "- encoded the resistance feature as 0 - \"resistant,\" 1 - \"susceptible\".\n",
    "- encoded all features of the DNA strands as, 0 - \"if its genome does not contain the strand of DNA\", 1 - \"if its genome contains the strand of DNA.\"\n",
    "- did a 70:30 training-test split\n",
    "\n",
    "## 0.D Load Data\n",
    "Now, we load our training and test set. Run the code below to load \n",
    "\n",
    "- the dataset, ```labels_training_set```, containing antibotic resistance phentype for each bacteria in the training split\n",
    "- and dataset, ```DNA_training_set```, containing the genome of each bacteria in the training split."
   ]
  },
  {
   "cell_type": "code",
   "execution_count": null,
   "metadata": {},
   "outputs": [],
   "source": [
    "import pandas as pd\n",
    "labels_training_set = pd.read_csv('datasets/labels_training_set',index_col=0)\n",
    "DNA_training_set = pd.read_csv('datasets/DNA_training_set',index_col=0)"
   ]
  },
  {
   "cell_type": "markdown",
   "metadata": {},
   "source": [
    "**In this section, we will be learning a classifier from our training data. Using the bacteria's genome, this classifier will determine whether a bacteria is resistant or susceptible to a particular antibiotic.**"
   ]
  },
  {
   "cell_type": "markdown",
   "metadata": {},
   "source": [
    "# 2. Train model: Naive Bayes\n",
    "\n",
    "2. Then, train a **machine learning model** using **labeled data**\n",
    "\n",
    "    - \"Labeled data\" has been labeled with the outcome\n",
    "    - \"Machine learning model\" learns the relationship between the attributes of the data and its outcome\n",
    "\n",
    "Naive Bayes (NB) computes the probability that an observation falls into any class based on the observation's features. \n",
    "\n",
    "In our case, Naive Bayes computes the probability that a bacterium is susceptible or resistant to azithromycin given segments of the bacterium's genome.\n",
    "\n",
    "Naive Bayes assumes that a feature is independent of any other feature. In our case, segments of the genome do not interact and affect a bacterium's resistance.\n",
    "\n",
    "    \n",
    "## 2.A Check Training Set"
   ]
  },
  {
   "cell_type": "markdown",
   "metadata": {},
   "source": [
    "Let's check if we loaded the correct dataset."
   ]
  },
  {
   "cell_type": "code",
   "execution_count": null,
   "metadata": {},
   "outputs": [],
   "source": [
    "#print head of labels_training_set\n",
    "labels_training_set.head()"
   ]
  },
  {
   "cell_type": "code",
   "execution_count": null,
   "metadata": {},
   "outputs": [],
   "source": [
    "#print head of  DNA_training_set\n",
    "\n",
    "DNA_training_set.head()"
   ]
  },
  {
   "cell_type": "markdown",
   "metadata": {},
   "source": [
    "## 2.B Build Model: Gaussian Naive Bayes"
   ]
  },
  {
   "cell_type": "markdown",
   "metadata": {},
   "source": [
    "### 2.B.1 What is Gaussian Naive Bayes?"
   ]
  },
  {
   "cell_type": "markdown",
   "metadata": {},
   "source": [
    "First, we will be considering a variant of Naive Bayes called Gaussian Naive Bayes. It is variant meaning that Gaussian Naive Bayes computes the probability that a bacteria is susceptible or resistant based on its genome and assumes that presence of a feature does not affect presences of another feature. \n",
    "\n",
    "Gaussian Naive Bayes makes an additional assumption about how the features determine whether a bacteria is susceptible or resistant. Gaussian Naive Bayes assumes the probability that a feature is 1 or 0 is Gaussian. **The probability that a feature is 1 or 0 is used to calculate the bacteria is susceptible or resistant.**\n",
    "\n",
    "Gaussian distribution is identified by its mean and variance. Therefore, Gaussian Naive Bayes calculates the mean and variance of a feature for each class."
   ]
  },
  {
   "cell_type": "markdown",
   "metadata": {},
   "source": [
    "### 2.B.2 Diagram of Gaussian Naive Bayes\n",
    "\n",
    "**First, Gaussian Naive Bayes divides the training data into its categories.**\n",
    "\n",
    "<img src=\"images/02_gNB_01.png\" alt=\"Drawing\" style=\"width: 600px;\"/>"
   ]
  },
  {
   "cell_type": "markdown",
   "metadata": {},
   "source": [
    "**From each feature in the susceptible category, the classifier learns a mean and variance.**\n",
    "<img src=\"images/02_gNB_02.png\" alt=\"Drawing\" style=\"width: 600px;\"/>"
   ]
  },
  {
   "cell_type": "markdown",
   "metadata": {},
   "source": [
    "**From each feature in the susceptible category, the classifier learns a mean and variance.**\n",
    "<img src=\"images/02_gNB_05.png\" alt=\"Drawing\" style=\"width: 600px;\"/>\n",
    "\n",
    "**Again, the probability that a feature is 1 or 0 is used to calculate the probability that the bacteria is susceptible or resistant.**"
   ]
  },
  {
   "cell_type": "markdown",
   "metadata": {},
   "source": [
    "### 2.B.3 Implementation of Gaussian Naive Bayes"
   ]
  },
  {
   "cell_type": "code",
   "execution_count": null,
   "metadata": {
    "pycharm": {
     "is_executing": false
    }
   },
   "outputs": [],
   "source": [
    "#import naive bayes\n",
    "\n",
    "from sklearn.naive_bayes import GaussianNB\n",
    "\n",
    "#instantiate a Naive Bayes classifier \n",
    "gNB = GaussianNB()\n",
    "\n",
    "#fit classifier\n",
    "\n",
    "gNB.fit(DNA_training_set, labels_training_set.values.ravel())"
   ]
  },
  {
   "cell_type": "markdown",
   "metadata": {},
   "source": [
    "We can grab the mean, ```theta_```, of each feature per class."
   ]
  },
  {
   "cell_type": "code",
   "execution_count": null,
   "metadata": {},
   "outputs": [],
   "source": [
    "#mean of each feature per class\n",
    "gNB.theta_\n",
    "\n",
    "#first row is the mean feature value if bacteria is susceptible\n",
    "#second row is the mean feature value if the bacteria is resistant"
   ]
  },
  {
   "cell_type": "markdown",
   "metadata": {},
   "source": [
    "Let's visualize using a Pandas DataFrame. "
   ]
  },
  {
   "cell_type": "code",
   "execution_count": null,
   "metadata": {},
   "outputs": [],
   "source": [
    "pd.DataFrame(gNB.theta_, \n",
    "             columns=DNA_training_set.columns,\n",
    "             index=['Resistant', 'Susceptible'])"
   ]
  },
  {
   "cell_type": "markdown",
   "metadata": {},
   "source": [
    "### Exercise 2.B.3: Retrieving the learned variances\n",
    "\n",
    "The variance of each feature is stored in the ```sigma_``` attribute in the ```GaussianNB()``` object. To get the variance of each feature per class, use the command: ```gNB.sigma_```. \n",
    "\n",
    "Now editing the code,```pd.DataFrame(gNB.theta_, columns=DNA_training_set.columns,index=['Resistant', 'Susceptible'])```, print the variance of each feature per class."
   ]
  },
  {
   "cell_type": "code",
   "execution_count": null,
   "metadata": {
    "pycharm": {
     "is_executing": false
    }
   },
   "outputs": [],
   "source": [
    "# enter solution here\n",
    "pd.DataFrame(gNB.sigma_, columns=DNA_training_set.columns,index=['Resistant', 'Susceptible'])"
   ]
  },
  {
   "cell_type": "code",
   "execution_count": null,
   "metadata": {},
   "outputs": [],
   "source": []
  }
 ],
 "metadata": {
  "kernelspec": {
   "display_name": "Python 3",
   "language": "python",
   "name": "python3"
  },
  "language_info": {
   "codemirror_mode": {
    "name": "ipython",
    "version": 3
   },
   "file_extension": ".py",
   "mimetype": "text/x-python",
   "name": "python",
   "nbconvert_exporter": "python",
   "pygments_lexer": "ipython3",
   "version": "3.7.3"
  }
 },
 "nbformat": 4,
 "nbformat_minor": 2
}
