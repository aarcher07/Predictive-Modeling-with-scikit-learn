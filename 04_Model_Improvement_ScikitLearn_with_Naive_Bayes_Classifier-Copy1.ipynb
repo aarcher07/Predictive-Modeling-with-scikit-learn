{
 "cells": [
  {
   "cell_type": "markdown",
   "metadata": {},
   "source": [
    "# 0. Review \n",
    "\n",
    "## 0.A Scikit-Learn\n",
    "\n",
    "Scikit-Learn is a machine learning python package. It allows users access machine learning algorithms via **object-oriented programming**.\n",
    "\n",
    "## 0.B Data Set\n",
    "\n",
    "I will be using a dataset of antibotic resistance in bacteria strains. \n",
    "\n",
    "- Each bacteria is labelled for their antibotic resistance to the antibotic, azithromycin.\n",
    "\n",
    "- Additionally, each bacteria sample is labelled if its genome contains certain strands of DNA.\n",
    "\n",
    "We would like to learn antibotic resistance from the bacterial genome.\n",
    "\n",
    "\n",
    "## 0.C Data Processing\n",
    "\n",
    "We did a bit of data preprocessing: \n",
    "-  encoded the resistance feature as 1 - \"suspectible\", 0 - \"resistant.\"\n",
    "\n",
    "- encoded all features of DNA strands as 1 - \"if it's genome contains the strand of DNA\", 0 - \"if it's genome does not contain the strand of DNA\"\n",
    "\n",
    "## 0.D Trained Model: Gaussian Naive Bayes\n",
    "\n",
    "We used a Gaussian Naive Bayes algorithm to learn classifier of antibotic resistance in a bacteria. I run the code to create the model again."
   ]
  },
  {
   "cell_type": "code",
   "execution_count": null,
   "metadata": {},
   "outputs": [],
   "source": [
    "import pandas as pd\n",
    "\n",
    "#load training data\n",
    "Y_training_set = pd.read_csv('datasets/Y_training_set')\n",
    "training_set = pd.read_csv('datasets/training_set')\n",
    "\n",
    "#import naive bayes\n",
    "\n",
    "from sklearn.naive_bayes import GaussianNB\n",
    "\n",
    "#instantiate a Naive Bayes classifier \n",
    "gNB = GaussianNB()\n",
    "\n",
    "#learn classifier from data \n",
    "gNB.fit(training_set,Y_training_set.values.ravel())"
   ]
  },
  {
   "cell_type": "markdown",
   "metadata": {},
   "source": [
    "## 0.D Model Evaluation: Guassian Naive Bayes\n",
    "\n",
    "We then evaluated the Guassian Naive Bayes classifier on the testing data and found that the model has accuracy of $88\\%$. \n",
    "\n",
    "**In this section, we will be exploring ways of improving model accuracy and comparing classifiers**"
   ]
  },
  {
   "cell_type": "markdown",
   "metadata": {},
   "source": [
    "# 4. Model Improvement: Bernoulli Naive Bayes"
   ]
  },
  {
   "cell_type": "code",
   "execution_count": 86,
   "metadata": {},
   "outputs": [
    {
     "data": {
      "text/plain": [
       "BernoulliNB(alpha=1.0, binarize=0.0, class_prior=None, fit_prior=True)"
      ]
     },
     "execution_count": 86,
     "metadata": {},
     "output_type": "execute_result"
    }
   ],
   "source": [
    "from sklearn.naive_bayes import BernoulliNB\n",
    "\n",
    "#instantiate a Naive Bayes classifier \n",
    "bNB = BernoulliNB()\n",
    "\n",
    "bNB.fit(training_set,Y_training_set.values.ravel())"
   ]
  },
  {
   "cell_type": "code",
   "execution_count": 87,
   "metadata": {},
   "outputs": [
    {
     "data": {
      "text/plain": [
       "array([-0.60249281, -0.79284654])"
      ]
     },
     "execution_count": 87,
     "metadata": {},
     "output_type": "execute_result"
    }
   ],
   "source": [
    "bNB.class_log_prior_"
   ]
  },
  {
   "cell_type": "code",
   "execution_count": 111,
   "metadata": {},
   "outputs": [
    {
     "data": {
      "text/plain": [
       "array([0, 1])"
      ]
     },
     "execution_count": 111,
     "metadata": {},
     "output_type": "execute_result"
    }
   ],
   "source": [
    "bNB.classes_"
   ]
  },
  {
   "cell_type": "code",
   "execution_count": 88,
   "metadata": {},
   "outputs": [
    {
     "data": {
      "text/plain": [
       "array([[-5.02388052, -5.02388052, -5.02388052, ..., -4.33073334,\n",
       "        -4.33073334, -4.33073334],\n",
       "       [-3.44998755, -3.44998755, -3.44998755, ..., -4.83628191,\n",
       "        -4.83628191, -4.83628191]])"
      ]
     },
     "execution_count": 88,
     "metadata": {},
     "output_type": "execute_result"
    }
   ],
   "source": [
    "bNB.feature_log_prob_"
   ]
  },
  {
   "cell_type": "code",
   "execution_count": 89,
   "metadata": {},
   "outputs": [
    {
     "data": {
      "text/plain": [
       "array([[0., 0., 0., ..., 1., 1., 1.],\n",
       "       [3., 3., 3., ..., 0., 0., 0.]])"
      ]
     },
     "execution_count": 89,
     "metadata": {},
     "output_type": "execute_result"
    }
   ],
   "source": [
    "bNB.feature_count_"
   ]
  },
  {
   "cell_type": "code",
   "execution_count": 90,
   "metadata": {},
   "outputs": [
    {
     "data": {
      "text/plain": [
       "0.9152542372881356"
      ]
     },
     "execution_count": 90,
     "metadata": {},
     "output_type": "execute_result"
    }
   ],
   "source": [
    "bNB.score(test_set,Y_test_set)"
   ]
  },
  {
   "cell_type": "code",
   "execution_count": 110,
   "metadata": {},
   "outputs": [
    {
     "data": {
      "image/png": "[encoded data removed]",
      "text/plain": [
       "<Figure size 432x288 with 1 Axes>"
      ]
     },
     "metadata": {
      "needs_background": "light"
     },
     "output_type": "display_data"
    }
   ],
   "source": [
    "from sklearn.metrics import roc_curve\n",
    "fpr_bNB, tpr_bNB, _ = roc_curve(Y_test_set, bNB.predict_proba(test_set)[:,1])\n",
    "fpr_gNB, tpr_gNB, _ = roc_curve(Y_test_set, gNB.predict_proba(test_set)[:,1])\n",
    "\n",
    "import matplotlib.pyplot as plt\n",
    "plt.figure()\n",
    "lw = 2\n",
    "plt.plot(fpr_bNB, tpr_bNB)\n",
    "plt.plot(fpr_gNB, tpr_gNB)\n",
    "plt.plot([0, 1], [0, 1], color='navy', lw=lw, linestyle='--')\n",
    "plt.show()"
   ]
  },
  {
   "cell_type": "markdown",
   "metadata": {},
   "source": [
    "# Possible Improvements\n",
    "\n",
    "- Allow for interactions: \n",
    "\n",
    "Logistic regression, linear discriminant analysis (LDA) and quadratic discriminant analysis (QDA). However, LDA and QDA assume that probability that a feature takes on a given value is Gaussian. Logistic regression does not make assumption of a probability distribution. However, you have to tell the logistic regression what interactions to consider. Doing logistic regression with all interactions terms and some penalty, like LASSO, might be suitable.\n",
    "\n",
    "- Parametric methods might be unsuitable:\n",
    "\n",
    "Tree based methods or KNN might be suitable for handling such a complex problem."
   ]
  },
  {
   "cell_type": "code",
   "execution_count": null,
   "metadata": {},
   "outputs": [],
   "source": []
  }
 ],
 "metadata": {
  "kernelspec": {
   "display_name": "Python 3",
   "language": "python",
   "name": "python3"
  },
  "language_info": {
   "codemirror_mode": {
    "name": "ipython",
    "version": 3
   },
   "file_extension": ".py",
   "mimetype": "text/x-python",
   "name": "python",
   "nbconvert_exporter": "python",
   "pygments_lexer": "ipython3",
   "version": "3.7.3"
  }
 },
 "nbformat": 4,
 "nbformat_minor": 2
}
