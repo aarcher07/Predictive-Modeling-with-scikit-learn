{
 "cells": [
  {
   "cell_type": "markdown",
   "metadata": {
    "collapsed": true,
    "pycharm": {
     "is_executing": false
    }
   },
   "source": [
    "# Machine Learning"
   ]
  },
  {
   "cell_type": "markdown",
   "metadata": {},
   "source": [
    "## Agenda "
   ]
  },
  {
   "cell_type": "markdown",
   "metadata": {},
   "source": [
    "- What is machine learning?\n",
    "- How does it work?"
   ]
  },
  {
   "cell_type": "markdown",
   "metadata": {},
   "source": [
    "## Machine learning"
   ]
  },
  {
   "cell_type": "markdown",
   "metadata": {},
   "source": [
    "So that we are all on the same page, I will define all terms I will be using. I will be repeating these definitions throughout the presentation.\n",
    "\n",
    "One ML definition: \"Machine learning is the semi-automated extraction of knowledge from data\"\n",
    "\n",
    "- **Knowledge from data**: Starts with a question that might be answerable using data\n",
    "- **Automated extraction**: A computer provides the insight\n",
    "- **Semi-automated**: Requires many smart decisions by a human"
   ]
  },
  {
   "cell_type": "markdown",
   "metadata": {},
   "source": [
    "### Terms about data\n",
    "\n",
    "Consider the data set,\n",
    "\n",
    "\n",
    "\n",
    "| Observation | Weight | Height |\n",
    "| --- | --- | --- |\n",
    "|Person 1 |  150lbs  |  5'6\"  |\n",
    "|Person 2 |  120lbs  |  5'2\"  |\n",
    "|Person 3 |  134lbs  |  5'3\"  |\n",
    "|Person 4 |  203lbs  |  6'1\"  |\n",
    "|$\\vdots$ | $\\vdots$ |$\\vdots$|\n",
    "\n",
    "\n",
    "\n",
    "- **Sample** (observation, example, instance, record): a single unit with all attributes of the data.\n",
    "\n",
    "    In the data set above, the samples are each person. Person 1 is one sample, Person two is another sample, etc.\n",
    "\n",
    "\n",
    "- **Features**: attributes of a sample.\n",
    "\n",
    "    In the data set above, features are weight and height.\n",
    "\n",
    "\n",
    "- **Predictor** (independent variable, input, regressor, covariate): effect of the feature you would like to study.\n",
    "\n",
    "    If we would like to study effect of height on the weight, the predictor would be height.\n",
    "\n",
    "\n",
    "- **Response** (target, outcome, label, dependent variable): feature whose output you would like to study.\n",
    "\n",
    "    If we would like to study effect of height on the weight, the response would be weight.\n",
    "\n",
    "\n",
    "If each sample contains more than a single entry, that is a multi-dimensional entry, the data set is said to have several attributes or **features**."
   ]
  },
  {
   "cell_type": "markdown",
   "metadata": {},
   "source": [
    "### Learning problems\n",
    " \n",
    "Machine learning is used to solve learning problems. Given n **samples** of data, a learning problem attempts to predict unknown properties of the data.\n",
    "\n",
    "There are three types of learning problems:\n",
    "- Regression\n",
    "- Classification\n",
    "- Unsupervised Learning\n",
    "\n",
    "\n",
    "**Regression**\n",
    "\n",
    "A regression problem is a learning problem in which one studies the effect of a set of variables on another \n",
    "\n",
    "- Example: predicting the temperature based on the historical values\n",
    "- The response variable, the outcome value that we are trying to predict, is continuous\n",
    "\n",
    "![Weather Forecast](images/01_predicting_temp.png)\n",
    "\n",
    "**Classification**\n",
    "\n",
    "A classification problem is a learning problem used to predict categories from data\n",
    "    \n",
    "- Example: Determining spam from past emails and predicting whether future emails are \"spam\" or \"ham\" (non-spam)?\n",
    "- The response variable is a discrete variable, i.e. a \"class\" outcome\n",
    "\n",
    "![Spam filter](images/01_spam_filter.png)\n",
    "\n",
    "**Unsupervised learning**: Extracting structure from data (self-organized learning - find previously unknown patterns in data set without pre-existing labels)\n",
    "\n",
    "- Example: Segment student population into clusters that exhibit similar behaviors\n",
    "- There is no response variable\n",
    "- There is no \"right answer\"\n",
    "\n",
    "![Clustering](images/01_clustering.png)"
   ]
  },
  {
   "cell_type": "markdown",
   "metadata": {},
   "source": [
    "## How does Machine Learning work?\n",
    "\n",
    "High-level steps:\n",
    "\n",
    "1. First, preprocess the data - make sure that data is ready to enter the ML pipeline\n",
    "\n",
    "2. Then, train a **machine learning model** using **labeled data**\n",
    "\n",
    "    - \"Labeled data\" has been labeled with the outcome\n",
    "    \n",
    "    - \"Machine learning model\" learns the relationship between the attributes of the data and its outcome\n",
    "    \n",
    "\n",
    "3. Finally, make **predictions** on **new (unseen) data** for which the label is unknown\n",
    "\n",
    "![Supervised learning](images/01_supervised_learning.png)"
   ]
  }
 ],
 "metadata": {
  "kernelspec": {
   "display_name": "Python 3",
   "language": "python",
   "name": "python3"
  },
  "language_info": {
   "codemirror_mode": {
    "name": "ipython",
    "version": 3
   },
   "file_extension": ".py",
   "mimetype": "text/x-python",
   "name": "python",
   "nbconvert_exporter": "python",
   "pygments_lexer": "ipython3",
   "version": "3.7.6"
  }
 },
 "nbformat": 4,
 "nbformat_minor": 1
}
