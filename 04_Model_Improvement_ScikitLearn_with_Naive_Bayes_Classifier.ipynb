{
 "cells": [
  {
   "cell_type": "markdown",
   "metadata": {},
   "source": [
    "# 0. Review \n",
    "\n",
    "## 0.A Scikit-Learn\n",
    "\n",
    "Scikit-Learn is a machine learning python package. It allows users access machine learning algorithms via **object-oriented programming**.\n",
    "\n",
    "## 0.B Data Set\n",
    "\n",
    "I will be using a dataset of antibotic resistance in bacteria strains. \n",
    "\n",
    "- Each bacteria is labelled for their antibotic resistance to the antibotic, azithromycin.\n",
    "\n",
    "- Additionally, each bacteria sample is labelled if its genome contains certain strands of DNA.\n",
    "\n",
    "We would like to learn antibotic resistance from the bacterial genome.\n",
    "\n",
    "\n",
    "## 0.C Data Processing\n",
    "\n",
    "We did a bit of data preprocessing: \n",
    "-  encoded the resistance feature as 1 - \"suspectible\", 0 - \"resistant.\"\n",
    "\n",
    "- encoded all features of DNA strands as 1 - \"if it's genome contains the strand of DNA\", 0 - \"if it's genome does not contain the strand of DNA\"\n",
    "\n",
    "- did a 70:30 training-test split.\n",
    "\n",
    "## 0.D Trained Model: Gaussian Naive Bayes\n",
    "\n",
    "We used a Gaussian Naive Bayes algorithm to learn classifier of antibotic resistance in a bacteria. I run the code to create the model again."
   ]
  },
  {
   "cell_type": "code",
   "execution_count": 1,
   "metadata": {},
   "outputs": [],
   "source": [
    "import pandas as pd\n",
    "\n",
    "#load training data\n",
    "Y_training_set = pd.read_csv('datasets/Y_training_set')\n",
    "training_set = pd.read_csv('datasets/training_set')\n",
    "\n",
    "Y_test_set = pd.read_csv('datasets/Y_test_set')\n",
    "test_set = pd.read_csv('datasets/test_set')"
   ]
  },
  {
   "cell_type": "code",
   "execution_count": 2,
   "metadata": {},
   "outputs": [
    {
     "data": {
      "text/plain": [
       "GaussianNB(priors=None)"
      ]
     },
     "execution_count": 2,
     "metadata": {},
     "output_type": "execute_result"
    }
   ],
   "source": [
    "#import naive bayes\n",
    "\n",
    "from sklearn.naive_bayes import GaussianNB\n",
    "\n",
    "#instantiate a Naive Bayes classifier \n",
    "gNB = GaussianNB()\n",
    "\n",
    "#learn classifier from data \n",
    "gNB.fit(training_set,Y_training_set.values.ravel())"
   ]
  },
  {
   "cell_type": "markdown",
   "metadata": {},
   "source": [
    "## 0.D Model Evaluation: Guassian Naive Bayes\n",
    "\n",
    "We then evaluated the Guassian Naive Bayes classifier on the testing data and found that the model has accuracy of $88\\%$. \n",
    "\n",
    "**In this section, we will be exploring ways of improving model accuracy and comparing classifiers.**"
   ]
  },
  {
   "cell_type": "markdown",
   "metadata": {},
   "source": [
    "# 4. Model Improvement: Bernoulli Naive Bayes\n",
    "\n",
    "## 4.A Gaussian Naive Bayes is not correct\n",
    "\n",
    "Recall that Gaussian Naive Bayes assumes the probability that a feature is 1 or 0 is Gaussian. \n",
    "\n",
    "<img src=\"images/02_gNB_05.png\" alt=\"Drawing\" style=\"width: 600px;\"/>\n"
   ]
  },
  {
   "cell_type": "markdown",
   "metadata": {},
   "source": [
    "Since the value of a feature follows a Gaussian distribution, the feature is allowed to take on any numerical value! \n",
    "\n",
    "This is not right. Recall what our data looks like."
   ]
  },
  {
   "cell_type": "code",
   "execution_count": 3,
   "metadata": {
    "pycharm": {
     "is_executing": false
    }
   },
   "outputs": [
    {
     "data": {
      "text/html": [
       "<div>\n",
       "<style scoped>\n",
       "    .dataframe tbody tr th:only-of-type {\n",
       "        vertical-align: middle;\n",
       "    }\n",
       "\n",
       "    .dataframe tbody tr th {\n",
       "        vertical-align: top;\n",
       "    }\n",
       "\n",
       "    .dataframe thead th {\n",
       "        text-align: right;\n",
       "    }\n",
       "</style>\n",
       "<table border=\"1\" class=\"dataframe\">\n",
       "  <thead>\n",
       "    <tr style=\"text-align: right;\">\n",
       "      <th></th>\n",
       "      <th>tggagcgccgggcggatcggttccgtactat</th>\n",
       "      <th>ggagcgccgggcggatcggttccgtactatc</th>\n",
       "      <th>gagcgccgggcggatcggttccgtactatcc</th>\n",
       "      <th>agcgccgggcggatcggttccgtactatccg</th>\n",
       "      <th>gcgccgggcggatcggttccgtactatccgt</th>\n",
       "      <th>cgccgggcggatcggttccgtactatccgta</th>\n",
       "      <th>gccgggcggatcggttccgtactatccgtac</th>\n",
       "      <th>ccgggcggatcggttccgtactatccgtact</th>\n",
       "      <th>cgggcggatcggttccgtactatccgtactg</th>\n",
       "      <th>gggcggatcggttccgtactatccgtactgc</th>\n",
       "      <th>...</th>\n",
       "      <th>cttttggtctttcctgttaggtggaacgtta</th>\n",
       "      <th>ttttggtctttcctgttaggtggaacgttac</th>\n",
       "      <th>tttggtctttcctgttaggtggaacgttacc</th>\n",
       "      <th>ttggtctttcctgttaggtggaacgttacct</th>\n",
       "      <th>tggtctttcctgttaggtggaacgttaccta</th>\n",
       "      <th>ggtctttcctgttaggtggaacgttacctac</th>\n",
       "      <th>gtctttcctgttaggtggaacgttacctact</th>\n",
       "      <th>tctttcctgttaggtggaacgttacctactt</th>\n",
       "      <th>ctttcctgttaggtggaacgttacctacttc</th>\n",
       "      <th>tttcctgttaggtggaacgttacctacttct</th>\n",
       "    </tr>\n",
       "  </thead>\n",
       "  <tbody>\n",
       "    <tr>\n",
       "      <th>0</th>\n",
       "      <td>1</td>\n",
       "      <td>1</td>\n",
       "      <td>1</td>\n",
       "      <td>1</td>\n",
       "      <td>1</td>\n",
       "      <td>1</td>\n",
       "      <td>1</td>\n",
       "      <td>1</td>\n",
       "      <td>1</td>\n",
       "      <td>1</td>\n",
       "      <td>...</td>\n",
       "      <td>0</td>\n",
       "      <td>0</td>\n",
       "      <td>0</td>\n",
       "      <td>0</td>\n",
       "      <td>0</td>\n",
       "      <td>0</td>\n",
       "      <td>0</td>\n",
       "      <td>0</td>\n",
       "      <td>0</td>\n",
       "      <td>0</td>\n",
       "    </tr>\n",
       "    <tr>\n",
       "      <th>1</th>\n",
       "      <td>0</td>\n",
       "      <td>0</td>\n",
       "      <td>0</td>\n",
       "      <td>0</td>\n",
       "      <td>0</td>\n",
       "      <td>0</td>\n",
       "      <td>0</td>\n",
       "      <td>0</td>\n",
       "      <td>0</td>\n",
       "      <td>0</td>\n",
       "      <td>...</td>\n",
       "      <td>0</td>\n",
       "      <td>0</td>\n",
       "      <td>0</td>\n",
       "      <td>0</td>\n",
       "      <td>0</td>\n",
       "      <td>0</td>\n",
       "      <td>0</td>\n",
       "      <td>0</td>\n",
       "      <td>0</td>\n",
       "      <td>0</td>\n",
       "    </tr>\n",
       "    <tr>\n",
       "      <th>2</th>\n",
       "      <td>0</td>\n",
       "      <td>0</td>\n",
       "      <td>0</td>\n",
       "      <td>0</td>\n",
       "      <td>0</td>\n",
       "      <td>0</td>\n",
       "      <td>0</td>\n",
       "      <td>0</td>\n",
       "      <td>0</td>\n",
       "      <td>0</td>\n",
       "      <td>...</td>\n",
       "      <td>0</td>\n",
       "      <td>0</td>\n",
       "      <td>0</td>\n",
       "      <td>0</td>\n",
       "      <td>0</td>\n",
       "      <td>0</td>\n",
       "      <td>0</td>\n",
       "      <td>0</td>\n",
       "      <td>0</td>\n",
       "      <td>0</td>\n",
       "    </tr>\n",
       "    <tr>\n",
       "      <th>3</th>\n",
       "      <td>0</td>\n",
       "      <td>0</td>\n",
       "      <td>0</td>\n",
       "      <td>0</td>\n",
       "      <td>0</td>\n",
       "      <td>0</td>\n",
       "      <td>0</td>\n",
       "      <td>0</td>\n",
       "      <td>0</td>\n",
       "      <td>0</td>\n",
       "      <td>...</td>\n",
       "      <td>0</td>\n",
       "      <td>0</td>\n",
       "      <td>0</td>\n",
       "      <td>0</td>\n",
       "      <td>0</td>\n",
       "      <td>0</td>\n",
       "      <td>0</td>\n",
       "      <td>0</td>\n",
       "      <td>0</td>\n",
       "      <td>0</td>\n",
       "    </tr>\n",
       "    <tr>\n",
       "      <th>4</th>\n",
       "      <td>0</td>\n",
       "      <td>0</td>\n",
       "      <td>0</td>\n",
       "      <td>0</td>\n",
       "      <td>0</td>\n",
       "      <td>0</td>\n",
       "      <td>0</td>\n",
       "      <td>0</td>\n",
       "      <td>0</td>\n",
       "      <td>0</td>\n",
       "      <td>...</td>\n",
       "      <td>0</td>\n",
       "      <td>0</td>\n",
       "      <td>0</td>\n",
       "      <td>0</td>\n",
       "      <td>0</td>\n",
       "      <td>0</td>\n",
       "      <td>0</td>\n",
       "      <td>0</td>\n",
       "      <td>0</td>\n",
       "      <td>0</td>\n",
       "    </tr>\n",
       "  </tbody>\n",
       "</table>\n",
       "<p>5 rows × 73016 columns</p>\n",
       "</div>"
      ],
      "text/plain": [
       "   tggagcgccgggcggatcggttccgtactat  ggagcgccgggcggatcggttccgtactatc  \\\n",
       "0                                1                                1   \n",
       "1                                0                                0   \n",
       "2                                0                                0   \n",
       "3                                0                                0   \n",
       "4                                0                                0   \n",
       "\n",
       "   gagcgccgggcggatcggttccgtactatcc  agcgccgggcggatcggttccgtactatccg  \\\n",
       "0                                1                                1   \n",
       "1                                0                                0   \n",
       "2                                0                                0   \n",
       "3                                0                                0   \n",
       "4                                0                                0   \n",
       "\n",
       "   gcgccgggcggatcggttccgtactatccgt  cgccgggcggatcggttccgtactatccgta  \\\n",
       "0                                1                                1   \n",
       "1                                0                                0   \n",
       "2                                0                                0   \n",
       "3                                0                                0   \n",
       "4                                0                                0   \n",
       "\n",
       "   gccgggcggatcggttccgtactatccgtac  ccgggcggatcggttccgtactatccgtact  \\\n",
       "0                                1                                1   \n",
       "1                                0                                0   \n",
       "2                                0                                0   \n",
       "3                                0                                0   \n",
       "4                                0                                0   \n",
       "\n",
       "   cgggcggatcggttccgtactatccgtactg  gggcggatcggttccgtactatccgtactgc  ...  \\\n",
       "0                                1                                1  ...   \n",
       "1                                0                                0  ...   \n",
       "2                                0                                0  ...   \n",
       "3                                0                                0  ...   \n",
       "4                                0                                0  ...   \n",
       "\n",
       "   cttttggtctttcctgttaggtggaacgtta  ttttggtctttcctgttaggtggaacgttac  \\\n",
       "0                                0                                0   \n",
       "1                                0                                0   \n",
       "2                                0                                0   \n",
       "3                                0                                0   \n",
       "4                                0                                0   \n",
       "\n",
       "   tttggtctttcctgttaggtggaacgttacc  ttggtctttcctgttaggtggaacgttacct  \\\n",
       "0                                0                                0   \n",
       "1                                0                                0   \n",
       "2                                0                                0   \n",
       "3                                0                                0   \n",
       "4                                0                                0   \n",
       "\n",
       "   tggtctttcctgttaggtggaacgttaccta  ggtctttcctgttaggtggaacgttacctac  \\\n",
       "0                                0                                0   \n",
       "1                                0                                0   \n",
       "2                                0                                0   \n",
       "3                                0                                0   \n",
       "4                                0                                0   \n",
       "\n",
       "   gtctttcctgttaggtggaacgttacctact  tctttcctgttaggtggaacgttacctactt  \\\n",
       "0                                0                                0   \n",
       "1                                0                                0   \n",
       "2                                0                                0   \n",
       "3                                0                                0   \n",
       "4                                0                                0   \n",
       "\n",
       "   ctttcctgttaggtggaacgttacctacttc  tttcctgttaggtggaacgttacctacttct  \n",
       "0                                0                                0  \n",
       "1                                0                                0  \n",
       "2                                0                                0  \n",
       "3                                0                                0  \n",
       "4                                0                                0  \n",
       "\n",
       "[5 rows x 73016 columns]"
      ]
     },
     "execution_count": 3,
     "metadata": {},
     "output_type": "execute_result"
    }
   ],
   "source": [
    "training_set.head()"
   ]
  },
  {
   "cell_type": "markdown",
   "metadata": {},
   "source": [
    "A explanatory variable is only allowed to take on values: 0's or 1's. Gaussian assumption of feature is wrong. "
   ]
  },
  {
   "cell_type": "markdown",
   "metadata": {},
   "source": [
    "## 4.B Bernoulli Naive Bayes\n",
    "\n",
    "We need an assumption on our explanatory variables that will restrict them to 0 or 1. This can be done if we assume that features follow to a Bernoulli distribution. A Bernoulli distribution resticts variables to assume a value of 0 or 1. \n",
    "\n",
    "<img src=\"images/04_Bernoulli_Naive_Bayes.png\" alt=\"Drawing\" style=\"width: 600px;\"/>\n",
    "\n",
    "\n",
    "Luckily, there is an implementation of Bernoulli Naive Bayes in ```sklearn```.\n",
    "\n",
    "*Note: that $p$ values seen here are different from $p$ values in hypothesis testing.*  $p$ value of Bernoulli distribution is probability of taking the value $1$. A bernoulli distribution can be thought of getting heads or tails on a weighted coin. Whereas, $p$ values in hypothesis testing is probability of making a type 1 error."
   ]
  },
  {
   "cell_type": "code",
   "execution_count": 4,
   "metadata": {},
   "outputs": [
    {
     "data": {
      "text/plain": [
       "BernoulliNB(alpha=1.0, binarize=0.0, class_prior=None, fit_prior=True)"
      ]
     },
     "execution_count": 4,
     "metadata": {},
     "output_type": "execute_result"
    }
   ],
   "source": [
    "from sklearn.naive_bayes import BernoulliNB\n",
    "\n",
    "#instantiate a Naive Bayes classifier \n",
    "bNB = BernoulliNB()\n",
    "\n",
    "#train classifier\n",
    "bNB.fit(training_set,Y_training_set.values.ravel())"
   ]
  },
  {
   "cell_type": "markdown",
   "metadata": {},
   "source": [
    "### 4.B.1 $p$ values"
   ]
  },
  {
   "cell_type": "markdown",
   "metadata": {},
   "source": [
    "We can grab the $p$ values for each feature per class. However, BernoulliNB stores the log of $p$ values."
   ]
  },
  {
   "cell_type": "code",
   "execution_count": 5,
   "metadata": {},
   "outputs": [
    {
     "data": {
      "text/plain": [
       "array([[-5.02388052, -5.02388052, -5.02388052, ..., -4.33073334,\n",
       "        -4.33073334, -4.33073334],\n",
       "       [-3.44998755, -3.44998755, -3.44998755, ..., -4.83628191,\n",
       "        -4.83628191, -4.83628191]])"
      ]
     },
     "execution_count": 5,
     "metadata": {},
     "output_type": "execute_result"
    }
   ],
   "source": [
    "bNB.feature_log_prob_"
   ]
  },
  {
   "cell_type": "markdown",
   "metadata": {},
   "source": [
    "To get the $p$ values, we take the exponential of ```bNB.feature_log_prob_```."
   ]
  },
  {
   "cell_type": "code",
   "execution_count": 6,
   "metadata": {},
   "outputs": [
    {
     "data": {
      "text/plain": [
       "array([[0.00657895, 0.00657895, 0.00657895, ..., 0.01315789, 0.01315789,\n",
       "        0.01315789],\n",
       "       [0.03174603, 0.03174603, 0.03174603, ..., 0.00793651, 0.00793651,\n",
       "        0.00793651]])"
      ]
     },
     "execution_count": 6,
     "metadata": {},
     "output_type": "execute_result"
    }
   ],
   "source": [
    "import numpy as np\n",
    "np.exp(bNB.feature_log_prob_)"
   ]
  },
  {
   "cell_type": "markdown",
   "metadata": {},
   "source": [
    "We can visualize the information better as pandas dataframe."
   ]
  },
  {
   "cell_type": "code",
   "execution_count": 7,
   "metadata": {},
   "outputs": [
    {
     "data": {
      "text/html": [
       "<div>\n",
       "<style scoped>\n",
       "    .dataframe tbody tr th:only-of-type {\n",
       "        vertical-align: middle;\n",
       "    }\n",
       "\n",
       "    .dataframe tbody tr th {\n",
       "        vertical-align: top;\n",
       "    }\n",
       "\n",
       "    .dataframe thead th {\n",
       "        text-align: right;\n",
       "    }\n",
       "</style>\n",
       "<table border=\"1\" class=\"dataframe\">\n",
       "  <thead>\n",
       "    <tr style=\"text-align: right;\">\n",
       "      <th></th>\n",
       "      <th>tggagcgccgggcggatcggttccgtactat</th>\n",
       "      <th>ggagcgccgggcggatcggttccgtactatc</th>\n",
       "      <th>gagcgccgggcggatcggttccgtactatcc</th>\n",
       "      <th>agcgccgggcggatcggttccgtactatccg</th>\n",
       "      <th>gcgccgggcggatcggttccgtactatccgt</th>\n",
       "      <th>cgccgggcggatcggttccgtactatccgta</th>\n",
       "      <th>gccgggcggatcggttccgtactatccgtac</th>\n",
       "      <th>ccgggcggatcggttccgtactatccgtact</th>\n",
       "      <th>cgggcggatcggttccgtactatccgtactg</th>\n",
       "      <th>gggcggatcggttccgtactatccgtactgc</th>\n",
       "      <th>...</th>\n",
       "      <th>cttttggtctttcctgttaggtggaacgtta</th>\n",
       "      <th>ttttggtctttcctgttaggtggaacgttac</th>\n",
       "      <th>tttggtctttcctgttaggtggaacgttacc</th>\n",
       "      <th>ttggtctttcctgttaggtggaacgttacct</th>\n",
       "      <th>tggtctttcctgttaggtggaacgttaccta</th>\n",
       "      <th>ggtctttcctgttaggtggaacgttacctac</th>\n",
       "      <th>gtctttcctgttaggtggaacgttacctact</th>\n",
       "      <th>tctttcctgttaggtggaacgttacctactt</th>\n",
       "      <th>ctttcctgttaggtggaacgttacctacttc</th>\n",
       "      <th>tttcctgttaggtggaacgttacctacttct</th>\n",
       "    </tr>\n",
       "  </thead>\n",
       "  <tbody>\n",
       "    <tr>\n",
       "      <th>Resistant</th>\n",
       "      <td>0.006579</td>\n",
       "      <td>0.006579</td>\n",
       "      <td>0.006579</td>\n",
       "      <td>0.006579</td>\n",
       "      <td>0.006579</td>\n",
       "      <td>0.006579</td>\n",
       "      <td>0.006579</td>\n",
       "      <td>0.006579</td>\n",
       "      <td>0.006579</td>\n",
       "      <td>0.006579</td>\n",
       "      <td>...</td>\n",
       "      <td>0.013158</td>\n",
       "      <td>0.013158</td>\n",
       "      <td>0.013158</td>\n",
       "      <td>0.013158</td>\n",
       "      <td>0.013158</td>\n",
       "      <td>0.013158</td>\n",
       "      <td>0.013158</td>\n",
       "      <td>0.013158</td>\n",
       "      <td>0.013158</td>\n",
       "      <td>0.013158</td>\n",
       "    </tr>\n",
       "    <tr>\n",
       "      <th>Suspectible</th>\n",
       "      <td>0.031746</td>\n",
       "      <td>0.031746</td>\n",
       "      <td>0.031746</td>\n",
       "      <td>0.031746</td>\n",
       "      <td>0.031746</td>\n",
       "      <td>0.031746</td>\n",
       "      <td>0.031746</td>\n",
       "      <td>0.031746</td>\n",
       "      <td>0.031746</td>\n",
       "      <td>0.031746</td>\n",
       "      <td>...</td>\n",
       "      <td>0.007937</td>\n",
       "      <td>0.007937</td>\n",
       "      <td>0.007937</td>\n",
       "      <td>0.007937</td>\n",
       "      <td>0.007937</td>\n",
       "      <td>0.007937</td>\n",
       "      <td>0.007937</td>\n",
       "      <td>0.007937</td>\n",
       "      <td>0.007937</td>\n",
       "      <td>0.007937</td>\n",
       "    </tr>\n",
       "  </tbody>\n",
       "</table>\n",
       "<p>2 rows × 73016 columns</p>\n",
       "</div>"
      ],
      "text/plain": [
       "             tggagcgccgggcggatcggttccgtactat  ggagcgccgggcggatcggttccgtactatc  \\\n",
       "Resistant                           0.006579                         0.006579   \n",
       "Suspectible                         0.031746                         0.031746   \n",
       "\n",
       "             gagcgccgggcggatcggttccgtactatcc  agcgccgggcggatcggttccgtactatccg  \\\n",
       "Resistant                           0.006579                         0.006579   \n",
       "Suspectible                         0.031746                         0.031746   \n",
       "\n",
       "             gcgccgggcggatcggttccgtactatccgt  cgccgggcggatcggttccgtactatccgta  \\\n",
       "Resistant                           0.006579                         0.006579   \n",
       "Suspectible                         0.031746                         0.031746   \n",
       "\n",
       "             gccgggcggatcggttccgtactatccgtac  ccgggcggatcggttccgtactatccgtact  \\\n",
       "Resistant                           0.006579                         0.006579   \n",
       "Suspectible                         0.031746                         0.031746   \n",
       "\n",
       "             cgggcggatcggttccgtactatccgtactg  gggcggatcggttccgtactatccgtactgc  \\\n",
       "Resistant                           0.006579                         0.006579   \n",
       "Suspectible                         0.031746                         0.031746   \n",
       "\n",
       "             ...  cttttggtctttcctgttaggtggaacgtta  \\\n",
       "Resistant    ...                         0.013158   \n",
       "Suspectible  ...                         0.007937   \n",
       "\n",
       "             ttttggtctttcctgttaggtggaacgttac  tttggtctttcctgttaggtggaacgttacc  \\\n",
       "Resistant                           0.013158                         0.013158   \n",
       "Suspectible                         0.007937                         0.007937   \n",
       "\n",
       "             ttggtctttcctgttaggtggaacgttacct  tggtctttcctgttaggtggaacgttaccta  \\\n",
       "Resistant                           0.013158                         0.013158   \n",
       "Suspectible                         0.007937                         0.007937   \n",
       "\n",
       "             ggtctttcctgttaggtggaacgttacctac  gtctttcctgttaggtggaacgttacctact  \\\n",
       "Resistant                           0.013158                         0.013158   \n",
       "Suspectible                         0.007937                         0.007937   \n",
       "\n",
       "             tctttcctgttaggtggaacgttacctactt  ctttcctgttaggtggaacgttacctacttc  \\\n",
       "Resistant                           0.013158                         0.013158   \n",
       "Suspectible                         0.007937                         0.007937   \n",
       "\n",
       "             tttcctgttaggtggaacgttacctacttct  \n",
       "Resistant                           0.013158  \n",
       "Suspectible                         0.007937  \n",
       "\n",
       "[2 rows x 73016 columns]"
      ]
     },
     "execution_count": 7,
     "metadata": {},
     "output_type": "execute_result"
    }
   ],
   "source": [
    "pd.DataFrame(np.exp(bNB.feature_log_prob_),\n",
    "             columns=training_set.columns,\n",
    "             index=['Resistant','Suspectible'])"
   ]
  },
  {
   "cell_type": "markdown",
   "metadata": {},
   "source": [
    "## 4.C Evaluating Bernoulli Naive Bayes Classifier\n",
    "\n",
    "### Exercise 4.C.1: Confusion Matrix and Score Bernoulli Naive Bayes Classifier\n",
    "\n",
    "Recall that we used a confusion matrix and the score function to evaluate accuracy of the Gaussian Naive Bayes classifer.  *Now, we will do the same for Bernoulli Naive Bayes classifier.*\n",
    "\n",
    "- We generated the confusion matrix using code:\n",
    "\n",
    "```\n",
    "from sklearn.metrics import confusion_matrix\n",
    "\n",
    "confusionMatrix = confusion_matrix(gNB.predict(test_set),Y_test_set)\n",
    "\n",
    "confusionMatrix_df = pd.DataFrame(confusionMatrix,\n",
    "                                  columns=['Predicted: 0' , 'Predicted: 1'],\n",
    "                                  index=['Actual: 0' , 'Actual: 1'])\n",
    "confusionMatrix_df\n",
    "```\n",
    "\n",
    "- We also computed total fraction of observations correctly classified using code:\n",
    "\n",
    "```\n",
    "gNB.score(test_set,Y_test_set)\n",
    "```\n",
    "\n",
    "Edit the code above to test the accuracy of the Bernoulli Naive Bayes classifier."
   ]
  },
  {
   "cell_type": "code",
   "execution_count": 8,
   "metadata": {},
   "outputs": [
    {
     "data": {
      "text/html": [
       "<div>\n",
       "<style scoped>\n",
       "    .dataframe tbody tr th:only-of-type {\n",
       "        vertical-align: middle;\n",
       "    }\n",
       "\n",
       "    .dataframe tbody tr th {\n",
       "        vertical-align: top;\n",
       "    }\n",
       "\n",
       "    .dataframe thead th {\n",
       "        text-align: right;\n",
       "    }\n",
       "</style>\n",
       "<table border=\"1\" class=\"dataframe\">\n",
       "  <thead>\n",
       "    <tr style=\"text-align: right;\">\n",
       "      <th></th>\n",
       "      <th>Predicted: 0</th>\n",
       "      <th>Predicted: 1</th>\n",
       "    </tr>\n",
       "  </thead>\n",
       "  <tbody>\n",
       "    <tr>\n",
       "      <th>Actual: 0</th>\n",
       "      <td>57</td>\n",
       "      <td>3</td>\n",
       "    </tr>\n",
       "    <tr>\n",
       "      <th>Actual: 1</th>\n",
       "      <td>7</td>\n",
       "      <td>51</td>\n",
       "    </tr>\n",
       "  </tbody>\n",
       "</table>\n",
       "</div>"
      ],
      "text/plain": [
       "           Predicted: 0  Predicted: 1\n",
       "Actual: 0            57             3\n",
       "Actual: 1             7            51"
      ]
     },
     "execution_count": 8,
     "metadata": {},
     "output_type": "execute_result"
    }
   ],
   "source": [
    "# enter solutions here \n",
    "\n",
    "from sklearn.metrics import confusion_matrix\n",
    "\n",
    "confusionMatrix = confusion_matrix(bNB.predict(test_set),Y_test_set)\n",
    "\n",
    "confusionMatrix_df = pd.DataFrame(confusionMatrix,\n",
    "                                  columns=['Predicted: 0' , 'Predicted: 1'],\n",
    "                                  index=['Actual: 0' , 'Actual: 1'])\n",
    "confusionMatrix_df"
   ]
  },
  {
   "cell_type": "code",
   "execution_count": 9,
   "metadata": {},
   "outputs": [
    {
     "data": {
      "text/plain": [
       "0.9152542372881356"
      ]
     },
     "execution_count": 9,
     "metadata": {},
     "output_type": "execute_result"
    }
   ],
   "source": [
    "bNB.score(test_set,Y_test_set)"
   ]
  },
  {
   "cell_type": "markdown",
   "metadata": {},
   "source": [
    "Compare to the Gaussian Naive Bayes classifier, the Bernoulli Naive Bayes classifier appears to be more accurate. The Gaussian Naive Bayes classifier has an accuracy of $88\\%$ while Bernoulli Naive Bayes classifier has an accuracy has $91\\%.$"
   ]
  },
  {
   "cell_type": "markdown",
   "metadata": {},
   "source": [
    "### 4.C.2 Class probability of a single observation\n",
    "\n",
    "Using the ```predict_proba``` method, we can grab the probability that an observation in the test set belongs in a class."
   ]
  },
  {
   "cell_type": "code",
   "execution_count": 10,
   "metadata": {},
   "outputs": [
    {
     "data": {
      "text/plain": [
       "array([[1.00000000e+000, 7.94706094e-202]])"
      ]
     },
     "execution_count": 10,
     "metadata": {},
     "output_type": "execute_result"
    }
   ],
   "source": [
    "# compute probability that the first observation belongs in resistant or suspectible  class\n",
    "bNB.predict_proba(test_set.iloc[[0]])"
   ]
  },
  {
   "cell_type": "markdown",
   "metadata": {},
   "source": [
    "The classifier predicts that there is a $100\\%$ chance that the observation is in the resistant class. The classifier also predicts that there is a $0\\%$ chance that the observation is in the suspectible class."
   ]
  },
  {
   "cell_type": "markdown",
   "metadata": {},
   "source": [
    "### Exercise 4.C.2: Probability of the second observation\n",
    "\n",
    "Using the trained Bernuolli Naive Bayes model, ```bNB```, compute and interept the probability values of the second observation in our test set. "
   ]
  },
  {
   "cell_type": "code",
   "execution_count": 11,
   "metadata": {},
   "outputs": [
    {
     "data": {
      "text/plain": [
       "array([[0., 1.]])"
      ]
     },
     "execution_count": 11,
     "metadata": {},
     "output_type": "execute_result"
    }
   ],
   "source": [
    "# enter solution here\n",
    "bNB.predict_proba(test_set.iloc[[1]])"
   ]
  },
  {
   "cell_type": "markdown",
   "metadata": {},
   "source": [
    "The model predicts a $100\\%$ chance that the observation will be resistant and a $0\\%$ chance that the observation will be susceptible."
   ]
  },
  {
   "cell_type": "markdown",
   "metadata": {},
   "source": [
    "### 4.C.3 Class probability of the entire dataset\n"
   ]
  },
  {
   "cell_type": "markdown",
   "metadata": {},
   "source": [
    "We can compute the class probability of the entire data set."
   ]
  },
  {
   "cell_type": "code",
   "execution_count": 12,
   "metadata": {
    "scrolled": true
   },
   "outputs": [
    {
     "data": {
      "text/plain": [
       "array([[1.00000000e+000, 7.94706094e-202],\n",
       "       [0.00000000e+000, 1.00000000e+000],\n",
       "       [0.00000000e+000, 1.00000000e+000],\n",
       "       [1.00000000e+000, 0.00000000e+000],\n",
       "       [0.00000000e+000, 1.00000000e+000],\n",
       "       [1.00000000e+000, 0.00000000e+000],\n",
       "       [1.00000000e+000, 0.00000000e+000],\n",
       "       [1.00000000e+000, 0.00000000e+000],\n",
       "       [0.00000000e+000, 1.00000000e+000],\n",
       "       [0.00000000e+000, 1.00000000e+000],\n",
       "       [1.47837385e-171, 1.00000000e+000],\n",
       "       [0.00000000e+000, 1.00000000e+000],\n",
       "       [0.00000000e+000, 1.00000000e+000],\n",
       "       [2.34425807e-026, 1.00000000e+000],\n",
       "       [1.00000000e+000, 0.00000000e+000],\n",
       "       [1.00000000e+000, 0.00000000e+000],\n",
       "       [2.15722575e-108, 1.00000000e+000],\n",
       "       [0.00000000e+000, 1.00000000e+000],\n",
       "       [2.16694507e-053, 1.00000000e+000],\n",
       "       [1.48561048e-101, 1.00000000e+000],\n",
       "       [1.00000000e+000, 0.00000000e+000],\n",
       "       [0.00000000e+000, 1.00000000e+000],\n",
       "       [1.44953404e-265, 1.00000000e+000],\n",
       "       [1.00000000e+000, 4.15487487e-050],\n",
       "       [1.00000000e+000, 0.00000000e+000],\n",
       "       [1.00000000e+000, 0.00000000e+000],\n",
       "       [1.00000000e+000, 1.19289032e-037],\n",
       "       [3.20102085e-304, 1.00000000e+000],\n",
       "       [1.00000000e+000, 0.00000000e+000],\n",
       "       [0.00000000e+000, 1.00000000e+000],\n",
       "       [1.36764536e-182, 1.00000000e+000],\n",
       "       [1.00000000e+000, 0.00000000e+000],\n",
       "       [1.00000000e+000, 0.00000000e+000],\n",
       "       [1.00000000e+000, 6.10268408e-121],\n",
       "       [1.06062186e-154, 1.00000000e+000],\n",
       "       [2.14939751e-217, 1.00000000e+000],\n",
       "       [1.00000000e+000, 0.00000000e+000],\n",
       "       [3.72242132e-124, 1.00000000e+000],\n",
       "       [0.00000000e+000, 1.00000000e+000],\n",
       "       [1.00000000e+000, 2.34216791e-063],\n",
       "       [0.00000000e+000, 1.00000000e+000],\n",
       "       [0.00000000e+000, 1.00000000e+000],\n",
       "       [3.91011298e-075, 1.00000000e+000],\n",
       "       [1.00000000e+000, 1.41214589e-252],\n",
       "       [9.65362624e-201, 1.00000000e+000],\n",
       "       [1.00000000e+000, 0.00000000e+000],\n",
       "       [9.60533280e-276, 1.00000000e+000],\n",
       "       [3.72178253e-118, 1.00000000e+000],\n",
       "       [1.00000000e+000, 2.16040021e-095],\n",
       "       [0.00000000e+000, 1.00000000e+000],\n",
       "       [1.00000000e+000, 0.00000000e+000],\n",
       "       [1.00000000e+000, 7.59386648e-263],\n",
       "       [1.00000000e+000, 0.00000000e+000],\n",
       "       [1.00000000e+000, 2.97830623e-137],\n",
       "       [0.00000000e+000, 1.00000000e+000],\n",
       "       [8.06860596e-008, 9.99999919e-001],\n",
       "       [2.33847981e-043, 1.00000000e+000],\n",
       "       [1.48149255e-222, 1.00000000e+000],\n",
       "       [1.00000000e+000, 3.61192015e-176],\n",
       "       [1.00000000e+000, 0.00000000e+000],\n",
       "       [1.00000000e+000, 0.00000000e+000],\n",
       "       [1.00000000e+000, 7.29400151e-246],\n",
       "       [2.55512010e-099, 1.00000000e+000],\n",
       "       [8.85015049e-066, 1.00000000e+000],\n",
       "       [1.00000000e+000, 0.00000000e+000],\n",
       "       [0.00000000e+000, 1.00000000e+000],\n",
       "       [6.80332343e-248, 1.00000000e+000],\n",
       "       [3.44573270e-125, 1.00000000e+000],\n",
       "       [1.00000000e+000, 0.00000000e+000],\n",
       "       [1.00000000e+000, 1.54741191e-287],\n",
       "       [2.04594843e-271, 1.00000000e+000],\n",
       "       [1.37053810e-320, 1.00000000e+000],\n",
       "       [0.00000000e+000, 1.00000000e+000],\n",
       "       [0.00000000e+000, 1.00000000e+000],\n",
       "       [1.00000000e+000, 0.00000000e+000],\n",
       "       [1.00000000e+000, 0.00000000e+000],\n",
       "       [1.00000000e+000, 0.00000000e+000],\n",
       "       [4.54352238e-165, 1.00000000e+000],\n",
       "       [3.32369824e-189, 1.00000000e+000],\n",
       "       [0.00000000e+000, 1.00000000e+000],\n",
       "       [1.00000000e+000, 1.23353096e-098],\n",
       "       [1.00000000e+000, 0.00000000e+000],\n",
       "       [1.00000000e+000, 1.61196527e-087],\n",
       "       [1.00000000e+000, 0.00000000e+000],\n",
       "       [6.03171860e-093, 1.00000000e+000],\n",
       "       [1.00000000e+000, 0.00000000e+000],\n",
       "       [1.00000000e+000, 0.00000000e+000],\n",
       "       [9.99992476e-001, 7.52392254e-006],\n",
       "       [0.00000000e+000, 1.00000000e+000],\n",
       "       [1.00000000e+000, 0.00000000e+000],\n",
       "       [1.00000000e+000, 0.00000000e+000],\n",
       "       [0.00000000e+000, 1.00000000e+000],\n",
       "       [1.66687379e-058, 1.00000000e+000],\n",
       "       [1.00000000e+000, 1.97058789e-278],\n",
       "       [0.00000000e+000, 1.00000000e+000],\n",
       "       [1.00000000e+000, 9.19734018e-186],\n",
       "       [2.26677226e-219, 1.00000000e+000],\n",
       "       [1.00000000e+000, 0.00000000e+000],\n",
       "       [0.00000000e+000, 1.00000000e+000],\n",
       "       [1.00000000e+000, 0.00000000e+000],\n",
       "       [1.00000000e+000, 0.00000000e+000],\n",
       "       [1.00000000e+000, 1.68838347e-271],\n",
       "       [1.00000000e+000, 0.00000000e+000],\n",
       "       [1.00000000e+000, 0.00000000e+000],\n",
       "       [1.00000000e+000, 0.00000000e+000],\n",
       "       [1.00000000e+000, 1.53371595e-036],\n",
       "       [1.00000000e+000, 0.00000000e+000],\n",
       "       [1.21519835e-188, 1.00000000e+000],\n",
       "       [3.30462396e-041, 1.00000000e+000],\n",
       "       [1.00000000e+000, 0.00000000e+000],\n",
       "       [1.00031750e-211, 1.00000000e+000],\n",
       "       [1.00000000e+000, 0.00000000e+000],\n",
       "       [1.00000000e+000, 0.00000000e+000],\n",
       "       [4.18690226e-249, 1.00000000e+000],\n",
       "       [1.00000000e+000, 1.23648239e-015],\n",
       "       [0.00000000e+000, 1.00000000e+000],\n",
       "       [7.34204717e-230, 1.00000000e+000],\n",
       "       [1.00000000e+000, 0.00000000e+000]])"
      ]
     },
     "execution_count": 12,
     "metadata": {},
     "output_type": "execute_result"
    }
   ],
   "source": [
    "bNB.predict_proba(test_set)"
   ]
  },
  {
   "cell_type": "markdown",
   "metadata": {},
   "source": [
    "This is better visualize using a pandas dataframe."
   ]
  },
  {
   "cell_type": "code",
   "execution_count": 13,
   "metadata": {},
   "outputs": [
    {
     "data": {
      "text/html": [
       "<div>\n",
       "<style scoped>\n",
       "    .dataframe tbody tr th:only-of-type {\n",
       "        vertical-align: middle;\n",
       "    }\n",
       "\n",
       "    .dataframe tbody tr th {\n",
       "        vertical-align: top;\n",
       "    }\n",
       "\n",
       "    .dataframe thead th {\n",
       "        text-align: right;\n",
       "    }\n",
       "</style>\n",
       "<table border=\"1\" class=\"dataframe\">\n",
       "  <thead>\n",
       "    <tr style=\"text-align: right;\">\n",
       "      <th></th>\n",
       "      <th>Probability of being resistant</th>\n",
       "      <th>Probability of being susceptible</th>\n",
       "    </tr>\n",
       "  </thead>\n",
       "  <tbody>\n",
       "    <tr>\n",
       "      <th>0</th>\n",
       "      <td>1.000000e+00</td>\n",
       "      <td>7.947061e-202</td>\n",
       "    </tr>\n",
       "    <tr>\n",
       "      <th>1</th>\n",
       "      <td>0.000000e+00</td>\n",
       "      <td>1.000000e+00</td>\n",
       "    </tr>\n",
       "    <tr>\n",
       "      <th>2</th>\n",
       "      <td>0.000000e+00</td>\n",
       "      <td>1.000000e+00</td>\n",
       "    </tr>\n",
       "    <tr>\n",
       "      <th>3</th>\n",
       "      <td>1.000000e+00</td>\n",
       "      <td>0.000000e+00</td>\n",
       "    </tr>\n",
       "    <tr>\n",
       "      <th>4</th>\n",
       "      <td>0.000000e+00</td>\n",
       "      <td>1.000000e+00</td>\n",
       "    </tr>\n",
       "    <tr>\n",
       "      <th>5</th>\n",
       "      <td>1.000000e+00</td>\n",
       "      <td>0.000000e+00</td>\n",
       "    </tr>\n",
       "    <tr>\n",
       "      <th>6</th>\n",
       "      <td>1.000000e+00</td>\n",
       "      <td>0.000000e+00</td>\n",
       "    </tr>\n",
       "    <tr>\n",
       "      <th>7</th>\n",
       "      <td>1.000000e+00</td>\n",
       "      <td>0.000000e+00</td>\n",
       "    </tr>\n",
       "    <tr>\n",
       "      <th>8</th>\n",
       "      <td>0.000000e+00</td>\n",
       "      <td>1.000000e+00</td>\n",
       "    </tr>\n",
       "    <tr>\n",
       "      <th>9</th>\n",
       "      <td>0.000000e+00</td>\n",
       "      <td>1.000000e+00</td>\n",
       "    </tr>\n",
       "    <tr>\n",
       "      <th>10</th>\n",
       "      <td>1.478374e-171</td>\n",
       "      <td>1.000000e+00</td>\n",
       "    </tr>\n",
       "    <tr>\n",
       "      <th>11</th>\n",
       "      <td>0.000000e+00</td>\n",
       "      <td>1.000000e+00</td>\n",
       "    </tr>\n",
       "    <tr>\n",
       "      <th>12</th>\n",
       "      <td>0.000000e+00</td>\n",
       "      <td>1.000000e+00</td>\n",
       "    </tr>\n",
       "    <tr>\n",
       "      <th>13</th>\n",
       "      <td>2.344258e-26</td>\n",
       "      <td>1.000000e+00</td>\n",
       "    </tr>\n",
       "    <tr>\n",
       "      <th>14</th>\n",
       "      <td>1.000000e+00</td>\n",
       "      <td>0.000000e+00</td>\n",
       "    </tr>\n",
       "    <tr>\n",
       "      <th>15</th>\n",
       "      <td>1.000000e+00</td>\n",
       "      <td>0.000000e+00</td>\n",
       "    </tr>\n",
       "    <tr>\n",
       "      <th>16</th>\n",
       "      <td>2.157226e-108</td>\n",
       "      <td>1.000000e+00</td>\n",
       "    </tr>\n",
       "    <tr>\n",
       "      <th>17</th>\n",
       "      <td>0.000000e+00</td>\n",
       "      <td>1.000000e+00</td>\n",
       "    </tr>\n",
       "    <tr>\n",
       "      <th>18</th>\n",
       "      <td>2.166945e-53</td>\n",
       "      <td>1.000000e+00</td>\n",
       "    </tr>\n",
       "    <tr>\n",
       "      <th>19</th>\n",
       "      <td>1.485610e-101</td>\n",
       "      <td>1.000000e+00</td>\n",
       "    </tr>\n",
       "    <tr>\n",
       "      <th>20</th>\n",
       "      <td>1.000000e+00</td>\n",
       "      <td>0.000000e+00</td>\n",
       "    </tr>\n",
       "    <tr>\n",
       "      <th>21</th>\n",
       "      <td>0.000000e+00</td>\n",
       "      <td>1.000000e+00</td>\n",
       "    </tr>\n",
       "    <tr>\n",
       "      <th>22</th>\n",
       "      <td>1.449534e-265</td>\n",
       "      <td>1.000000e+00</td>\n",
       "    </tr>\n",
       "    <tr>\n",
       "      <th>23</th>\n",
       "      <td>1.000000e+00</td>\n",
       "      <td>4.154875e-50</td>\n",
       "    </tr>\n",
       "    <tr>\n",
       "      <th>24</th>\n",
       "      <td>1.000000e+00</td>\n",
       "      <td>0.000000e+00</td>\n",
       "    </tr>\n",
       "    <tr>\n",
       "      <th>25</th>\n",
       "      <td>1.000000e+00</td>\n",
       "      <td>0.000000e+00</td>\n",
       "    </tr>\n",
       "    <tr>\n",
       "      <th>26</th>\n",
       "      <td>1.000000e+00</td>\n",
       "      <td>1.192890e-37</td>\n",
       "    </tr>\n",
       "    <tr>\n",
       "      <th>27</th>\n",
       "      <td>3.201021e-304</td>\n",
       "      <td>1.000000e+00</td>\n",
       "    </tr>\n",
       "    <tr>\n",
       "      <th>28</th>\n",
       "      <td>1.000000e+00</td>\n",
       "      <td>0.000000e+00</td>\n",
       "    </tr>\n",
       "    <tr>\n",
       "      <th>29</th>\n",
       "      <td>0.000000e+00</td>\n",
       "      <td>1.000000e+00</td>\n",
       "    </tr>\n",
       "    <tr>\n",
       "      <th>...</th>\n",
       "      <td>...</td>\n",
       "      <td>...</td>\n",
       "    </tr>\n",
       "    <tr>\n",
       "      <th>88</th>\n",
       "      <td>0.000000e+00</td>\n",
       "      <td>1.000000e+00</td>\n",
       "    </tr>\n",
       "    <tr>\n",
       "      <th>89</th>\n",
       "      <td>1.000000e+00</td>\n",
       "      <td>0.000000e+00</td>\n",
       "    </tr>\n",
       "    <tr>\n",
       "      <th>90</th>\n",
       "      <td>1.000000e+00</td>\n",
       "      <td>0.000000e+00</td>\n",
       "    </tr>\n",
       "    <tr>\n",
       "      <th>91</th>\n",
       "      <td>0.000000e+00</td>\n",
       "      <td>1.000000e+00</td>\n",
       "    </tr>\n",
       "    <tr>\n",
       "      <th>92</th>\n",
       "      <td>1.666874e-58</td>\n",
       "      <td>1.000000e+00</td>\n",
       "    </tr>\n",
       "    <tr>\n",
       "      <th>93</th>\n",
       "      <td>1.000000e+00</td>\n",
       "      <td>1.970588e-278</td>\n",
       "    </tr>\n",
       "    <tr>\n",
       "      <th>94</th>\n",
       "      <td>0.000000e+00</td>\n",
       "      <td>1.000000e+00</td>\n",
       "    </tr>\n",
       "    <tr>\n",
       "      <th>95</th>\n",
       "      <td>1.000000e+00</td>\n",
       "      <td>9.197340e-186</td>\n",
       "    </tr>\n",
       "    <tr>\n",
       "      <th>96</th>\n",
       "      <td>2.266772e-219</td>\n",
       "      <td>1.000000e+00</td>\n",
       "    </tr>\n",
       "    <tr>\n",
       "      <th>97</th>\n",
       "      <td>1.000000e+00</td>\n",
       "      <td>0.000000e+00</td>\n",
       "    </tr>\n",
       "    <tr>\n",
       "      <th>98</th>\n",
       "      <td>0.000000e+00</td>\n",
       "      <td>1.000000e+00</td>\n",
       "    </tr>\n",
       "    <tr>\n",
       "      <th>99</th>\n",
       "      <td>1.000000e+00</td>\n",
       "      <td>0.000000e+00</td>\n",
       "    </tr>\n",
       "    <tr>\n",
       "      <th>100</th>\n",
       "      <td>1.000000e+00</td>\n",
       "      <td>0.000000e+00</td>\n",
       "    </tr>\n",
       "    <tr>\n",
       "      <th>101</th>\n",
       "      <td>1.000000e+00</td>\n",
       "      <td>1.688383e-271</td>\n",
       "    </tr>\n",
       "    <tr>\n",
       "      <th>102</th>\n",
       "      <td>1.000000e+00</td>\n",
       "      <td>0.000000e+00</td>\n",
       "    </tr>\n",
       "    <tr>\n",
       "      <th>103</th>\n",
       "      <td>1.000000e+00</td>\n",
       "      <td>0.000000e+00</td>\n",
       "    </tr>\n",
       "    <tr>\n",
       "      <th>104</th>\n",
       "      <td>1.000000e+00</td>\n",
       "      <td>0.000000e+00</td>\n",
       "    </tr>\n",
       "    <tr>\n",
       "      <th>105</th>\n",
       "      <td>1.000000e+00</td>\n",
       "      <td>1.533716e-36</td>\n",
       "    </tr>\n",
       "    <tr>\n",
       "      <th>106</th>\n",
       "      <td>1.000000e+00</td>\n",
       "      <td>0.000000e+00</td>\n",
       "    </tr>\n",
       "    <tr>\n",
       "      <th>107</th>\n",
       "      <td>1.215198e-188</td>\n",
       "      <td>1.000000e+00</td>\n",
       "    </tr>\n",
       "    <tr>\n",
       "      <th>108</th>\n",
       "      <td>3.304624e-41</td>\n",
       "      <td>1.000000e+00</td>\n",
       "    </tr>\n",
       "    <tr>\n",
       "      <th>109</th>\n",
       "      <td>1.000000e+00</td>\n",
       "      <td>0.000000e+00</td>\n",
       "    </tr>\n",
       "    <tr>\n",
       "      <th>110</th>\n",
       "      <td>1.000318e-211</td>\n",
       "      <td>1.000000e+00</td>\n",
       "    </tr>\n",
       "    <tr>\n",
       "      <th>111</th>\n",
       "      <td>1.000000e+00</td>\n",
       "      <td>0.000000e+00</td>\n",
       "    </tr>\n",
       "    <tr>\n",
       "      <th>112</th>\n",
       "      <td>1.000000e+00</td>\n",
       "      <td>0.000000e+00</td>\n",
       "    </tr>\n",
       "    <tr>\n",
       "      <th>113</th>\n",
       "      <td>4.186902e-249</td>\n",
       "      <td>1.000000e+00</td>\n",
       "    </tr>\n",
       "    <tr>\n",
       "      <th>114</th>\n",
       "      <td>1.000000e+00</td>\n",
       "      <td>1.236482e-15</td>\n",
       "    </tr>\n",
       "    <tr>\n",
       "      <th>115</th>\n",
       "      <td>0.000000e+00</td>\n",
       "      <td>1.000000e+00</td>\n",
       "    </tr>\n",
       "    <tr>\n",
       "      <th>116</th>\n",
       "      <td>7.342047e-230</td>\n",
       "      <td>1.000000e+00</td>\n",
       "    </tr>\n",
       "    <tr>\n",
       "      <th>117</th>\n",
       "      <td>1.000000e+00</td>\n",
       "      <td>0.000000e+00</td>\n",
       "    </tr>\n",
       "  </tbody>\n",
       "</table>\n",
       "<p>118 rows × 2 columns</p>\n",
       "</div>"
      ],
      "text/plain": [
       "     Probability of being resistant  Probability of being susceptible\n",
       "0                      1.000000e+00                     7.947061e-202\n",
       "1                      0.000000e+00                      1.000000e+00\n",
       "2                      0.000000e+00                      1.000000e+00\n",
       "3                      1.000000e+00                      0.000000e+00\n",
       "4                      0.000000e+00                      1.000000e+00\n",
       "5                      1.000000e+00                      0.000000e+00\n",
       "6                      1.000000e+00                      0.000000e+00\n",
       "7                      1.000000e+00                      0.000000e+00\n",
       "8                      0.000000e+00                      1.000000e+00\n",
       "9                      0.000000e+00                      1.000000e+00\n",
       "10                    1.478374e-171                      1.000000e+00\n",
       "11                     0.000000e+00                      1.000000e+00\n",
       "12                     0.000000e+00                      1.000000e+00\n",
       "13                     2.344258e-26                      1.000000e+00\n",
       "14                     1.000000e+00                      0.000000e+00\n",
       "15                     1.000000e+00                      0.000000e+00\n",
       "16                    2.157226e-108                      1.000000e+00\n",
       "17                     0.000000e+00                      1.000000e+00\n",
       "18                     2.166945e-53                      1.000000e+00\n",
       "19                    1.485610e-101                      1.000000e+00\n",
       "20                     1.000000e+00                      0.000000e+00\n",
       "21                     0.000000e+00                      1.000000e+00\n",
       "22                    1.449534e-265                      1.000000e+00\n",
       "23                     1.000000e+00                      4.154875e-50\n",
       "24                     1.000000e+00                      0.000000e+00\n",
       "25                     1.000000e+00                      0.000000e+00\n",
       "26                     1.000000e+00                      1.192890e-37\n",
       "27                    3.201021e-304                      1.000000e+00\n",
       "28                     1.000000e+00                      0.000000e+00\n",
       "29                     0.000000e+00                      1.000000e+00\n",
       "..                              ...                               ...\n",
       "88                     0.000000e+00                      1.000000e+00\n",
       "89                     1.000000e+00                      0.000000e+00\n",
       "90                     1.000000e+00                      0.000000e+00\n",
       "91                     0.000000e+00                      1.000000e+00\n",
       "92                     1.666874e-58                      1.000000e+00\n",
       "93                     1.000000e+00                     1.970588e-278\n",
       "94                     0.000000e+00                      1.000000e+00\n",
       "95                     1.000000e+00                     9.197340e-186\n",
       "96                    2.266772e-219                      1.000000e+00\n",
       "97                     1.000000e+00                      0.000000e+00\n",
       "98                     0.000000e+00                      1.000000e+00\n",
       "99                     1.000000e+00                      0.000000e+00\n",
       "100                    1.000000e+00                      0.000000e+00\n",
       "101                    1.000000e+00                     1.688383e-271\n",
       "102                    1.000000e+00                      0.000000e+00\n",
       "103                    1.000000e+00                      0.000000e+00\n",
       "104                    1.000000e+00                      0.000000e+00\n",
       "105                    1.000000e+00                      1.533716e-36\n",
       "106                    1.000000e+00                      0.000000e+00\n",
       "107                   1.215198e-188                      1.000000e+00\n",
       "108                    3.304624e-41                      1.000000e+00\n",
       "109                    1.000000e+00                      0.000000e+00\n",
       "110                   1.000318e-211                      1.000000e+00\n",
       "111                    1.000000e+00                      0.000000e+00\n",
       "112                    1.000000e+00                      0.000000e+00\n",
       "113                   4.186902e-249                      1.000000e+00\n",
       "114                    1.000000e+00                      1.236482e-15\n",
       "115                    0.000000e+00                      1.000000e+00\n",
       "116                   7.342047e-230                      1.000000e+00\n",
       "117                    1.000000e+00                      0.000000e+00\n",
       "\n",
       "[118 rows x 2 columns]"
      ]
     },
     "execution_count": 13,
     "metadata": {},
     "output_type": "execute_result"
    }
   ],
   "source": [
    "pd.DataFrame(bNB.predict_proba(test_set),\n",
    "             index=test_set.index,\n",
    "             columns=['Probability of being resistant','Probability of being susceptible'])"
   ]
  },
  {
   "cell_type": "markdown",
   "metadata": {},
   "source": [
    "## 4.D Comparing Classifiers\n",
    "\n",
    "### 4.D.1 Threshold Values\n",
    "\n",
    "To compare classifiers, we need to take more care. We cannot simply compare total fraction of observations correctly classified.\n",
    "\n",
    "Consider the histogram of probability of being in the suspectible class, \n",
    "\n",
    "<img src=\"images/04_histogram_01.png\" alt=\"Drawing\" style=\"width: 700px;\"/>\n",
    "\n",
    "\n",
    "Classifiers have threshold probability above which all observations assigned 1 and below which all observations assigned 0. \n",
    "\n",
    "<img src=\"images/04_histogram_02.png\" alt=\"Drawing\" style=\"width: 500px;\"/>\n",
    "\n",
    "Setting a threshold value causes observations being correctly and incorrectly classified. The threshold value then determines the output of the ```score``` and ```confusion_matrix``` function.\n",
    "\n",
    "To compare classifiers, we determine how the efficacy of classifiers varies across threshold values.\n",
    "\n",
    "Note: \n",
    "\n",
    "**The ideal case there is no overlap of the histogram of probabilities.**\n",
    "\n",
    "**In the worst case, there is complete overlap of histograms.**"
   ]
  },
  {
   "cell_type": "markdown",
   "metadata": {},
   "source": [
    "### 4.D.2 ROC curves"
   ]
  },
  {
   "cell_type": "markdown",
   "metadata": {},
   "source": [
    "#### What are ROC curves?\n",
    "\n",
    "\n",
    "*ROC measures how well the probabilities of the suspectible category are separated from the resistant category.*\n",
    "\n",
    "\n",
    "#### How do ROC curve work?\n",
    "\n",
    "Recall that cells of the confusion matrix have special names:\n",
    "    \n",
    "\n",
    "| . | Predicted: 0 | Predicted: 1 |\n",
    "| --- | --- | --- |\n",
    "| **Actual: 0** | True Negative (TN) | False Negative  (FN) |\n",
    "| **Actual: 1** | False Positive (FP) | True Positive  (TP) |\n",
    "\n",
    "\n",
    "While varying the threshold hold value of classifier, *an ROC curve plots the true positive rates versus false positive rates*.  The true and false positive rates are related to the entries of the confusion matrix.\n",
    "\n",
    "\n",
    "$$ \\text{true positive rates} = \\frac{\\text{TP}}{\\text{TP} + \\text{FN}}= \\text{fraction of predicted suspectible bacteria correctly classified as suspectible} $$\n",
    "\n",
    "$$ \\text{false positive rates} = \\frac{\\text{FP}}{\\text{FP} + \\text{TN}} = \\text{fraction of predicted resistant bacteria misclassified as suspectible}$$\n",
    "\n",
    "\n",
    "**TODO: HOW TO DO THESE VALUES ALLOW USE TO INFER THAT A CLASSIFIER IS GOOD OR NOT**"
   ]
  },
  {
   "cell_type": "markdown",
   "metadata": {},
   "source": [
    "#### Generating ROC curves using Sklearn\n",
    "\n",
    "To generate the ROC curve, we use the ```roc_curve``` function in ```sklearn.metrics``` module. \n",
    "\n",
    "```roc_curve``` returns the false and true positive rates of the classifier. It takes as arguments \n",
    "- the classes of each observation in the test set \n",
    "- and probability of each observation being in class 1. In this case, class 1 is the suspectible class."
   ]
  },
  {
   "cell_type": "code",
   "execution_count": 14,
   "metadata": {},
   "outputs": [],
   "source": [
    "from sklearn.metrics import roc_curve\n",
    "\n",
    "#generate false and true positive rates for bNB\n",
    "probability_values_bNB= bNB.predict_proba(test_set)\n",
    "false_positive_rate_bNB, true_positive_rate_bNB, _ = roc_curve(Y_test_set, \n",
    "                                                                probability_values_bNB[:,1])\n",
    "\n",
    "#generate false and true positive rates for gNB\n",
    "probability_values_gNB= gNB.predict_proba(test_set)\n",
    "false_positive_rate_gNB, true_positive_rate_gNB, _ = roc_curve(Y_test_set, \n",
    "                                                               probability_values_gNB[:,1])"
   ]
  },
  {
   "cell_type": "code",
   "execution_count": 15,
   "metadata": {},
   "outputs": [
    {
     "data": {
      "text/plain": [
       "<Figure size 640x480 with 1 Axes>"
      ]
     },
     "metadata": {},
     "output_type": "display_data"
    }
   ],
   "source": [
    "import matplotlib.pyplot as plt\n",
    "plt.figure()\n",
    "lw = 2\n",
    "plt.plot(false_positive_rate_bNB, true_positive_rate_bNB, color='green' )\n",
    "plt.plot([0, 1], [0, 1], color='navy', lw=lw, linestyle='--')\n",
    "plt.xlabel('False Positive Rate')\n",
    "plt.ylabel('True Positive Rate')\n",
    "plt.show()"
   ]
  },
  {
   "cell_type": "markdown",
   "metadata": {},
   "source": [
    "*Note:* If a classifier has an ROC that falls on the navy line, then that classifier is no better than random. In this case, the probability histograms would overlap and the classifier cannot determine suspectible category from the resistant category. \n",
    "\n",
    "If a classifier has an ROC that above on the navy line, then that classifier is better than random. "
   ]
  },
  {
   "cell_type": "markdown",
   "metadata": {},
   "source": [
    "### Exercise 4.D.2: Plotting ROC curve of Gaussian Naive Bayes classifier\n",
    "\n",
    "I generated the data to plot the ROC of the Gaussian Naive Bayes classifier.\n",
    "```\n",
    "#generate false and true positive rates for gNB\n",
    "probability_values_gNB= gNB.predict_proba(test_set)\n",
    "false_positive_rate_gNB, true_positive_rate_gNB, _ = roc_curve(Y_test_set, \n",
    "                                                               probability_values_gNB[:,1])\n",
    "```\n",
    "\n",
    "Modify the code below to plot the ROC of the Gaussian Naive Bayes classifier. Is this classifier better than random?\n",
    "\n",
    "```\n",
    "import matplotlib.pyplot as plt\n",
    "plt.figure()\n",
    "lw = 2\n",
    "plt.plot(false_positive_rate_bNB, true_positive_rate_bNB, color='green' )\n",
    "plt.plot([0, 1], [0, 1], color='navy', lw=lw, linestyle='--')\n",
    "plt.show()\n",
    "```"
   ]
  },
  {
   "cell_type": "code",
   "execution_count": 16,
   "metadata": {},
   "outputs": [
    {
     "data": {
      "image/png": "[encoded data removed]",
      "text/plain": [
       "<Figure size 432x288 with 1 Axes>"
      ]
     },
     "metadata": {
      "needs_background": "light"
     },
     "output_type": "display_data"
    }
   ],
   "source": [
    "# enter solution here\n",
    "\n",
    "import matplotlib.pyplot as plt\n",
    "plt.figure()\n",
    "lw = 2\n",
    "plt.plot(false_positive_rate_gNB, true_positive_rate_gNB, color='green' )\n",
    "plt.plot([0, 1], [0, 1], color='navy', lw=lw, linestyle='--')\n",
    "plt.xlabel('False Positive Rate')\n",
    "plt.ylabel('True Positive Rate')\n",
    "plt.show()"
   ]
  },
  {
   "cell_type": "markdown",
   "metadata": {},
   "source": [
    "This classifier is better than random since the ROC curve is above the navy line."
   ]
  },
  {
   "cell_type": "markdown",
   "metadata": {},
   "source": [
    "### 4.D.3 Comparing ROC Curves"
   ]
  },
  {
   "cell_type": "markdown",
   "metadata": {},
   "source": [
    "ROC curves with larger area under the curve are better classifiers. To compute area under the curve, we use the ```auc``` in the ```sklearn.metrics``` module."
   ]
  },
  {
   "cell_type": "code",
   "execution_count": 17,
   "metadata": {},
   "outputs": [
    {
     "data": {
      "text/plain": [
       "0.9266493055555556"
      ]
     },
     "execution_count": 17,
     "metadata": {},
     "output_type": "execute_result"
    }
   ],
   "source": [
    "from sklearn.metrics import auc\n",
    "\n",
    "roc_auc_bNB = auc(false_positive_rate_bNB, true_positive_rate_bNB)\n",
    "roc_auc_bNB"
   ]
  },
  {
   "cell_type": "markdown",
   "metadata": {},
   "source": [
    "### Exercise 4.D.3: Area under the curve for Gaussian Naive Bayes\n",
    "\n",
    "Using the ```auc``` function, compute the area under curve for the Gaussian Naive Bayes classifier. Which classifier is better, Gaussian Naive Bayes or Bernoulli Naive Bayes?   \n",
    "\n",
    "Note I already calculated ```true_positive_rate_gNB``` and ```false_positive_rate_gNB``` above."
   ]
  },
  {
   "cell_type": "code",
   "execution_count": 18,
   "metadata": {},
   "outputs": [
    {
     "data": {
      "text/plain": [
       "0.8819444444444444"
      ]
     },
     "execution_count": 18,
     "metadata": {},
     "output_type": "execute_result"
    }
   ],
   "source": [
    "# enter solution here\n",
    "roc_auc_gNB = auc(false_positive_rate_gNB, true_positive_rate_gNB)\n",
    "roc_auc_gNB"
   ]
  },
  {
   "cell_type": "markdown",
   "metadata": {},
   "source": [
    "The Bernoulli Naive Bayes classifier is better."
   ]
  },
  {
   "cell_type": "markdown",
   "metadata": {},
   "source": [
    "### 4.D.4 Visualizing the results\n",
    "\n",
    "We can combine the results of sections 4.C.2, ROC plots, and 4.C.3, AUC calculations, into one plot.\n"
   ]
  },
  {
   "cell_type": "code",
   "execution_count": 19,
   "metadata": {},
   "outputs": [
    {
     "data": {
      "image/png": "[encoded data removed]",
      "text/plain": [
       "<Figure size 432x288 with 1 Axes>"
      ]
     },
     "metadata": {
      "needs_background": "light"
     },
     "output_type": "display_data"
    }
   ],
   "source": [
    "plt.figure()\n",
    "lw = 2\n",
    "plt.plot(false_positive_rate_gNB, true_positive_rate_gNB, color='green',\n",
    "         lw=lw, label='ROC curve (area = %0.2f)' % roc_auc_gNB)\n",
    "plt.plot(false_positive_rate_bNB, true_positive_rate_bNB, color='black',\n",
    "         lw=lw, label='ROC curve (area = %0.2f)' % roc_auc_bNB)\n",
    "plt.plot([0, 1], [0, 1], color='navy', lw=lw, linestyle='--')\n",
    "plt.xlabel('False Positive Rate')\n",
    "plt.ylabel('True Positive Rate')\n",
    "plt.legend(loc=\"lower right\")\n",
    "plt.show()"
   ]
  },
  {
   "cell_type": "markdown",
   "metadata": {},
   "source": [
    "# 5. Possible Improvements\n",
    "\n",
    "Recall that all Naive Bayes algorithms assumes each that the value of any feature is independent of any other feature. In our case, the presence of a segment of the genome does not affect the presence of another segment.\n",
    "\n",
    "This assumption is not true. The sequence at a given location of the genome can determine a sequence at another location. Thus, features are not truly independent. While Naive Bayes classifiers do not allow interaction between features, there are classifiers that do.\n",
    "\n",
    "\n",
    "Logistic regression, linear discriminant analysis (LDA) and quadratic discriminant analysis (QDA) allow for interaction. However, LDA and QDA assume that probability that a feature takes on a given value is Gaussian. Logistic regression does not make assumption of a probability distribution. However, you would have to tell the logistic regression what interactions to consider. Doing logistic regression with all interactions terms and some penalty, like LASSO, might be suitable.\n",
    "\n",
    "The methods have discussed so far all parameteric classifiers. Parameteric techniques learn parameters, such mean and variance in the Gaussian Naive Bayes and $p$ values in Bernoulli Naive Bayes. The parameters are used in a formula to compute the probability. There exist non-parametric classifiers. \n",
    "\n",
    "Non-parametric do not have formulas to calculate the probability to fall into a given class. Non-parametric methods instead use an algorithm to learn the data structure. Non-parametric methods are more flexible than parametric techniques. However, nonparametric methods are sometimes less interpretable than paramatric methods.   Given the complexity of this problem, classification trees or K-Nearest Neighbour classifier are suitable alternatives."
   ]
  },
  {
   "cell_type": "code",
   "execution_count": null,
   "metadata": {},
   "outputs": [],
   "source": []
  }
 ],
 "metadata": {
  "kernelspec": {
   "display_name": "Python 3",
   "language": "python",
   "name": "python3"
  },
  "language_info": {
   "codemirror_mode": {
    "name": "ipython",
    "version": 3
   },
   "file_extension": ".py",
   "mimetype": "text/x-python",
   "name": "python",
   "nbconvert_exporter": "python",
   "pygments_lexer": "ipython3",
   "version": "3.7.3"
  },
  "pycharm": {
   "stem_cell": {
    "cell_type": "raw",
    "metadata": {
     "collapsed": false
    },
    "source": []
   }
  }
 },
 "nbformat": 4,
 "nbformat_minor": 2
}
