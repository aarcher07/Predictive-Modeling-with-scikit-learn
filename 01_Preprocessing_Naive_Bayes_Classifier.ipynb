{
 "cells": [
  {
   "cell_type": "markdown",
   "metadata": {},
   "source": [
    "# 0. Review\n",
    "## 0.A Scikit-Learn\n",
    "\n",
    "Scikit-Learn is a machine learning python package. It allows users to access machine learning algorithms via **object-oriented programming**."
   ]
  },
  {
   "cell_type": "markdown",
   "metadata": {},
   "source": [
    "## 0.B Data Set\n",
    "\n",
    "I will be using a dataset of antibiotic resistance in bacteria strains. \n",
    "\n",
    "- Each bacteria is labeled with its resistance to the antibiotic, azithromycin.\n",
    "- Additionally, each bacteria sample is labelled if its genome contains certain strands of DNA.\n",
    "\n",
    "We would like to learn antibiotic resistance from the bacterial genome. \n",
    "\n",
    "- Our predictors are whether strands of DNA are present.\n",
    "- Our response are resistance classes.\n",
    "\n",
    "First, we have to clean our data up. **This section will focus on data preprocessing.**\n",
    "\n",
    "\n",
    "## 0.C Load Data\n",
    "\n",
    "We must load the data:\n",
    "\n",
    "-  the dataset, *antibotic_resistance_labels*, containing antibiotic resistance classes for each bacteria. This contains our response variable.\n",
    "- and dataset, *DNA_slices_csv*, containing the genome of each bacteria. This contains our predictors."
   ]
  },
  {
   "cell_type": "code",
   "execution_count": 1,
   "metadata": {
    "pycharm": {
     "is_executing": false
    }
   },
   "outputs": [],
   "source": [
    "import pandas as pd\n",
    "antibiotic_resistance_labels = pd.read_csv('datasets/antibiotic_resistance_labels',index_col=0)\n",
    "DNA_slices_df = pd.read_csv('datasets/DNA_slices_csv',index_col=0)"
   ]
  },
  {
   "cell_type": "markdown",
   "metadata": {},
   "source": [
    "# 1. Preprocessing\n",
    "\n",
    "1. **First, preprocess the data - make sure that data is ready to enter the ML pipeline**\n",
    "\n",
    "## 1.A Analyzing Data\n",
    "\n",
    "First, we must get a glimpse of our data. "
   ]
  },
  {
   "cell_type": "code",
   "execution_count": 2,
   "metadata": {
    "pycharm": {
     "is_executing": false
    }
   },
   "outputs": [
    {
     "name": "stdout",
     "output_type": "stream",
     "text": [
      "(392, 1)\n"
     ]
    },
    {
     "data": {
      "text/html": [
       "<div>\n",
       "<style scoped>\n",
       "    .dataframe tbody tr th:only-of-type {\n",
       "        vertical-align: middle;\n",
       "    }\n",
       "\n",
       "    .dataframe tbody tr th {\n",
       "        vertical-align: top;\n",
       "    }\n",
       "\n",
       "    .dataframe thead th {\n",
       "        text-align: right;\n",
       "    }\n",
       "</style>\n",
       "<table border=\"1\" class=\"dataframe\">\n",
       "  <thead>\n",
       "    <tr style=\"text-align: right;\">\n",
       "      <th></th>\n",
       "      <th>resistance class</th>\n",
       "    </tr>\n",
       "  </thead>\n",
       "  <tbody>\n",
       "    <tr>\n",
       "      <th>Bacteria 0</th>\n",
       "      <td>susceptible</td>\n",
       "    </tr>\n",
       "    <tr>\n",
       "      <th>Bacteria 1</th>\n",
       "      <td>resistant</td>\n",
       "    </tr>\n",
       "    <tr>\n",
       "      <th>Bacteria 2</th>\n",
       "      <td>resistant</td>\n",
       "    </tr>\n",
       "    <tr>\n",
       "      <th>Bacteria 3</th>\n",
       "      <td>resistant</td>\n",
       "    </tr>\n",
       "    <tr>\n",
       "      <th>Bacteria 4</th>\n",
       "      <td>susceptible</td>\n",
       "    </tr>\n",
       "  </tbody>\n",
       "</table>\n",
       "</div>"
      ],
      "text/plain": [
       "           resistance class\n",
       "Bacteria 0      susceptible\n",
       "Bacteria 1        resistant\n",
       "Bacteria 2        resistant\n",
       "Bacteria 3        resistant\n",
       "Bacteria 4      susceptible"
      ]
     },
     "execution_count": 2,
     "metadata": {},
     "output_type": "execute_result"
    }
   ],
   "source": [
    "#print shape of antibiotic_resistance_labels\n",
    "print(antibiotic_resistance_labels.shape)\n",
    "#print head of antibiotic_resistance_labels\n",
    "antibiotic_resistance_labels.head()"
   ]
  },
  {
   "cell_type": "code",
   "execution_count": 3,
   "metadata": {},
   "outputs": [
    {
     "name": "stdout",
     "output_type": "stream",
     "text": [
      "(392, 73016)\n"
     ]
    },
    {
     "data": {
      "text/html": [
       "<div>\n",
       "<style scoped>\n",
       "    .dataframe tbody tr th:only-of-type {\n",
       "        vertical-align: middle;\n",
       "    }\n",
       "\n",
       "    .dataframe tbody tr th {\n",
       "        vertical-align: top;\n",
       "    }\n",
       "\n",
       "    .dataframe thead th {\n",
       "        text-align: right;\n",
       "    }\n",
       "</style>\n",
       "<table border=\"1\" class=\"dataframe\">\n",
       "  <thead>\n",
       "    <tr style=\"text-align: right;\">\n",
       "      <th></th>\n",
       "      <th>tggagcgccgggcggatcggttccgtactat</th>\n",
       "      <th>ggagcgccgggcggatcggttccgtactatc</th>\n",
       "      <th>gagcgccgggcggatcggttccgtactatcc</th>\n",
       "      <th>agcgccgggcggatcggttccgtactatccg</th>\n",
       "      <th>gcgccgggcggatcggttccgtactatccgt</th>\n",
       "      <th>cgccgggcggatcggttccgtactatccgta</th>\n",
       "      <th>gccgggcggatcggttccgtactatccgtac</th>\n",
       "      <th>ccgggcggatcggttccgtactatccgtact</th>\n",
       "      <th>cgggcggatcggttccgtactatccgtactg</th>\n",
       "      <th>gggcggatcggttccgtactatccgtactgc</th>\n",
       "      <th>...</th>\n",
       "      <th>cttttggtctttcctgttaggtggaacgtta</th>\n",
       "      <th>ttttggtctttcctgttaggtggaacgttac</th>\n",
       "      <th>tttggtctttcctgttaggtggaacgttacc</th>\n",
       "      <th>ttggtctttcctgttaggtggaacgttacct</th>\n",
       "      <th>tggtctttcctgttaggtggaacgttaccta</th>\n",
       "      <th>ggtctttcctgttaggtggaacgttacctac</th>\n",
       "      <th>gtctttcctgttaggtggaacgttacctact</th>\n",
       "      <th>tctttcctgttaggtggaacgttacctactt</th>\n",
       "      <th>ctttcctgttaggtggaacgttacctacttc</th>\n",
       "      <th>tttcctgttaggtggaacgttacctacttct</th>\n",
       "    </tr>\n",
       "  </thead>\n",
       "  <tbody>\n",
       "    <tr>\n",
       "      <th>Bacteria 0</th>\n",
       "      <td>Y</td>\n",
       "      <td>Y</td>\n",
       "      <td>Y</td>\n",
       "      <td>Y</td>\n",
       "      <td>Y</td>\n",
       "      <td>Y</td>\n",
       "      <td>Y</td>\n",
       "      <td>Y</td>\n",
       "      <td>Y</td>\n",
       "      <td>Y</td>\n",
       "      <td>...</td>\n",
       "      <td>N</td>\n",
       "      <td>N</td>\n",
       "      <td>N</td>\n",
       "      <td>N</td>\n",
       "      <td>N</td>\n",
       "      <td>N</td>\n",
       "      <td>N</td>\n",
       "      <td>N</td>\n",
       "      <td>N</td>\n",
       "      <td>N</td>\n",
       "    </tr>\n",
       "    <tr>\n",
       "      <th>Bacteria 1</th>\n",
       "      <td>N</td>\n",
       "      <td>N</td>\n",
       "      <td>N</td>\n",
       "      <td>N</td>\n",
       "      <td>N</td>\n",
       "      <td>N</td>\n",
       "      <td>N</td>\n",
       "      <td>N</td>\n",
       "      <td>N</td>\n",
       "      <td>N</td>\n",
       "      <td>...</td>\n",
       "      <td>N</td>\n",
       "      <td>N</td>\n",
       "      <td>N</td>\n",
       "      <td>N</td>\n",
       "      <td>N</td>\n",
       "      <td>N</td>\n",
       "      <td>N</td>\n",
       "      <td>N</td>\n",
       "      <td>N</td>\n",
       "      <td>N</td>\n",
       "    </tr>\n",
       "    <tr>\n",
       "      <th>Bacteria 2</th>\n",
       "      <td>N</td>\n",
       "      <td>N</td>\n",
       "      <td>N</td>\n",
       "      <td>N</td>\n",
       "      <td>N</td>\n",
       "      <td>N</td>\n",
       "      <td>N</td>\n",
       "      <td>N</td>\n",
       "      <td>N</td>\n",
       "      <td>N</td>\n",
       "      <td>...</td>\n",
       "      <td>N</td>\n",
       "      <td>N</td>\n",
       "      <td>N</td>\n",
       "      <td>N</td>\n",
       "      <td>N</td>\n",
       "      <td>N</td>\n",
       "      <td>N</td>\n",
       "      <td>N</td>\n",
       "      <td>N</td>\n",
       "      <td>N</td>\n",
       "    </tr>\n",
       "    <tr>\n",
       "      <th>Bacteria 3</th>\n",
       "      <td>N</td>\n",
       "      <td>N</td>\n",
       "      <td>N</td>\n",
       "      <td>N</td>\n",
       "      <td>N</td>\n",
       "      <td>N</td>\n",
       "      <td>N</td>\n",
       "      <td>N</td>\n",
       "      <td>N</td>\n",
       "      <td>N</td>\n",
       "      <td>...</td>\n",
       "      <td>N</td>\n",
       "      <td>N</td>\n",
       "      <td>N</td>\n",
       "      <td>N</td>\n",
       "      <td>N</td>\n",
       "      <td>N</td>\n",
       "      <td>N</td>\n",
       "      <td>N</td>\n",
       "      <td>N</td>\n",
       "      <td>N</td>\n",
       "    </tr>\n",
       "    <tr>\n",
       "      <th>Bacteria 4</th>\n",
       "      <td>N</td>\n",
       "      <td>N</td>\n",
       "      <td>N</td>\n",
       "      <td>N</td>\n",
       "      <td>N</td>\n",
       "      <td>N</td>\n",
       "      <td>N</td>\n",
       "      <td>N</td>\n",
       "      <td>N</td>\n",
       "      <td>N</td>\n",
       "      <td>...</td>\n",
       "      <td>N</td>\n",
       "      <td>N</td>\n",
       "      <td>N</td>\n",
       "      <td>N</td>\n",
       "      <td>N</td>\n",
       "      <td>N</td>\n",
       "      <td>N</td>\n",
       "      <td>N</td>\n",
       "      <td>N</td>\n",
       "      <td>N</td>\n",
       "    </tr>\n",
       "  </tbody>\n",
       "</table>\n",
       "<p>5 rows × 73016 columns</p>\n",
       "</div>"
      ],
      "text/plain": [
       "           tggagcgccgggcggatcggttccgtactat ggagcgccgggcggatcggttccgtactatc  \\\n",
       "Bacteria 0                               Y                               Y   \n",
       "Bacteria 1                               N                               N   \n",
       "Bacteria 2                               N                               N   \n",
       "Bacteria 3                               N                               N   \n",
       "Bacteria 4                               N                               N   \n",
       "\n",
       "           gagcgccgggcggatcggttccgtactatcc agcgccgggcggatcggttccgtactatccg  \\\n",
       "Bacteria 0                               Y                               Y   \n",
       "Bacteria 1                               N                               N   \n",
       "Bacteria 2                               N                               N   \n",
       "Bacteria 3                               N                               N   \n",
       "Bacteria 4                               N                               N   \n",
       "\n",
       "           gcgccgggcggatcggttccgtactatccgt cgccgggcggatcggttccgtactatccgta  \\\n",
       "Bacteria 0                               Y                               Y   \n",
       "Bacteria 1                               N                               N   \n",
       "Bacteria 2                               N                               N   \n",
       "Bacteria 3                               N                               N   \n",
       "Bacteria 4                               N                               N   \n",
       "\n",
       "           gccgggcggatcggttccgtactatccgtac ccgggcggatcggttccgtactatccgtact  \\\n",
       "Bacteria 0                               Y                               Y   \n",
       "Bacteria 1                               N                               N   \n",
       "Bacteria 2                               N                               N   \n",
       "Bacteria 3                               N                               N   \n",
       "Bacteria 4                               N                               N   \n",
       "\n",
       "           cgggcggatcggttccgtactatccgtactg gggcggatcggttccgtactatccgtactgc  \\\n",
       "Bacteria 0                               Y                               Y   \n",
       "Bacteria 1                               N                               N   \n",
       "Bacteria 2                               N                               N   \n",
       "Bacteria 3                               N                               N   \n",
       "Bacteria 4                               N                               N   \n",
       "\n",
       "            ... cttttggtctttcctgttaggtggaacgtta  \\\n",
       "Bacteria 0  ...                               N   \n",
       "Bacteria 1  ...                               N   \n",
       "Bacteria 2  ...                               N   \n",
       "Bacteria 3  ...                               N   \n",
       "Bacteria 4  ...                               N   \n",
       "\n",
       "           ttttggtctttcctgttaggtggaacgttac tttggtctttcctgttaggtggaacgttacc  \\\n",
       "Bacteria 0                               N                               N   \n",
       "Bacteria 1                               N                               N   \n",
       "Bacteria 2                               N                               N   \n",
       "Bacteria 3                               N                               N   \n",
       "Bacteria 4                               N                               N   \n",
       "\n",
       "           ttggtctttcctgttaggtggaacgttacct tggtctttcctgttaggtggaacgttaccta  \\\n",
       "Bacteria 0                               N                               N   \n",
       "Bacteria 1                               N                               N   \n",
       "Bacteria 2                               N                               N   \n",
       "Bacteria 3                               N                               N   \n",
       "Bacteria 4                               N                               N   \n",
       "\n",
       "           ggtctttcctgttaggtggaacgttacctac gtctttcctgttaggtggaacgttacctact  \\\n",
       "Bacteria 0                               N                               N   \n",
       "Bacteria 1                               N                               N   \n",
       "Bacteria 2                               N                               N   \n",
       "Bacteria 3                               N                               N   \n",
       "Bacteria 4                               N                               N   \n",
       "\n",
       "           tctttcctgttaggtggaacgttacctactt ctttcctgttaggtggaacgttacctacttc  \\\n",
       "Bacteria 0                               N                               N   \n",
       "Bacteria 1                               N                               N   \n",
       "Bacteria 2                               N                               N   \n",
       "Bacteria 3                               N                               N   \n",
       "Bacteria 4                               N                               N   \n",
       "\n",
       "           tttcctgttaggtggaacgttacctacttct  \n",
       "Bacteria 0                               N  \n",
       "Bacteria 1                               N  \n",
       "Bacteria 2                               N  \n",
       "Bacteria 3                               N  \n",
       "Bacteria 4                               N  \n",
       "\n",
       "[5 rows x 73016 columns]"
      ]
     },
     "execution_count": 3,
     "metadata": {},
     "output_type": "execute_result"
    }
   ],
   "source": [
    "#print shape of DNA_slices_df\n",
    "print(DNA_slices_df.shape)\n",
    "#print head of DNA_slices_df\n",
    "DNA_slices_df.head()\n"
   ]
  },
  {
   "cell_type": "markdown",
   "metadata": {},
   "source": [
    "## 1.B Label Encoding\n",
    "\n",
    "1b. Sklearn classifiers can only process numeric values. We need to then encode each feature with discrete integer values $(0, 1, 2, \\cdots)$.\n",
    "\n",
    "- For example if we were to ask participants their prefered level of spiciness in a study and provide them with the options, \"very spicy\", \"spicy\", \"mild\", \"no spice\", we could encode these categories as \"3-very spicy\", \"2-spicy\", \"1-mild\", \"0-no spice\".\n",
    "\n",
    "- We encode the resistance feature as 0 - \"resistant\" and 1 - \"susceptible.\"\n",
    "\n",
    "- We encode all features of DNA strands as 0 - \"if its genome does not contain the strand of DNA\" and 1 - \"if its genome contains the strand of DNA.\""
   ]
  },
  {
   "cell_type": "markdown",
   "metadata": {},
   "source": [
    "### 1.B.1 Encoding Resistance Labels\n",
    "First, we encode *antibiotic_resistance_labels* array into 0's and 1's.\n",
    "\n",
    "#### I. Get unique labels"
   ]
  },
  {
   "cell_type": "code",
   "execution_count": null,
   "metadata": {
    "pycharm": {
     "is_executing": false
    }
   },
   "outputs": [],
   "source": [
    "antibiotic_resistance_labels"
   ]
  },
  {
   "cell_type": "code",
   "execution_count": null,
   "metadata": {},
   "outputs": [],
   "source": [
    "resistance_classes = ['resistant', 'susceptible']"
   ]
  },
  {
   "cell_type": "markdown",
   "metadata": {},
   "source": [
    "#### II. Initialize LabelEncoder()"
   ]
  },
  {
   "cell_type": "code",
   "execution_count": null,
   "metadata": {},
   "outputs": [],
   "source": [
    "#initialize label encoder as le\n",
    "from sklearn.preprocessing import LabelEncoder\n",
    "\n"
   ]
  },
  {
   "cell_type": "markdown",
   "metadata": {},
   "source": [
    "#### III. Train Label Encoder"
   ]
  },
  {
   "cell_type": "markdown",
   "metadata": {},
   "source": [
    "Using the ```fit``` method, we train our ```LabelEncoder()``` instance on how to encode our resistance data. "
   ]
  },
  {
   "cell_type": "code",
   "execution_count": null,
   "metadata": {},
   "outputs": [],
   "source": [
    "# train label encoder\n"
   ]
  },
  {
   "cell_type": "markdown",
   "metadata": {},
   "source": [
    "Let's have a look at class encoding we learned from the *resistance_classes* array."
   ]
  },
  {
   "cell_type": "code",
   "execution_count": null,
   "metadata": {},
   "outputs": [],
   "source": [
    "# print classes in le\n"
   ]
  },
  {
   "cell_type": "code",
   "execution_count": null,
   "metadata": {},
   "outputs": [],
   "source": [
    "resistance_classes"
   ]
  },
  {
   "cell_type": "markdown",
   "metadata": {},
   "source": [
    "#### IV. Transform Data"
   ]
  },
  {
   "cell_type": "markdown",
   "metadata": {},
   "source": [
    "We now use the ```transform``` method in the LabelEncoder class to encode lists of string into integer values."
   ]
  },
  {
   "cell_type": "code",
   "execution_count": null,
   "metadata": {},
   "outputs": [],
   "source": [
    "# transform the list ['resistant']\n"
   ]
  },
  {
   "cell_type": "code",
   "execution_count": null,
   "metadata": {},
   "outputs": [],
   "source": [
    "# transform the list ['susceptible']\n"
   ]
  },
  {
   "cell_type": "code",
   "execution_count": null,
   "metadata": {},
   "outputs": [],
   "source": [
    "#transform the list ['susceptible','resistant','susceptible']\n"
   ]
  },
  {
   "cell_type": "markdown",
   "metadata": {},
   "source": [
    "### Exercise 1.B.1: Encoding ```['susceptible','resistant','susceptible','susceptible']```\n",
    "\n",
    "Encode the list, ```['susceptible','resistant','susceptible','susceptible']```, using the ```transform``` method."
   ]
  },
  {
   "cell_type": "code",
   "execution_count": null,
   "metadata": {},
   "outputs": [],
   "source": [
    "# enter solution here\n",
    "\n",
    "test_list = ['susceptible','resistant','susceptible','susceptible']\n"
   ]
  },
  {
   "cell_type": "markdown",
   "metadata": {},
   "source": [
    "### Exercise 1.B.2: Encoding ```antibiotic_resistance_labels.values.ravel()```\n",
    "\n",
    "Encode ```antibiotic_resistance_labels.values.ravel()``` using the ```transform``` method. Print and store the output of the ```transform``` method as ```labels_encoded```."
   ]
  },
  {
   "cell_type": "code",
   "execution_count": null,
   "metadata": {},
   "outputs": [],
   "source": [
    "# enter solution here\n",
    "ar_labels = antibiotic_resistance_labels.values.ravel()\n",
    "\n"
   ]
  },
  {
   "cell_type": "markdown",
   "metadata": {},
   "source": [
    "I really like keeping everything consistent so I'll convert *labels_encoded* into a *Pandas DataFrame*."
   ]
  },
  {
   "cell_type": "code",
   "execution_count": null,
   "metadata": {
    "scrolled": true
   },
   "outputs": [],
   "source": [
    "labels_encoded_df = pd.DataFrame(labels_encoded,\n",
    "                                 columns=antibiotic_resistance_labels.columns,\n",
    "                                 index=antibiotic_resistance_labels.index) \n",
    "labels_encoded_df.head()"
   ]
  },
  {
   "cell_type": "markdown",
   "metadata": {},
   "source": [
    "### Exercise 1.B.3: Encoding First Column ```DNA_slices_df```\n",
    "\n",
    "This is a challenge exercise. Following the steps of above encode the first column of *DNA_slices_df* using the list *genome_values*. I grab the first column of *DNA_slices_df* and stored it in *first_column*.\n",
    "\n",
    "**Note: there is no need to load LabelEncoder from the preprocessing module and re-instantiate LabelEncoder again. That is, you don't have to run**\n",
    "\n",
    "```#load label encoder\n",
    "from sklearn.preprocessing import LabelEncoder\n",
    "le = LabelEncoder()```.\n",
    "\n",
    "**Bonus: Why don't you need to run the code above again?**"
   ]
  },
  {
   "cell_type": "code",
   "execution_count": null,
   "metadata": {},
   "outputs": [],
   "source": [
    "# get the first column\n",
    "first_column = DNA_slices_df.iloc[:,0]\n",
    "# get head of the data\n",
    "print(first_column.head())\n",
    "\n",
    "# unique values in our dataframe\n",
    "genome_values = [\"N\",\"Y\"]"
   ]
  },
  {
   "cell_type": "code",
   "execution_count": null,
   "metadata": {},
   "outputs": [],
   "source": [
    "# enter solution here\n"
   ]
  },
  {
   "cell_type": "markdown",
   "metadata": {},
   "source": [
    "The ```le.fit_transform(data)``` method of a ```LabelEncoder``` instance runs the ```fit``` method to learn the encoding from the ```data``` argument and then immediately applies the learned encoding to ```data```."
   ]
  },
  {
   "cell_type": "code",
   "execution_count": null,
   "metadata": {},
   "outputs": [],
   "source": [
    "#how the fit transform function works\n",
    "\n",
    "# don't need to grab a unique list of elements to learn encoding\n",
    "# fit transform learns the encoding and encodings the column"
   ]
  },
  {
   "cell_type": "markdown",
   "metadata": {},
   "source": [
    "Rather than running a ```for``` loop to encode each column of the ```DNA_slices_df```, we can use the ```apply``` method of a pandas data array to run the ```transform``` function on each column."
   ]
  },
  {
   "cell_type": "code",
   "execution_count": null,
   "metadata": {},
   "outputs": [],
   "source": [
    "genome_values = [\"Y\", \"N\"]\n",
    "le.fit(genome_values)\n",
    "DNA_slices_df_encoded = DNA_slices_df.apply(le.transform)\n",
    "DNA_slices_df_encoded.head()"
   ]
  },
  {
   "cell_type": "markdown",
   "metadata": {},
   "source": [
    "## 1.C Training-Test Split\n",
    "\n",
    "The next preprocessing step is the generate a training set and test set. When building a machine learning model, it is necessary to train and evaluate the accuracy of the model. The training set is used to train the model. The test set is used to evaluate model accuracy."
   ]
  },
  {
   "cell_type": "code",
   "execution_count": null,
   "metadata": {
    "pycharm": {
     "is_executing": false
    }
   },
   "outputs": [],
   "source": [
    "from sklearn.model_selection import train_test_split\n",
    "\n",
    "# do 80:20 split\n",
    "# write training set split here for DNA_training_set, \n",
    "# DNA_test_set, labels_training_set, labels_test_set\n",
    "# train_size = 0.8, test_size = 0.2\n"
   ]
  },
  {
   "cell_type": "code",
   "execution_count": null,
   "metadata": {},
   "outputs": [],
   "source": []
  },
  {
   "cell_type": "markdown",
   "metadata": {},
   "source": [
    "Let's have a look at our dataset!"
   ]
  },
  {
   "cell_type": "code",
   "execution_count": null,
   "metadata": {},
   "outputs": [],
   "source": [
    "# shape and head of the predictors training set\n"
   ]
  },
  {
   "cell_type": "code",
   "execution_count": null,
   "metadata": {},
   "outputs": [],
   "source": [
    "# shape and head of the response variables training set\n"
   ]
  },
  {
   "cell_type": "code",
   "execution_count": null,
   "metadata": {},
   "outputs": [],
   "source": [
    "# shape and head of the predictors test set\n"
   ]
  },
  {
   "cell_type": "code",
   "execution_count": null,
   "metadata": {},
   "outputs": [],
   "source": [
    "# shape and head of the response variables test set\n"
   ]
  },
  {
   "cell_type": "markdown",
   "metadata": {},
   "source": [
    "### Exercise 1.C.1: 70%:30% Training-Test Set Split\n",
    "\n",
    "Following the process above, return a $70\\%$ and $30\\%$ training-test split of ```DNA_slices_df_encoded, labels_encoded_df```. Like above, store the output in ```DNA_training_set, DNA_test_set, labels_training_set, labels_test_set```.\n",
    "\n",
    "Also run the code below to print the head and shape of each data. Did the split occurred? Did the split make everything the correct dimensions?"
   ]
  },
  {
   "cell_type": "code",
   "execution_count": null,
   "metadata": {},
   "outputs": [],
   "source": [
    "# enter solution here\n",
    "\n"
   ]
  },
  {
   "cell_type": "code",
   "execution_count": null,
   "metadata": {},
   "outputs": [],
   "source": [
    "print(DNA_training_set.shape)\n",
    "DNA_training_set.head()"
   ]
  },
  {
   "cell_type": "code",
   "execution_count": null,
   "metadata": {},
   "outputs": [],
   "source": [
    "print(labels_training_set.shape)\n",
    "labels_training_set.head()"
   ]
  },
  {
   "cell_type": "code",
   "execution_count": null,
   "metadata": {},
   "outputs": [],
   "source": [
    "print(DNA_test_set.shape)\n",
    "DNA_test_set.head()"
   ]
  },
  {
   "cell_type": "code",
   "execution_count": null,
   "metadata": {},
   "outputs": [],
   "source": [
    "print(labels_test_set.shape)\n",
    "labels_test_set.head()"
   ]
  },
  {
   "cell_type": "markdown",
   "metadata": {},
   "source": [
    "The dimensions look great! It is a 70-30 split."
   ]
  }
 ],
 "metadata": {
  "kernelspec": {
   "display_name": "Python 3",
   "language": "python",
   "name": "python3"
  },
  "language_info": {
   "codemirror_mode": {
    "name": "ipython",
    "version": 3
   },
   "file_extension": ".py",
   "mimetype": "text/x-python",
   "name": "python",
   "nbconvert_exporter": "python",
   "pygments_lexer": "ipython3",
   "version": "3.7.6"
  },
  "pycharm": {
   "stem_cell": {
    "cell_type": "raw",
    "metadata": {
     "collapsed": false
    },
    "source": []
   }
  }
 },
 "nbformat": 4,
 "nbformat_minor": 2
}
