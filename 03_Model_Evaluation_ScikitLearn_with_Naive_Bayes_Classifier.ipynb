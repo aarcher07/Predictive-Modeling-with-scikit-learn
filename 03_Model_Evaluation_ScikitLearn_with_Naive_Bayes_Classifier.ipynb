{
 "cells": [
  {
   "cell_type": "markdown",
   "metadata": {},
   "source": [
    "# 0. Review \n",
    "\n",
    "## 0.A Scikit-Learn\n",
    "\n",
    "Scikit-Learn is a machine learning python package. It allows users to access machine learning algorithms via **object-oriented programming**.\n",
    "\n",
    "## 0.B Data Set\n",
    "\n",
    "I will be using a dataset of antibiotic resistance in bacteria strains. \n",
    "\n",
    "- Each bacteria is labeled with its resistance to the antibiotic, azithromycin.\n",
    "- Additionally, each bacteria sample is labelled if its genome contains certain strands of DNA.\n",
    "\n",
    "We would like to learn antibiotic resistance from the bacterial genome.\n",
    "\n",
    "- Our predictors are whether strands of DNA are present.\n",
    "- Our response are resistance classes.\n",
    "\n",
    "\n",
    "## 0.C Data Preprocessing\n",
    "\n",
    "We did a bit of data preprocessing: \n",
    "\n",
    "- encoded the resistance feature as 0 - \"resistant,\" 1 - \"susceptible\".\n",
    "- encoded all features of the DNA strands as , 0 - \"if its genome does not contain the strand of DNA\", 1 - \"if its genome contains the strand of DNA.\"\n",
    "- did a 70:30 training-test split\n",
    "\n",
    "\n",
    "## 0.D Trained Model: Gaussian Naive Bayes\n",
    "\n",
    "Before, we use a Gaussian Naive Bayes algorithm to learn a classifier of antibiotic resistance in the bacteria. I run the code to create the model again."
   ]
  },
  {
   "cell_type": "code",
   "execution_count": null,
   "metadata": {},
   "outputs": [],
   "source": [
    "import pandas as pd\n",
    "\n",
    "#load training data\n",
    "labels_training_set = pd.read_csv('datasets/labels_training_set',index_col=0)\n",
    "DNA_training_set = pd.read_csv('datasets/DNA_training_set',index_col=0)\n",
    "\n",
    "labels_test_set = pd.read_csv('datasets/labels_test_set',index_col=0)\n",
    "DNA_test_set = pd.read_csv('datasets/DNA_test_set',index_col=0)"
   ]
  },
  {
   "cell_type": "code",
   "execution_count": null,
   "metadata": {},
   "outputs": [],
   "source": [
    "#import naive bayes\n",
    "\n",
    "from sklearn.naive_bayes import GaussianNB\n",
    "\n",
    "#instantiate a Naive Bayes classifier \n",
    "gNB = GaussianNB()\n",
    "\n",
    "#learn classifier from data \n",
    "gNB.fit(DNA_training_set,labels_training_set.values.ravel())"
   ]
  },
  {
   "cell_type": "markdown",
   "metadata": {},
   "source": [
    "**In this section, we will be evaluating the accuracy of the trained model on the test data.**"
   ]
  },
  {
   "cell_type": "markdown",
   "metadata": {},
   "source": [
    "# 3. Model Evaluation: Gaussian Naive Bayes\n",
    "\n",
    "*3. Finally, make **predictions** on **new (unseen) data** for which the label is unknown*\n",
    "\n",
    "The **unseen data** is the test data. The model trained with the training set does not know anything about the testing data. This means that the model has learned nothing from the test data.\n",
    "\n",
    "\n",
    "## 3.A Check Testing Set\n",
    "\n",
    "First, let's check if our data has loaded correctly."
   ]
  },
  {
   "cell_type": "code",
   "execution_count": null,
   "metadata": {},
   "outputs": [],
   "source": [
    "# print head of labels_test_set"
   ]
  },
  {
   "cell_type": "code",
   "execution_count": null,
   "metadata": {},
   "outputs": [],
   "source": [
    "# print head of DNA_test_set"
   ]
  },
  {
   "cell_type": "markdown",
   "metadata": {},
   "source": [
    "Everything looks good!"
   ]
  },
  {
   "cell_type": "markdown",
   "metadata": {},
   "source": [
    "## 3.B Evaluate the test set\n",
    "\n",
    "The ```GaussianNB()``` class has a method called ```predict```. ```predict``` determines the antimicrobial resistance of any observation with the same features as observations in the training set.\n",
    "\n",
    "### 3.B.1 Predicting a single observation\n",
    "\n",
    "Let's consider the first observation in our test set."
   ]
  },
  {
   "cell_type": "code",
   "execution_count": null,
   "metadata": {},
   "outputs": [],
   "source": [
    "first_observation = DNA_test_set.iloc[[0]]\n",
    "first_observation"
   ]
  },
  {
   "cell_type": "markdown",
   "metadata": {},
   "source": [
    "Now, let's use our learned model to evaluate the first observation of our test set. "
   ]
  },
  {
   "cell_type": "code",
   "execution_count": null,
   "metadata": {},
   "outputs": [],
   "source": [
    "# predict class of first_observation"
   ]
  },
  {
   "cell_type": "markdown",
   "metadata": {},
   "source": [
    "Our model determined that the first observation in our test set is $0$. This means that the model thinks that this observation is resistant."
   ]
  },
  {
   "cell_type": "markdown",
   "metadata": {},
   "source": [
    "How does the predicted resistance compare to the actual antimicrobial resistance of the first observation in the test set?"
   ]
  },
  {
   "cell_type": "code",
   "execution_count": null,
   "metadata": {},
   "outputs": [],
   "source": [
    "labels_test_set.iloc[[0]]"
   ]
  },
  {
   "cell_type": "markdown",
   "metadata": {},
   "source": [
    "The model predicts the correct resistance class!"
   ]
  },
  {
   "cell_type": "markdown",
   "metadata": {},
   "source": [
    "### Exercise 3.B.1: Predicting the resistance of the tenth observation\n",
    "\n",
    "Using the trained Gaussian Naive Bayes model, ```gNB```, predict the antibiotic resistance of the tenth observation in our test set. Like above, you can retrieve the tenth observation using the command ```DNA_test_set.iloc[[9]]```. How does predicted resistance compare to actual antimicrobial resistance of the tenth observation?\n"
   ]
  },
  {
   "cell_type": "code",
   "execution_count": null,
   "metadata": {},
   "outputs": [],
   "source": [
    "tenth_observation=DNA_test_set.iloc[[9]]\n",
    "\n",
    "#actual class that the tenth observation falls in\n",
    "labels_test_set.iloc[[9]]"
   ]
  },
  {
   "cell_type": "code",
   "execution_count": null,
   "metadata": {},
   "outputs": [],
   "source": [
    "# enter solution here\n",
    "\n"
   ]
  },
  {
   "cell_type": "markdown",
   "metadata": {},
   "source": [
    "The model incorrectly predicts that the tenth observation will be resistant. "
   ]
  },
  {
   "cell_type": "markdown",
   "metadata": {},
   "source": [
    "### 3.B.2 Predicting the entire dataset\n",
    "Now using ```predict``` and our learned model, let's evaluate the entire model on the test set."
   ]
  },
  {
   "cell_type": "code",
   "execution_count": null,
   "metadata": {},
   "outputs": [],
   "source": [
    "# predict classes observations in DNA_test_set"
   ]
  },
  {
   "cell_type": "markdown",
   "metadata": {},
   "source": [
    "How does the predicted data set compare to the actual data set of antimicrobial resistance?"
   ]
  },
  {
   "cell_type": "code",
   "execution_count": null,
   "metadata": {},
   "outputs": [],
   "source": [
    "pd.DataFrame([gNB.predict(DNA_test_set),labels_test_set.values.ravel()], \n",
    "             columns=DNA_test_set.index,index=['Predicted','Actual'])"
   ]
  },
  {
   "cell_type": "markdown",
   "metadata": {},
   "source": [
    "## 3.C Predict Probabilities \n",
    "\n",
    "How does the classifier decide which category an observation belongs to? \n",
    "\n",
    "\n",
    "The classifier considers the possibility that an observation can fall into either the susceptible or resistant class. It then computes the probability of being in either class from the features of the observation. \n",
    "\n",
    "<img src=\"images/03_predict_prob.png\" alt=\"Drawing\" style=\"width: 600px;\"/>\n",
    "\n",
    "\n",
    "If the probability of being in a class is above some threshold, the classifier assigns that class to the observation in question.\n",
    "\n",
    "We can retrieve this probability using the ```predict_proba``` method.\n",
    "\n",
    "### 3.C.1 Probability values of a single observation\n"
   ]
  },
  {
   "cell_type": "code",
   "execution_count": null,
   "metadata": {},
   "outputs": [],
   "source": [
    "# predict class of first_observation"
   ]
  },
  {
   "cell_type": "markdown",
   "metadata": {},
   "source": [
    "The model predicts a $100\\%$ chance that the observation will be resistant and a $0\\%$ chance that the observation will be susceptible."
   ]
  },
  {
   "cell_type": "markdown",
   "metadata": {},
   "source": [
    "### Exercise 3.C.1: Probability of the tenth observation\n",
    "\n",
    "Using the trained Gaussian Naive Bayes model, ```gNB```, and the ```predict_proba``` method, compute and interept the probability values of the tenth observation in our test set. "
   ]
  },
  {
   "cell_type": "code",
   "execution_count": null,
   "metadata": {},
   "outputs": [],
   "source": [
    "tenth_observation"
   ]
  },
  {
   "cell_type": "code",
   "execution_count": null,
   "metadata": {},
   "outputs": [],
   "source": [
    "# enter solution here\n"
   ]
  },
  {
   "cell_type": "markdown",
   "metadata": {},
   "source": [
    "The model predicts a $100\\%$ chance that the observation will be resistant and a $0\\%$ chance that the observation will be susceptible."
   ]
  },
  {
   "cell_type": "markdown",
   "metadata": {},
   "source": [
    "### 3.C.2 Predicting the entire dataset\n",
    "\n",
    "Now using ```predict_proba``` and our learned model, let's compute the probabilities of all observations in the test set."
   ]
  },
  {
   "cell_type": "code",
   "execution_count": null,
   "metadata": {
    "scrolled": true
   },
   "outputs": [],
   "source": [
    "# predict prob of DNA_test_set\n",
    "# store in probabilities_test_set\n",
    "\n"
   ]
  },
  {
   "cell_type": "code",
   "execution_count": null,
   "metadata": {
    "scrolled": true
   },
   "outputs": [],
   "source": [
    "pd.DataFrame(probabilities_test_set,\n",
    "             index=DNA_test_set.index,\n",
    "             columns=['Probability of being resistant','Probability of being susceptible'])"
   ]
  },
  {
   "cell_type": "markdown",
   "metadata": {},
   "source": [
    "## 3.D Confusion Matrix\n",
    "\n",
    "Let's go back to the predicted classes of the test observations."
   ]
  },
  {
   "cell_type": "code",
   "execution_count": null,
   "metadata": {},
   "outputs": [],
   "source": [
    "pd.DataFrame([gNB.predict(DNA_test_set),labels_test_set.values.ravel()], \n",
    "             columns=DNA_test_set.index,index=['Predicted','Actual'])"
   ]
  },
  {
   "cell_type": "markdown",
   "metadata": {},
   "source": [
    "It's quite difficult to compare list of predicted and actual resistance categories. \n",
    "\n",
    "Is there a more quantitative way of evaluating the quality of the classifier? Yes, there is a more quantitative way! One popular way of evaluating the quality of a classifier is **Confusion Matrix**.\n",
    "\n",
    "**Confusion Matrix** tabulates the results that are correctly and incorrectly classified.\n",
    "\n",
    "<img src=\"images/03_confusion_matrix.png\" alt=\"Drawing\" style=\"width: 500px;\"/>\n"
   ]
  },
  {
   "cell_type": "markdown",
   "metadata": {},
   "source": [
    "The ```confusion_matrix``` method in sklearn.metrics module generates the confusion matrix."
   ]
  },
  {
   "cell_type": "code",
   "execution_count": null,
   "metadata": {},
   "outputs": [],
   "source": [
    "from sklearn.metrics import confusion_matrix\n",
    "\n",
    "# confusion matrix of gNB.predict(DNA_test_set) and labels_test_set\n",
    "# store in confusionMatrix\n",
    "\n"
   ]
  },
  {
   "cell_type": "code",
   "execution_count": null,
   "metadata": {},
   "outputs": [],
   "source": [
    "confusionMatrix_df = pd.DataFrame(confusionMatrix,\n",
    "                                  columns=['Predicted: 0' , 'Predicted: 1'],\n",
    "                                  index=['Actual: 0' , 'Actual: 1'])\n",
    "confusionMatrix_df"
   ]
  },
  {
   "cell_type": "markdown",
   "metadata": {},
   "source": [
    "## 3.D.1 Exercise\n",
    "\n",
    "The cells of the confusion matrix have special names:\n",
    "    \n",
    "\n",
    "| . | Predicted: 0 | Predicted: 1 |\n",
    "| --- | --- | --- |\n",
    "| **Actual: 0** | True Negative (TN) | False Positive  (FP) |\n",
    "| **Actual: 1** | False Negative (FN) | True Positive  (TP) |\n",
    "    \n",
    "Given these names and the confusion matrix we generated above, what are the values for\n",
    "- True Negative\n",
    "- False Positive\n",
    "- False Negative\n",
    "- True Positive?\n",
    "\n",
    "With your neighbor, discuss the definition of these words."
   ]
  },
  {
   "cell_type": "markdown",
   "metadata": {},
   "source": [
    "enter solution here\n",
    "\n"
   ]
  },
  {
   "cell_type": "markdown",
   "metadata": {},
   "source": [
    "## 3.D.2 Exercise\n",
    "\n",
    "We have two important formulas:\n",
    "$$ \\text{true positive rates} = \\frac{\\text{TP}}{\\text{TP} + \\text{FN}}= \\text{fraction of susceptible bacteria correctly classified} $$\n",
    "\n",
    "$$ \\text{false positive rates} = \\frac{\\text{FP}}{\\text{FP} + \\text{TN}} = \\text{fraction of resistant bacteria incorrectly classified}.$$\n",
    "\n",
    "Calculate these values for the confusion matrix above."
   ]
  },
  {
   "cell_type": "code",
   "execution_count": null,
   "metadata": {},
   "outputs": [],
   "source": [
    "# enter solution here true positive rates\n",
    "\n"
   ]
  },
  {
   "cell_type": "code",
   "execution_count": null,
   "metadata": {},
   "outputs": [],
   "source": [
    "# enter solution here false positive rates\n",
    "\n"
   ]
  },
  {
   "cell_type": "markdown",
   "metadata": {},
   "source": [
    "## 3.E Quality of Model"
   ]
  },
  {
   "cell_type": "markdown",
   "metadata": {},
   "source": [
    "The quality of a classifier is measured by the fraction of all observations correctly classified. The ```score``` method of the ```GaussianNB()``` computes the fraction of observations correctly classified."
   ]
  },
  {
   "cell_type": "code",
   "execution_count": null,
   "metadata": {},
   "outputs": [],
   "source": [
    "# score of DNA_test_set, labels_test_set \n",
    "\n",
    "\n"
   ]
  }
 ],
 "metadata": {
  "kernelspec": {
   "display_name": "Python 3",
   "language": "python",
   "name": "python3"
  },
  "language_info": {
   "codemirror_mode": {
    "name": "ipython",
    "version": 3
   },
   "file_extension": ".py",
   "mimetype": "text/x-python",
   "name": "python",
   "nbconvert_exporter": "python",
   "pygments_lexer": "ipython3",
   "version": "3.7.3"
  }
 },
 "nbformat": 4,
 "nbformat_minor": 2
}
