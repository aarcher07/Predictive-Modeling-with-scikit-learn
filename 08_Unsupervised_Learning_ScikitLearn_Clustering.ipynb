{
 "cells": [
  {
   "cell_type": "markdown",
   "metadata": {},
   "source": [
    "# 0. Review\n",
    "## 0.A Scikit-Learn\n",
    "\n",
    "Scikit-Learn is a machine learning python package. It allows users to access machine learning algorithms via **object-oriented programming**."
   ]
  },
  {
   "cell_type": "markdown",
   "metadata": {},
   "source": [
    "## 0.B Data Set\n",
    "\n",
    "I will be using a dataset of antibiotic resistance in bacteria strains. \n",
    "\n",
    "- Each bacteria is labeled with its resistance to the antibiotic, azithromycin.\n",
    "- Additionally, each bacteria sample is labelled if its genome contains certain strands of DNA.\n",
    "\n",
    "We would like to learn antibiotic resistance from the bacterial genome. \n",
    "\n",
    "- Our predictors are whether strands of DNA are present.\n",
    "- Our response are resistance classes.\n",
    "\n",
    "First, we have to clean our data up. **This section will focus on data preprocessing.**\n",
    "\n",
    "\n",
    "## 0.C Data Preprocessing\n",
    "\n",
    "We did a bit of data preprocessing: \n",
    "\n",
    "- encoded the resistance feature as 0 - \"resistant,\" 1 - \"susceptible\".\n",
    "- encoded all features of the DNA strands as, 0 - \"if its genome does not contain the strand of DNA\", 1 - \"if its genome contains the strand of DNA.\"\n",
    "- standardized dataset of presence of DNA strands\n",
    "\n",
    "\n",
    "## 0.C Data Reduction\n",
    "\n",
    "We also reduce our dataset to two and three dimensions using PCA\n",
    "\n",
    "\n",
    "\n",
    "## 0.D Load Data\n",
    "\n",
    "Now, we reduced our dataset. Run the code below to load \n",
    "\n",
    "- the dataset, ```antibiotic_resistance_encoded_labels```, containing antibotic resistance phentype for each bacteria\n",
    "- the dataset, ```transformed_DNA_2d```, containing DNA data reduced to 2d using PCA\n",
    "- and the dataset, ```transformed_DNA_3d```, containing DNA data reduced to 3d using PCA\n"
   ]
  },
  {
   "cell_type": "code",
   "execution_count": 4,
   "metadata": {
    "pycharm": {
     "is_executing": false
    }
   },
   "outputs": [],
   "source": [
    "import pandas as pd\n",
    "antibiotic_resistance_all_labels = pd.read_csv('datasets/antibiotic_resistance_encoded_labels',\n",
    "                                               index_col=0)\n",
    "transformed_DNA_2d = pd.read_csv('datasets/transformed_DNA_2d',index_col=0)\n",
    "transformed_DNA_3d = pd.read_csv('datasets/transformed_DNA_3d',index_col=0)"
   ]
  },
  {
   "cell_type": "markdown",
   "metadata": {},
   "source": [
    "**In this section, we will be covering unsupervised learning.**\n",
    "\n",
    "Recall that **unsupervised learning** is extracting structure from data (self-organized learning - find previously unknown patterns in data set without pre-existing labels)."
   ]
  },
  {
   "cell_type": "markdown",
   "metadata": {},
   "source": [
    "# 8. Clustering: KMeans\n",
    "\n",
    "Clustering is a means of grouping data points together based on their proximity to each other.\n",
    "\n",
    "A popular technique of clustering data is KMeans. KMeans assigns data points to a cluster based on a data points distance to the closest cluster center (centroid).\n",
    "\n",
    "How does KMeans decide cluster centers?\n",
    "\n",
    "## 8.A KMeans Algorithm\n",
    "\n",
    "\n",
    "Consider the point cloud of data,\n",
    "\n",
    "<img src=\"images/08_KMeans_00.png\" alt=\"Drawing\" style=\"width: 200px;\"/>\n",
    "\n",
    "1) *Randomly give each data point a number 1 through 3*. Each number represents a cluster assignment.\n",
    "\n",
    "<img src=\"images/08_KMeans_01.png\" alt=\"Drawing\" style=\"width: 200px;\"/>\n",
    "\n",
    "\n",
    "2a) *For each cluster assignment, compute the centroid (the center of the cluster)*. The centroid is the mean of corresponding data points coordinates.\n",
    "\n",
    "\n",
    "<img src=\"images/08_KMeans_02.png\" alt=\"Drawing\" style=\"width: 200px;\"/>\n",
    "\n",
    "3a) Update cluster assignment by *assigning each data point to the nearest centroid*\n",
    "\n",
    "<img src=\"images/08_KMeans_03.png\" alt=\"Drawing\" style=\"width: 200px;\"/>\n",
    "\n",
    "4) Repeat step (2a)\n",
    "<img src=\"images/08_KMeans_04.png\" alt=\"Drawing\" style=\"width: 200px;\"/>\n",
    "\n",
    " and step (2b) until the cluster assignments do not change.\n",
    "\n",
    "<img src=\"images/08_KMeans_05.png\" alt=\"Drawing\" style=\"width: 200px;\"/>\n",
    "\n"
   ]
  },
  {
   "cell_type": "markdown",
   "metadata": {},
   "source": [
    "## 8.B Clustering 2-D Projected Data\n",
    "\n",
    "I'll show the results of KMeans on the 2-D projected data."
   ]
  },
  {
   "cell_type": "markdown",
   "metadata": {},
   "source": [
    "### I. Initialize ```KMeans``` object"
   ]
  },
  {
   "cell_type": "code",
   "execution_count": 17,
   "metadata": {},
   "outputs": [],
   "source": [
    "from sklearn.cluster import KMeans\n",
    "kmeans = KMeans(n_clusters=2)"
   ]
  },
  {
   "cell_type": "markdown",
   "metadata": {},
   "source": [
    "### II. Fit KMeans object"
   ]
  },
  {
   "cell_type": "code",
   "execution_count": 18,
   "metadata": {},
   "outputs": [
    {
     "data": {
      "text/plain": [
       "KMeans(algorithm='auto', copy_x=True, init='k-means++', max_iter=300,\n",
       "    n_clusters=2, n_init=10, n_jobs=1, precompute_distances='auto',\n",
       "    random_state=None, tol=0.0001, verbose=0)"
      ]
     },
     "execution_count": 18,
     "metadata": {},
     "output_type": "execute_result"
    }
   ],
   "source": [
    "kmeans.fit(transformed_DNA_2d)"
   ]
  },
  {
   "cell_type": "markdown",
   "metadata": {},
   "source": [
    "### III. Get cluster labels"
   ]
  },
  {
   "cell_type": "code",
   "execution_count": 19,
   "metadata": {},
   "outputs": [],
   "source": [
    "cluster_labels = kmeans.labels_"
   ]
  },
  {
   "cell_type": "markdown",
   "metadata": {},
   "source": [
    "###  IV. Plot clusters"
   ]
  },
  {
   "cell_type": "code",
   "execution_count": 20,
   "metadata": {},
   "outputs": [
    {
     "data": {
      "image/png": "[encoded data removed]",
      "text/plain": [
       "<Figure size 432x288 with 1 Axes>"
      ]
     },
     "metadata": {
      "needs_background": "light"
     },
     "output_type": "display_data"
    }
   ],
   "source": [
    "import matplotlib.pyplot as plt\n",
    "\n",
    "\n",
    "#plot suspectible strains\n",
    "\n",
    "cluster_label_assignment_0 = [label == 0 for label in cluster_labels]\n",
    "\n",
    "plt.scatter(transformed_DNA_2d.iloc[cluster_label_assignment_0, 0],\n",
    "            transformed_DNA_2d.iloc[cluster_label_assignment_0, 1],\n",
    "            label='cluster label = 1',\n",
    "            c='r')\n",
    "\n",
    "#plot resistant strains\n",
    "\n",
    "cluster_label_assignment_1 = [label == 1 for label in cluster_labels]\n",
    "\n",
    "plt.scatter(transformed_DNA_2d.iloc[cluster_label_assignment_1, 0],\n",
    "            transformed_DNA_2d.iloc[cluster_label_assignment_1, 1],\n",
    "            label='cluster label = 1 ',\n",
    "            c='b')\n",
    "\n",
    "plt.xlabel('First Component')\n",
    "plt.ylabel('Second Component')\n",
    "plt.legend()\n",
    "plt.show()"
   ]
  },
  {
   "cell_type": "markdown",
   "metadata": {},
   "source": [
    "### 8.B.2 Exercise: Retrieving the centroid coordinates\n"
   ]
  },
  {
   "cell_type": "markdown",
   "metadata": {},
   "source": [
    "### 8.B.2 Exercise: Predicting Cluster Assignment\n",
    "\n"
   ]
  },
  {
   "cell_type": "markdown",
   "metadata": {},
   "source": [
    "## 8.C Exercise: KMeans on 3-D Projected Data \n"
   ]
  },
  {
   "cell_type": "markdown",
   "metadata": {},
   "source": [
    "### 8.C.2 Exercise: Retrieving the centroid coordinates\n"
   ]
  },
  {
   "cell_type": "markdown",
   "metadata": {},
   "source": [
    "### 8.C.2 Exercise: Predicting Cluster Assignment\n"
   ]
  },
  {
   "cell_type": "code",
   "execution_count": null,
   "metadata": {},
   "outputs": [],
   "source": []
  }
 ],
 "metadata": {
  "kernelspec": {
   "display_name": "Python 3",
   "language": "python",
   "name": "python3"
  },
  "language_info": {
   "codemirror_mode": {
    "name": "ipython",
    "version": 3
   },
   "file_extension": ".py",
   "mimetype": "text/x-python",
   "name": "python",
   "nbconvert_exporter": "python",
   "pygments_lexer": "ipython3",
   "version": "3.7.3"
  },
  "pycharm": {
   "stem_cell": {
    "cell_type": "raw",
    "metadata": {
     "collapsed": false
    },
    "source": []
   }
  }
 },
 "nbformat": 4,
 "nbformat_minor": 2
}
